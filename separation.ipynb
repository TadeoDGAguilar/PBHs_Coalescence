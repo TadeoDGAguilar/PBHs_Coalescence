{
 "cells": [
  {
   "cell_type": "code",
   "execution_count": 3,
   "metadata": {},
   "outputs": [
    {
     "name": "stdout",
     "output_type": "stream",
     "text": [
      "Please write the value of mass without units:    20\n",
      "Separation:    1.4250522156470583e-11 Mpc\n"
     ]
    }
   ],
   "source": [
    "import numpy as np\n",
    "import matplotlib.pyplot as pl\n",
    "import matplotlib as mpl\n",
    "import math\n",
    "from scipy import constants\n",
    "from tqdm import tqdm\n",
    "from scipy.integrate import quad, dblquad\n",
    "from astropy.cosmology import WMAP9 as cosmo\n",
    "from astropy import constants as const\n",
    "import astropy.units as u\n",
    "from units import unit\n",
    "\n",
    "H0 = cosmo.H(0)  #cosmo.H(0)  <Quantity 69.32 km / (Mpc s)>\n",
    "\n",
    "\n",
    "mass_sun_in = float(input(\"Please write the value of mass without units:    \"))\n",
    "\n",
    "omega_rd = 8.070427106422706e-5 \n",
    "def H(z_eq):\n",
    "\tomega_m = 0.321 #From Planck / Arxiv:1807.06209\n",
    "\tomega_eo = 1.0 -  omega_rd - omega_m\n",
    "\tH_eq = (H0**2*(omega_rd*(1+z_eq)**4 + omega_m*(1+z_eq)**3 + omega_eo))**(0.5)\n",
    "\treturn H_eq\n",
    "\n",
    "z_eq = 3411\n",
    "\n",
    "def s(H_eq):\n",
    "\t#h = 0.674\n",
    "\t#rho_eq_crit = 2.7754e5*h**2*u.M_sun*u.parsec**-3\n",
    "\tM_pbh = mass_sun_in*const.M_sun\n",
    "\tomega_m_eq = (omega_rd)*(1+z_eq)**4\n",
    "\tfactor=200.0\n",
    "\tl = (((M_pbh*8*math.pi*const.G)/(3*(H_eq**2)*factor*omega_m_eq))*(1e-6*u.km**2/u.m**2)*(3.24078e-23*u.megaparsec/u.m))**(1/3) #I need to change mega parsec to parsec\n",
    "\treturn l\n",
    "\n",
    "print(\"Separation:   \", s(H(3411)))"
   ]
  },
  {
   "cell_type": "code",
   "execution_count": null,
   "metadata": {},
   "outputs": [],
   "source": []
  }
 ],
 "metadata": {
  "kernelspec": {
   "display_name": "Python 3",
   "language": "python",
   "name": "python3"
  },
  "language_info": {
   "codemirror_mode": {
    "name": "ipython",
    "version": 3
   },
   "file_extension": ".py",
   "mimetype": "text/x-python",
   "name": "python",
   "nbconvert_exporter": "python",
   "pygments_lexer": "ipython3",
   "version": "3.8.5"
  }
 },
 "nbformat": 4,
 "nbformat_minor": 4
}
