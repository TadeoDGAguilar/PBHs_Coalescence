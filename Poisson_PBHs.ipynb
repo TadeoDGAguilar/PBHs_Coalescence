{
 "cells": [
  {
   "cell_type": "markdown",
   "metadata": {},
   "source": [
    "# Poisson Distribution to PBHs\n",
    "\n",
    "**References:**  [arXiv:1910.06077](https://arxiv.org/pdf/1910.06077.pdf), https://arxiv.org/pdf/1904.00984.pdf,\n",
    "https://arxiv.org/pdf/1908.03596.pdf, https://arxiv.org/pdf/1805.03946.pdf, \n",
    "https://arxiv.org/pdf/0903.3184.pdf\n",
    "https://arxiv.org/pdf/1803.00070.pdf  #lecture\n",
    "\n",
    "\n",
    "**Misao Sasaki** [arXiv:1801.05235](https://arxiv.org/pdf/1801.05235.pdf)\n",
    "\n",
    "**Celoria**  [arXiv:1807.11489](https://arxiv.org/pdf/1807.11489.pdf)\n",
    "\n",
    "###### Code Writed by Tadeo D.\n"
   ]
  },
  {
   "cell_type": "code",
   "execution_count": 218,
   "metadata": {},
   "outputs": [],
   "source": [
    "import numpy as np\n",
    "import matplotlib.pyplot as pl\n",
    "import matplotlib as mpl\n",
    "import math\n",
    "import seaborn as sns\n",
    "from scipy import stats \n",
    "import csv\n",
    "from scipy import constants\n",
    "from tqdm import tqdm\n",
    "from scipy.integrate import quad, dblquad\n",
    "from astropy.cosmology import Planck18 as cosmo\n",
    "from astropy import constants as const\n",
    "import astropy.units as u\n",
    "from units import unit\n",
    "#from astropy.cosmology import WMAP9, z_at_value\n",
    "import pandas as pd\n",
    "from mpl_toolkits.mplot3d import Axes3D\n",
    "from matplotlib import cm\n",
    "pl.rcParams['figure.figsize'] = (16, 9)\n",
    "pl.style.use('ggplot')\n",
    "from sklearn import linear_model\n",
    "from sklearn.linear_model import LinearRegression\n",
    "from sklearn.metrics import mean_squared_error, r2_score\n",
    "#\n",
    "from mlxtend.plotting import plot_linear_regression\n",
    "from sympy import *"
   ]
  },
  {
   "cell_type": "markdown",
   "metadata": {},
   "source": [
    "#### Read Data From LIGO DATABASE"
   ]
  },
  {
   "cell_type": "code",
   "execution_count": 219,
   "metadata": {},
   "outputs": [],
   "source": [
    "df = pd.read_csv('LIGO_events')\n",
    "#df.shape\n",
    "#df.head()\n",
    "#df.describe()\n",
    "# Visualizamos rápidamente las caraterísticas de entrada\n",
    "#df.drop(['id','version','GPS', 'mass_1_source_lower', 'mass_1_source_upper',\n",
    "#         'mass_2_source_lower', 'mass_2_source_upper', 'network_matched_filter_snr',\n",
    "#         'network_matched_filter_snr_lower', 'chirp_mass', 'redshift_lower', 'redshift_upper',\n",
    "#         'far','far_lower','far_upper','final_mass_source_lower','final_mass_source_upper',\n",
    "#         'chirp_mass_upper','chirp_mass_lower','reference','jsonurl','catalog.shortName','chirp_mass_source',\n",
    "#         'chirp_mass_source_lower','chirp_mass_source_upper','network_matched_filter_snr_upper','luminosity_distance_lower',\n",
    "#         'luminosity_distance_upper','chi_eff','chi_eff_lower','chi_eff_upper','total_mass_source_lower','total_mass_source_upper'],1).hist()\n",
    "#pl.savefig('input_characteristics.png', dpi=300, bbox_inches='tight')\n",
    "#pl.show()"
   ]
  },
  {
   "cell_type": "markdown",
   "metadata": {},
   "source": [
    "### Functions to work\n",
    "\n",
    "PBH binaries that are formed in the radiation dominated epoch continuously emit gravitational waves, gradually shrink, and finally merge. Since the initial orbital parameters of the binaries are stochastic, some binaries merge in the past, some other at present epoch, and the others in the future. According to Peters, a binary\n",
    "consisting of point masses $m_{1}$ and $m_{2}$ with orbital parameter (a, e) merges due to gravitational\n",
    "radiation after time **t** given by\n",
    "\n",
    "$$t\\, = \\,\\frac{15}{304}\\frac{a^{4}}{G^{3}m_{1}m_{2}(m_{1} + m_{2})} \\left[\\frac{(1-e^{2})}{e^{\\frac{12}{19}}} \\left(1+\\frac{121}{304}e^{2}\\right)^{\\frac{870}{2299}}\\right]^{4} \\int\\limits_{0}^{e}de^{'}\\frac{e^{'\\frac{29}{19}}}{(1-e^{'2})^{-\\frac{3}{2}}}\\left(1 + \\frac{121}{304}e^{'2}\\right)^\\frac{870}{2299}$$\n",
    "\n",
    "When e \\~ 1, the above formula can be simplified as:\n",
    "\n",
    "$$ t = \\frac{3}{85}\\frac{1}{G^{3}m_{1}m_{2}(m_{1} + m_{2})}(1-e^{2})^{7/2}a^{4}$$\n",
    "\n",
    "$H_{0} = 67.66\\,\\, km\\, Mpc^{-1}\\,s^{-1}$\n",
    "\n",
    "$R_{s} = \\frac{2GM}{c^{2}}$"
   ]
  },
  {
   "cell_type": "code",
   "execution_count": 341,
   "metadata": {},
   "outputs": [],
   "source": [
    "H0 = cosmo.H(0)  #cosmo.H(0)  <Quantity 67.66 km / (Mpc s)>\n",
    "G = const.G\n",
    "e_prim = np.arange(0.01,1.0,0.01)\n",
    "#print(((1/H0)*3.08e+19*u.km/u.megaparsec).to(u.Gyr))\n",
    "#e = [0.5,  0.2,  0.1,  0.05,  0.01] #Excentricity array of datas\n",
    "#e = 0.1 #Half\n",
    "a = 0.1*u.AU#Half Separation\n",
    "separation = a.to(u.m)\n",
    "#a = [0.001, 0.01, 0.1, 1, 7.63] #Separation in AU, the last one is 1pc = 208232 UA\n",
    "#omega_m = 0.321\n",
    "\n",
    "\n",
    "def F(e):\n",
    "    return (e**(29.0/19.0)/((1-e**2)**(-1.5)))*(1 + (121/304)*(e**2.0))**(870/2299)\n",
    "I, err = quad(F,0.0,0.99)#intregand 147\n",
    "\n",
    "def t_merger(M1, M2, a, e):\n",
    "    p1 = (15/304)*(((c**5)*a**4)/((G**3)*M1*M2*(M1+M2)))\n",
    "    p2 = (((1-e**2)/e**(12/19))*(1+((121*e**2)/304))**(870/2299))**4\n",
    "    t =  p1*p2\n",
    "    return t\n",
    "    \n",
    "\n",
    "def t_merger1(M1,M2, a, e):\n",
    "    t1 = (3/85)*((c**5)*((1-e**2)**(3.5))*(a**4))/((G**3)*M1*M2*(M1+M2))\n",
    "    return t1\n",
    "\n",
    "def Rs(M): #Schwarzschild radius equation\n",
    "    R = 2*const.G*M/(const.c**2)\n",
    "    return R\n",
    "\n",
    "\n",
    "#def Z(D): #Redshift from Luminosity Distance\n",
    "#    z = (H0/const.c)*D\n",
    "#    return z\n",
    "\n",
    "\n"
   ]
  },
  {
   "cell_type": "code",
   "execution_count": 346,
   "metadata": {},
   "outputs": [
    {
     "name": "stdout",
     "output_type": "stream",
     "text": [
      "integral result 0 --> 0.99: 0.1401096356448334\n",
      "t_merger equation 147: 1.568779417533427e-07 Gyr\n",
      "t_merger equation 148: 3.361967006079382e-06 Gyr\n"
     ]
    }
   ],
   "source": [
    "m1=24.5*const.M_sun\n",
    "m2=18.3*const.M_sun\n",
    "\n",
    "\"\"\"\n",
    "e_value = []\n",
    "#This \"for\" is to evaluate explicitly the integral of (147)\n",
    "for j in e_prim:\n",
    "    I, err = quad(F,0.0,j)\n",
    "    e_value.append(I)\n",
    "\"\"\"\n",
    "\n",
    "print(\"integral result 0 --> 0.99:\", I)\n",
    "print(\"t_merger equation 147:\",(t_merger(m1,m2,separation,0.99)*I).to(u.Gyr))\n",
    "print(\"t_merger equation 148:\",(t_merger1(m1,m2,separation,0.99)).to(u.Gyr))"
   ]
  },
  {
   "cell_type": "code",
   "execution_count": 272,
   "metadata": {},
   "outputs": [
    {
     "name": "stdout",
     "output_type": "stream",
     "text": [
      "1.567940044730308 Gyr\n"
     ]
    }
   ],
   "source": [
    "def F(e): #Celoria's Equation (2.13) \n",
    "    F = (1-e**2)**(-3.5)*(1 + (73/24)*e**2 + (37/96)*e**4)\n",
    "    return F\n",
    "\n",
    "\n",
    "def t_coal(M1, M2, a, F): #Celoria's Equation (2.17)\n",
    "    t = (5/256)*(const.c**5/const.G**3)*(a**4)/((M1*M2*(M1 + M2)))*(1/F)\n",
    "    return t\n",
    "#return t #this variable has seconds unit\n",
    "\n",
    "print((t_coal(m1,m2,separation,F(0.1))).to(u.Gyr))"
   ]
  },
  {
   "cell_type": "markdown",
   "metadata": {},
   "source": [
    "#### PBH Binary formation in the early Universe\n",
    "\n",
    "$$ n = \\frac{1}{vol} = \\large{\\mathscr{l}}\\small{_{PBH}^{-3}}$$\n",
    "$$ ñ = \\frac{1}{vol}\\left(\\frac{1}{1+z_{r}}\\right)^{3}$$"
   ]
  },
  {
   "cell_type": "code",
   "execution_count": 216,
   "metadata": {},
   "outputs": [
    {
     "data": {
      "text/latex": [
       "$2.3189042 \\times 10^{-31} \\; \\mathrm{\\frac{1}{pc^{3/2}}}$"
      ],
      "text/plain": [
       "<Quantity 2.31890417e-31 1 / pc(3/2)>"
      ]
     },
     "execution_count": 216,
     "metadata": {},
     "output_type": "execute_result"
    }
   ],
   "source": [
    "#M_pbh=1*(u.M_sun)\n",
    "M_pbh=1*const.M_sun\n",
    "z_r = 3500\n",
    "z_eq = 3411\n",
    "c = const.c\n",
    "\n",
    "rH = c/cosmo.H(z_r)\n",
    "rH.to(u.parsec)\n",
    "vol = rH**3\n",
    "vol_cvr = vol.to(u.parsec**3)\n",
    "n = 1/vol_cvr\n",
    "ñ = n*(1/(1+z_r)**3)\n",
    "\n",
    "lpbh = (1/(1+z_r))*(ñ**(-1/3))\n",
    "\n",
    "rho_pbh = ñ*M_pbh\n",
    "\n",
    "f_pbh =(16*math.pi*G*rho_pbh/(3*(H0**2)))\n",
    "f_PBH = f_pbh.to(u.m**5/u.m**5)\n",
    "\n",
    "\n",
    "cte = (4/3)*(math.pi**2)*(ñ**(1/2))*((1+z_eq)**(3/2))*(f_PBH**(3/2))\n",
    "cte\n"
   ]
  },
  {
   "cell_type": "code",
   "execution_count": null,
   "metadata": {
    "collapsed": true
   },
   "outputs": [],
   "source": []
  },
  {
   "cell_type": "code",
   "execution_count": null,
   "metadata": {},
   "outputs": [],
   "source": []
  },
  {
   "cell_type": "code",
   "execution_count": 5,
   "metadata": {},
   "outputs": [],
   "source": []
  },
  {
   "cell_type": "code",
   "execution_count": 7,
   "metadata": {},
   "outputs": [
    {
     "name": "stdout",
     "output_type": "stream",
     "text": [
      "0.0 m5 / (kg3 s5)\n"
     ]
    }
   ],
   "source": [
    "m1 = 1*const.M_sun\n",
    "m2 = 1*const.M_sun\n",
    "print(t_merger(m1,m2,0.1,1.0))"
   ]
  },
  {
   "cell_type": "code",
   "execution_count": 31,
   "metadata": {},
   "outputs": [],
   "source": [
    "#It's a example section to prove a bit algorithm from Poisson Distribution\n",
    "#You doesn't pay attention\n",
    "\n",
    "np.random.seed(2000) # replicar random\n",
    "\n",
    "# parametros esteticos de seaborn\n",
    "sns.set_palette(\"deep\", desat=.6)\n",
    "sns.set_context(rc={\"figure.figsize\": (8, 4)})\n",
    "\n",
    "mu =  3.6 # parametro de forma \n",
    "poisson = stats.poisson(mu) # Distribución\n",
    "x = np.arange(poisson.ppf(0.01), poisson.ppf(0.99))\n",
    "fmp = poisson.pmf(x) # Función de Masa de Probabilidad\n",
    "#pl.plot(x, fmp, '--')\n",
    "#pl.vlines(x, 0, fmp, colors='b', lw=5, alpha=0.5)\n",
    "#pl.title('Distribución Poisson Ejemplo')\n",
    "#pl.ylabel('probabilidad')\n",
    "#pl.xlabel('valores')\n",
    "#pl.show()"
   ]
  },
  {
   "cell_type": "code",
   "execution_count": null,
   "metadata": {},
   "outputs": [],
   "source": []
  }
 ],
 "metadata": {
  "kernelspec": {
   "display_name": "Python 3",
   "language": "python",
   "name": "python3"
  },
  "language_info": {
   "codemirror_mode": {
    "name": "ipython",
    "version": 3
   },
   "file_extension": ".py",
   "mimetype": "text/x-python",
   "name": "python",
   "nbconvert_exporter": "python",
   "pygments_lexer": "ipython3",
   "version": "3.8.5"
  }
 },
 "nbformat": 4,
 "nbformat_minor": 4
}
