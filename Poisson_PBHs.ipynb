{
 "cells": [
  {
   "cell_type": "markdown",
   "metadata": {},
   "source": [
    "# Poisson Distribution to PBHs\n",
    "\n",
    "**References:**  [arXiv:1910.06077](https://arxiv.org/pdf/1910.06077.pdf), https://arxiv.org/pdf/1904.00984.pdf,\n",
    "https://arxiv.org/pdf/1908.03596.pdf, https://arxiv.org/pdf/1805.03946.pdf, \n",
    "https://arxiv.org/pdf/0903.3184.pdf\n",
    "https://arxiv.org/pdf/1803.00070.pdf  #lecture\n",
    "\n",
    "\n",
    "**Misao Sasaki** [arXiv:1801.05235](https://arxiv.org/pdf/1801.05235.pdf)\n",
    "\n",
    "**Celoria**  [arXiv:1807.11489](https://arxiv.org/pdf/1807.11489.pdf)\n",
    "\n",
    "\n",
    "http://webcache.googleusercontent.com/search?q=cache:Jt8ib1chvdsJ:www.sapub.org/global/showpaperpdf.aspx%3Fdoi%3D10.5923/j.astronomy.20130201.02+&cd=13&hl=es-419&ct=clnk&gl=mx\n",
    "\n",
    "###### Code Writed by Tadeo D.\n"
   ]
  },
  {
   "cell_type": "code",
   "execution_count": 1,
   "metadata": {},
   "outputs": [],
   "source": [
    "import numpy as np\n",
    "import matplotlib.pyplot as pl\n",
    "import matplotlib as mpl\n",
    "import math\n",
    "import seaborn as sns\n",
    "from scipy import stats \n",
    "import csv\n",
    "from scipy import constants\n",
    "from tqdm import tqdm\n",
    "from scipy.integrate import quad, dblquad\n",
    "from astropy.cosmology import Planck18 as cosmo\n",
    "from astropy import constants as const\n",
    "import astropy.units as u\n",
    "#from astropy.cosmology import WMAP9, z_at_value\n",
    "import pandas as pd\n",
    "#from mpl_toolkits.mplot3d import Axes3D\n",
    "#from matplotlib import cm\n",
    "#pl.rcParams['figure.figsize'] = (16, 9)\n",
    "#pl.style.use('ggplot')\n",
    "from sklearn import linear_model\n",
    "from sklearn.linear_model import LinearRegression\n",
    "from sklearn.metrics import mean_squared_error, r2_score\n",
    "#\n",
    "#from mlxtend.plotting import plot_linear_regression\n",
    "from sympy import *"
   ]
  },
  {
   "cell_type": "markdown",
   "metadata": {},
   "source": [
    "#### Read Data From LIGO DATABASE"
   ]
  },
  {
   "cell_type": "code",
   "execution_count": 2,
   "metadata": {},
   "outputs": [],
   "source": [
    "df = pd.read_csv('LIGO_events')\n",
    "#df.shape\n",
    "#df.head()\n",
    "#df.describe()\n",
    "# Visualizamos rápidamente las caraterísticas de entrada\n",
    "#df.drop(['id','version','GPS', 'mass_1_source_lower', 'mass_1_source_upper',\n",
    "#         'mass_2_source_lower', 'mass_2_source_upper', 'network_matched_filter_snr',\n",
    "#         'network_matched_filter_snr_lower', 'chirp_mass', 'redshift_lower', 'redshift_upper',\n",
    "#         'far','far_lower','far_upper','final_mass_source_lower','final_mass_source_upper',\n",
    "#         'chirp_mass_upper','chirp_mass_lower','reference','jsonurl','catalog.shortName','chirp_mass_source',\n",
    "#         'chirp_mass_source_lower','chirp_mass_source_upper','network_matched_filter_snr_upper','luminosity_distance_lower',\n",
    "#         'luminosity_distance_upper','chi_eff','chi_eff_lower','chi_eff_upper','total_mass_source_lower','total_mass_source_upper'],1).hist()\n",
    "#pl.savefig('input_characteristics.png', dpi=300, bbox_inches='tight')\n",
    "#pl.show()"
   ]
  },
  {
   "cell_type": "markdown",
   "metadata": {},
   "source": [
    "### Functions to work\n",
    "\n",
    "PBH binaries that are formed in the radiation dominated epoch continuously emit gravitational waves, gradually shrink, and finally merge. Since the initial orbital parameters of the binaries are stochastic, some binaries merge in the past, some other at present epoch, and the others in the future. According to Peters, a binary\n",
    "consisting of point masses $m_{1}$ and $m_{2}$ with orbital parameter (a, e) merges due to gravitational\n",
    "radiation after time **t** given by\n",
    "\n",
    "$$t\\, = \\,\\frac{15}{304}\\frac{a^{4}}{G^{3}m_{1}m_{2}(m_{1} + m_{2})} \\left[\\frac{(1-e^{2})}{e^{\\frac{12}{19}}} \\left(1+\\frac{121}{304}e^{2}\\right)^{\\frac{870}{2299}}\\right]^{4} \\int\\limits_{0}^{e}de^{'}\\frac{e^{'\\frac{29}{19}}}{(1-e^{'2})^{-\\frac{3}{2}}}\\left(1 + \\frac{121}{304}e^{'2}\\right)^\\frac{870}{2299}$$\n",
    "\n",
    "When e \\~ 1, the above formula can be simplified as:\n",
    "\n",
    "$$ t = \\frac{3}{85}\\frac{1}{G^{3}m_{1}m_{2}(m_{1} + m_{2})}(1-e^{2})^{7/2}a^{4}$$\n",
    "\n",
    "$H_{0} = 67.66\\,\\, km\\, Mpc^{-1}\\,s^{-1}$\n",
    "\n",
    "$R_{s} = \\frac{2GM}{c^{2}}$"
   ]
  },
  {
   "cell_type": "code",
   "execution_count": 16,
   "metadata": {},
   "outputs": [],
   "source": [
    "H0 = cosmo.H(0)  #cosmo.H(0)  <Quantity 67.66 km / (Mpc s)>\n",
    "G = const.G\n",
    "c= const.c\n",
    "z_r = 3500 #3450\n",
    "z_eq = 3411\n",
    "#rho_c0 = (3*(H0**2))/(8*math.pi*G)\n",
    "rho_c0 = cosmo.critical_density0\n",
    "Omega_DM = cosmo.Odm(z_r)\n",
    "\n",
    "\n",
    "e_prim = np.arange(0.01,1.0,0.01)\n",
    "#print(((1/H0)*3.08e+19*u.km/u.megaparsec).to(u.Gyr))\n",
    "#e = [0.5,  0.2,  0.1,  0.05,  0.01] #Excentricity array of datas\n",
    "#e = 0.1 #Half\n",
    "a_s = 0.1*u.AU#Half Separation\n",
    "separation = a_s.to(u.m)\n",
    "#a = [0.001, 0.01, 0.1, 1, 7.63] #Separation in AU, the last one is 1pc = 208232 UA\n",
    "#omega_m = 0.321\n",
    "\n",
    "\n",
    "def F(e):\n",
    "    return (e**(29.0/19.0)/((1-e**2)**(-1.5)))*(1 + (121/304)*(e**2.0))**(870/2299)\n",
    "I, err = quad(F,0.0,0.99)#intregand 147\n",
    "\n",
    "def t_merger(M1, M2, a, e):\n",
    "    p1 = (15/304)*(((c**5)*a**4)/((G**3)*M1*M2*(M1+M2)))\n",
    "    p2 = (((1-e**2)/e**(12/19))*(1+((121*e**2)/304))**(870/2299))**4\n",
    "    t =  p1*p2\n",
    "    return t\n",
    "    \n",
    "\n",
    "def t_merger1(M1,M2, a, e):\n",
    "    t1 = (3/85)*((c**5)*((1-e**2)**(3.5))*(a**4))/((G**3)*M1*M2*(M1+M2))\n",
    "    return t1\n",
    "\n",
    "def Rs(M): #Schwarzschild radius equation\n",
    "    R = 2*const.G*M/(const.c**2)\n",
    "    return R\n",
    "\n",
    "\n",
    "#def Z(D): #Redshift from Luminosity Distance\n",
    "#    z = (H0/const.c)*D\n",
    "#    return z\n",
    "\n",
    "\n"
   ]
  },
  {
   "cell_type": "code",
   "execution_count": 17,
   "metadata": {},
   "outputs": [
    {
     "name": "stdout",
     "output_type": "stream",
     "text": [
      "integral result 0 --> 0.99: 0.1401096356448334\n",
      "t_merger equation 147: 1.568779417533427e-07 Gyr\n",
      "t_merger equation 148: 3.361967006079382e-06 Gyr\n"
     ]
    }
   ],
   "source": [
    "m1=24.5*const.M_sun\n",
    "m2=18.3*const.M_sun\n",
    "\n",
    "\n",
    "\"\"\"\n",
    "e_value = []\n",
    "#This \"for\" is to evaluate explicitly the integral of (147)\n",
    "for j in e_prim:\n",
    "    I, err = quad(F,0.0,j)\n",
    "    e_value.append(I)\n",
    "\"\"\"\n",
    "\n",
    "print(\"integral result 0 --> 0.99:\", I)\n",
    "print(\"t_merger equation 147:\",(t_merger(m1,m2,separation,0.99)*I).to(u.Gyr))\n",
    "print(\"t_merger equation 148:\",(t_merger1(m1,m2,separation,0.99)).to(u.Gyr))"
   ]
  },
  {
   "cell_type": "code",
   "execution_count": 18,
   "metadata": {},
   "outputs": [
    {
     "name": "stdout",
     "output_type": "stream",
     "text": [
      "1.567940044730308 Gyr\n"
     ]
    }
   ],
   "source": [
    "def F(e): #Celoria's Equation (2.13) \n",
    "    F = (1-e**2)**(-3.5)*(1 + (73/24)*e**2 + (37/96)*e**4)\n",
    "    return F\n",
    "\n",
    "\n",
    "def t_coal(M1, M2, a, F): #Celoria's Equation (2.17)\n",
    "    t = (5/256)*(const.c**5/const.G**3)*(a**4)/((M1*M2*(M1 + M2)))*(1/F)\n",
    "    return t\n",
    "#return t #this variable has seconds unit\n",
    "\n",
    "print((t_coal(m1,m2,separation,F(0.1))).to(u.Gyr))"
   ]
  },
  {
   "cell_type": "markdown",
   "metadata": {},
   "source": [
    "#### PBH Binary formation in the early Universe\n",
    "\n",
    "$$ n = \\frac{1}{vol} = \\large{\\mathscr{l}}\\small{_{PBH}^{-3}}$$\n",
    "$$ ñ = \\frac{1}{vol}\\left(\\frac{1}{1+z_{r}}\\right)^{3}$$"
   ]
  },
  {
   "cell_type": "code",
   "execution_count": 6,
   "metadata": {},
   "outputs": [
    {
     "name": "stdout",
     "output_type": "stream",
     "text": [
      "fpbh   nphb \t\t\t\t  ñpbh \t\t\t\t\t lpbh\n",
      "0.01 | 59.535171196920686 1 / pc3 \t  1.3873858937932249e-09 1 / pc3 \t 0.25609953960631104 pc\n",
      "0.11 | 654.8868831661275 1 / pc3 \t  1.5261244831725472e-08 1 / pc3 \t 0.11515370155168618 pc\n",
      "0.21 | 1250.2385951353344 1 / pc3 \t  2.9135103769657724e-08 1 / pc3 \t 0.0928258709676598 pc\n",
      "0.31 | 1845.5903071045416 1 / pc3 \t  4.3008962707589976e-08 1 / pc3 \t 0.0815245167475498 pc\n",
      "0.41 | 2440.9420190737483 1 / pc3 \t  5.688282164552222e-08 1 / pc3 \t 0.07427012909948956 pc\n",
      "0.51 | 3036.293731042955 1 / pc3 \t  7.075668058345447e-08 1 / pc3 \t 0.06905875411980285 pc\n",
      "0.61 | 3631.6454430121626 1 / pc3 \t  8.463053952138673e-08 1 / pc3 \t 0.0650577220544308 pc\n",
      "0.71 | 4226.99715498137 1 / pc3 \t  9.850439845931899e-08 1 / pc3 \t 0.06184757579393735 pc\n",
      "0.81 | 4822.348866950576 1 / pc3 \t  1.1237825739725122e-07 1 / pc3 \t 0.059189834380680886 pc\n",
      "0.91 | 5417.700578919783 1 / pc3 \t  1.2625211633518347e-07 1 / pc3 \t 0.05693705503332307 pc\n"
     ]
    }
   ],
   "source": [
    "#M_pbh=1*(u.M_sun)\n",
    "M_pbh = 1*const.M_sun\n",
    "f_pbh = np.arange(0.01,0.99,0.1)\n",
    "\n",
    "\n",
    "rH_h = c/cosmo.H(z_r)\n",
    "rH_h.to(u.parsec)\n",
    "vol_hzte = (rH_h)**3\n",
    "\n",
    "rH_t = c/H0\n",
    "rH_t.to(u.parsec)\n",
    "vol_tot = (rH_t)**3\n",
    "\n",
    "N_hztes = vol_tot/vol_hzte\n",
    "M_hzte = (c**3/(2*G*cosmo.H(z_r)))\n",
    "M_hzte.to(u.kg)\n",
    "rho_tot = M_hzte/vol_hzte\n",
    "rho_tot.to(u.kg/u.m**3)\n",
    "rho_pbh = M_pbh/vol_hzte\n",
    "\n",
    "def n(fpbh):\n",
    "    n_pbh = (fpbh*Omega_DM*rho_tot)/M_pbh\n",
    "    return n_pbh.to(1/u.parsec**3)\n",
    "\n",
    "#f_pbh = rho_pbh/(rho_tot*Omega_DM)\n",
    "#f_pbh.to(u.km/u.km) # 8.5759816×10−18\n",
    "#n_pbh = (f_pbh*Omega_DM*rho_tot)/M_pbh\n",
    "#n_pbh.to(1/u.parsec**3) #5.105725334786289e-14 1 / pc3\n",
    "\n",
    "def ñ(n_pbh):\n",
    "    ñ_pbh = n_pbh*(1/(1+z_r))**3\n",
    "    return ñ_pbh\n",
    "\n",
    "def l(fpbh):\n",
    "    l_pbh = M_pbh**(1/3) * fpbh**(-1/3) * Omega_DM**(-1/3) * rho_tot**(-1/3)\n",
    "    return l_pbh.to(u.parsec)\n",
    "\n",
    "print(\"fpbh   nphb \\t\\t\\t\\t  ñpbh \\t\\t\\t\\t\\t lpbh\")\n",
    "for i in f_pbh:\n",
    "    print(\"%.2f\" % i,\"|\", n(i),\"\\t \", ñ(n(i)),\"\\t\", l(i))"
   ]
  },
  {
   "cell_type": "code",
   "execution_count": 9,
   "metadata": {},
   "outputs": [
    {
     "name": "stdout",
     "output_type": "stream",
     "text": [
      "x      z_dec\n",
      "0.01 | 573105.6076411078\n",
      "0.02 | 71637.32595513847\n",
      "0.03 | 21225.170653374367\n",
      "0.04 | 8953.790744392309\n",
      "0.05 | 4583.85286112886\n",
      "\n",
      "\n",
      "1.0907504363001746e-05 pc 1.617085967845929e-05 pc\n",
      "\n",
      "\n",
      "3.946694914190309e-17 pc 1.4287693165725383e-16 pc\n",
      "\n",
      "\n",
      "0.9999616138065506 0.9999787352755286\n"
     ]
    },
    {
     "name": "stderr",
     "output_type": "stream",
     "text": [
      "/home/thaddaios/.local/lib/python3.8/site-packages/astropy/units/quantity.py:477: RuntimeWarning: invalid value encountered in sqrt\n",
      "  result = super().__array_ufunc__(function, method, *arrays, **kwargs)\n"
     ]
    },
    {
     "data": {
      "image/png": "[encoded data removed]",
      "text/plain": [
       "<Figure size 432x288 with 1 Axes>"
      ]
     },
     "metadata": {
      "needs_background": "light"
     },
     "output_type": "display_data"
    }
   ],
   "source": [
    "##############################################################################################\n",
    "#If I evalue all functions at a mean_fpbh\n",
    "\n",
    "suma = 0\n",
    "for i in f_pbh:\n",
    "    suma = suma + i\n",
    "mean_fpbh = suma/len(f_pbh)\n",
    "m_n_pbh = n(mean_fpbh)\n",
    "m_ñ_pbh = ñ(n(mean_fpbh))\n",
    "m_l_pbh = l(mean_fpbh)\n",
    "#print(\"%.2f\" % (mean_fpbh))\n",
    "\n",
    "def x_max(z):\n",
    "    return mean_fpbh**(1/3) * m_l_pbh * (1+z)\n",
    "x_maxim = x_max(0)\n",
    "\n",
    "def z_decopling(x):\n",
    "    z_dec = (1+z_eq)*(x_maxim/x)**3 - 1\n",
    "    return z_dec\n",
    "#proponiendo x de tal manera que, x < x_maxim\n",
    "# Entonces:\n",
    "x_dec = np.arange(0.01,x_maxim.value,0.01)\n",
    "\n",
    "#Usando el array de x_dec para calcular el z_decopling, obtenemos:\n",
    "print(\"x      z_dec\")\n",
    "for i in x_dec:\n",
    "    print(i,\"|\", z_decopling(i*u.parsec))\n",
    "\n",
    "#para nuestra prueba, podemos tomar z_dec = 8953 con x_dec = 0.04 o bien, x_dec=0.5 con z_dec = 4583 el cual es mayor que z_rd\n",
    "\n",
    "a = 0.05*u.parsec/(1 + 4583)\n",
    "a_max = x_maxim / (1+z_eq)\n",
    "\n",
    "a1 = ((rho_c0*Omega_DM)/((1+z_eq)*M_pbh))*((0.04*u.parsec)**4)\n",
    "a1_max = ((rho_c0*Omega_DM)/((1+z_eq)*M_pbh))*(x_maxim**4)\n",
    "\n",
    "print(\"\\n\")\n",
    "print(a,a_max)\n",
    "print(\"\\n\")\n",
    "print(a1.to(u.parsec), a1_max.to(u.parsec))\n",
    "\n",
    "def e_max(a):\n",
    "    return (1 - (4*math.pi*m_ñ_pbh/3)**(2) * ((((1+z_eq)*M_pbh)/(rho_c0*Omega_DM))*a)**(3/2))**(1/2)\n",
    "print(\"\\n\")\n",
    "print(e_max(a_max), e_max(a))\n",
    "\n",
    "z_step = np.linspace(4580,1)\n",
    "a_array = []\n",
    "for i in z_step:\n",
    "    a_array.append(0.05*u.parsec/(1 + i))\n",
    "   # print(e_max(0.05*u.parsec/(1 + i)))\n",
    "\n",
    "pl.plot(a_array*(u.parsec), [e_max(0.05*u.parsec/(1 + i)) for i in z_step], color='k', linestyle='solid')\n",
    "pl.ylim(0.989,1.001)\n",
    "pl.xlim(0,0.0004)\n",
    "pl.show()"
   ]
  },
  {
   "cell_type": "markdown",
   "metadata": {},
   "source": [
    "# -------------------------------------------------------------------------------------------\n",
    "#### Equation 140 Sasaki\n",
    "$$dP = \\frac{4\\pi^{2}}{3}n_{pbh}^{1/2}(1+z_{eq})^{3/2}f_{pbh}^{3/2}a^{1/2}e(1-e^{2})^{-3/2}dade$$\n"
   ]
  },
  {
   "cell_type": "code",
   "execution_count": 15,
   "metadata": {},
   "outputs": [
    {
     "name": "stdout",
     "output_type": "stream",
     "text": [
      "1.801822249249955e-08\n"
     ]
    }
   ],
   "source": [
    "def integrand_dP(a,e):\n",
    "    return a**(1/2) * e*(1 - e**(2))**(-3/2)\n",
    "\n",
    "I, err = dblquad(integrand_dP, 0.0, a_max.value, lambda e: 0.0, lambda e:1.0)\n",
    "\n",
    "P = I * (4/3)*math.pi**(2) * m_ñ_pbh**(1/2) * (1+z_eq)**(3/2) * mean_fpbh**(3/2) * (u.parsec**(3/2))\n",
    "\n",
    "print(P)\n"
   ]
  },
  {
   "cell_type": "code",
   "execution_count": 137,
   "metadata": {},
   "outputs": [],
   "source": [
    "#It's a example section to prove a bit algorithm from Poisson Distribution\n",
    "#You doesn't pay attention\n",
    "\n",
    "np.random.seed(2000) # replicar random\n",
    "\n",
    "# parametros esteticos de seaborn\n",
    "sns.set_palette(\"deep\", desat=.6)\n",
    "sns.set_context(rc={\"figure.figsize\": (8, 4)})\n",
    "\n",
    "mu =  3.6 # parametro de forma \n",
    "poisson = stats.poisson(mu) # Distribución\n",
    "x = np.arange(poisson.ppf(0.01), poisson.ppf(0.99))\n",
    "fmp = poisson.pmf(x) # Función de Masa de Probabilidad\n",
    "#pl.plot(x, fmp, '--')\n",
    "#pl.vlines(x, 0, fmp, colors='b', lw=5, alpha=0.5)\n",
    "#pl.title('Distribución Poisson Ejemplo')\n",
    "#pl.ylabel('probabilidad')\n",
    "#pl.xlabel('valores')\n",
    "#pl.show()"
   ]
  },
  {
   "cell_type": "code",
   "execution_count": null,
   "metadata": {},
   "outputs": [],
   "source": []
  }
 ],
 "metadata": {
  "kernelspec": {
   "display_name": "Python 3",
   "language": "python",
   "name": "python3"
  },
  "language_info": {
   "codemirror_mode": {
    "name": "ipython",
    "version": 3
   },
   "file_extension": ".py",
   "mimetype": "text/x-python",
   "name": "python",
   "nbconvert_exporter": "python",
   "pygments_lexer": "ipython3",
   "version": "3.8.5"
  }
 },
 "nbformat": 4,
 "nbformat_minor": 4
}
