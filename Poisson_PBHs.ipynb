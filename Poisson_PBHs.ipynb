{
 "cells": [
  {
   "cell_type": "markdown",
   "metadata": {},
   "source": [
    "# Poisson Distribution to PBHs\n",
    "\n",
    "**References:**  [arXiv:1910.06077](https://arxiv.org/pdf/1910.06077.pdf), https://arxiv.org/pdf/1904.00984.pdf,\n",
    "https://arxiv.org/pdf/1908.03596.pdf, https://arxiv.org/pdf/1805.03946.pdf, \n",
    "https://arxiv.org/pdf/0903.3184.pdf\n",
    "https://arxiv.org/pdf/1803.00070.pdf  #lecture\n",
    "\n",
    "\n",
    "**Misao Sasaki** [arXiv:1801.05235](https://arxiv.org/pdf/1801.05235.pdf)\n",
    "\n",
    "**Celoria**  [arXiv:1807.11489](https://arxiv.org/pdf/1807.11489.pdf)\n",
    "\n",
    "\n",
    "http://webcache.googleusercontent.com/search?q=cache:Jt8ib1chvdsJ:www.sapub.org/global/showpaperpdf.aspx%3Fdoi%3D10.5923/j.astronomy.20130201.02+&cd=13&hl=es-419&ct=clnk&gl=mx\n",
    "\n",
    "###### Code Writed by Tadeo D."
   ]
  },
  {
   "cell_type": "code",
   "execution_count": 2,
   "metadata": {},
   "outputs": [],
   "source": [
    "import numpy as np\n",
    "import matplotlib.pyplot as pl\n",
    "import matplotlib as mpl\n",
    "import math\n",
    "import seaborn as sns\n",
    "from scipy import stats \n",
    "import csv\n",
    "from scipy import constants\n",
    "from tqdm import tqdm\n",
    "from scipy.integrate import quad, dblquad\n",
    "from astropy.cosmology import Planck18 as cosmo\n",
    "from astropy import constants as const\n",
    "import astropy.units as u\n",
    "#from astropy.cosmology import WMAP9, z_at_value\n",
    "import pandas as pd\n",
    "#from mpl_toolkits.mplot3d import Axes3D\n",
    "#from matplotlib import cm\n",
    "#pl.rcParams['figure.figsize'] = (16, 9)\n",
    "#pl.style.use('ggplot')\n",
    "from sklearn import linear_model\n",
    "from sklearn.linear_model import LinearRegression\n",
    "from sklearn.metrics import mean_squared_error, r2_score\n",
    "#\n",
    "#from mlxtend.plotting import plot_linear_regression\n",
    "from sympy import *"
   ]
  },
  {
   "cell_type": "code",
   "execution_count": 3,
   "metadata": {},
   "outputs": [],
   "source": [
    "df = pd.read_csv('LIGO_events')\n",
    "#df.shape\n",
    "#df.head()\n",
    "#df.describe()\n",
    "# Visualizamos rápidamente las caraterísticas de entrada\n",
    "#df.drop(['id','version','GPS', 'mass_1_source_lower', 'mass_1_source_upper',\n",
    "#         'mass_2_source_lower', 'mass_2_source_upper', 'network_matched_filter_snr',\n",
    "#         'network_matched_filter_snr_lower', 'chirp_mass', 'redshift_lower', 'redshift_upper',\n",
    "#         'far','far_lower','far_upper','final_mass_source_lower','final_mass_source_upper',\n",
    "#         'chirp_mass_upper','chirp_mass_lower','reference','jsonurl','catalog.shortName','chirp_mass_source',\n",
    "#         'chirp_mass_source_lower','chirp_mass_source_upper','network_matched_filter_snr_upper','luminosity_distance_lower',\n",
    "#         'luminosity_distance_upper','chi_eff','chi_eff_lower','chi_eff_upper','total_mass_source_lower','total_mass_source_upper'],1).hist()\n",
    "#pl.savefig('input_characteristics.png', dpi=300, bbox_inches='tight')\n",
    "#pl.show()"
   ]
  },
  {
   "cell_type": "markdown",
   "metadata": {},
   "source": [
    "### Constants and Global Variables:\n",
    "\n",
    "$H_{0} = 67.66\\,\\, km\\, Mpc^{-1}\\,s^{-1}$"
   ]
  },
  {
   "cell_type": "code",
   "execution_count": 4,
   "metadata": {},
   "outputs": [],
   "source": [
    "H0 = cosmo.H(0)  #cosmo.H(0)  <Quantity 67.66 km / (Mpc s)>\n",
    "G = const.G\n",
    "c = const.c\n",
    "z_r = 3500 #3450\n",
    "z_eq = 3411\n",
    "#rho_c0 = (3*(H0**2))/(8*math.pi*G)\n",
    "rho_c0 = cosmo.critical_density(0)\n",
    "Omega_DM = cosmo.Odm(z_r)\n",
    "\n",
    "\n",
    "e_prim = np.arange(0.01,1.0,0.01)\n",
    "#print(((1/H0)*3.08e+19*u.km/u.megaparsec).to(u.Gyr))\n",
    "#e = [0.5,  0.2,  0.1,  0.05,  0.01] #Excentricity array of datas\n",
    "#e = 0.1 #Half\n",
    "a_s = 0.1*u.AU#Half Separation\n",
    "separation = a_s.to(u.m)\n",
    "#a = [0.001, 0.01, 0.1, 1, 7.63] #Separation in AU, the last one is 1pc = 208232 UA\n",
    "#omega_m = 0.321"
   ]
  },
  {
   "cell_type": "markdown",
   "metadata": {},
   "source": [
    "#### PBH Binary formation in the early Universe\n",
    "\n",
    "$$H(z)\\mathscr{l}\\small{_{PBH}}(z) = H(z)\\mathcal{n}\\small{^{-1/3}_{PBH}}(1+z)^{-1} \\backsimeq 6 \\times 10^{-6} \\;\\mathcal{f}\\small{^{-1/3}_{PBH}} \\left(\\frac{1+z}{1+z_{eq}}\\right)\\left(\\frac{M_{PBH}}{30\\;M_{\\odot}}\\right)^{1/3}$$\n",
    "$$ n = \\frac{1}{vol} = \\large{\\mathscr{l}}\\small{_{PBH}^{-3}}  \\;\\;\\;\\;\\;\\;\\;\\;\\; \\hat{n} = \\frac{1}{vol}\\left(\\frac{1}{1+z_{r}}\\right)^{3}$$"
   ]
  },
  {
   "cell_type": "code",
   "execution_count": 5,
   "metadata": {},
   "outputs": [
    {
     "name": "stdout",
     "output_type": "stream",
     "text": [
      "fpbh   nphb \t\t\t\t  ñpbh \t\t\t\t\t lpbh\n",
      "0.01 | 59.535171196920686 1 / pc3 \t  1.3873858937932249e-09 1 / pc3 \t 0.25609953960631104 pc\n",
      "0.11 | 654.8868831661275 1 / pc3 \t  1.5261244831725472e-08 1 / pc3 \t 0.11515370155168618 pc\n",
      "0.21 | 1250.2385951353344 1 / pc3 \t  2.9135103769657724e-08 1 / pc3 \t 0.0928258709676598 pc\n",
      "0.31 | 1845.5903071045416 1 / pc3 \t  4.3008962707589976e-08 1 / pc3 \t 0.0815245167475498 pc\n",
      "0.41 | 2440.9420190737483 1 / pc3 \t  5.688282164552222e-08 1 / pc3 \t 0.07427012909948956 pc\n",
      "0.51 | 3036.293731042955 1 / pc3 \t  7.075668058345447e-08 1 / pc3 \t 0.06905875411980285 pc\n",
      "0.61 | 3631.6454430121626 1 / pc3 \t  8.463053952138673e-08 1 / pc3 \t 0.0650577220544308 pc\n",
      "0.71 | 4226.99715498137 1 / pc3 \t  9.850439845931899e-08 1 / pc3 \t 0.06184757579393735 pc\n",
      "0.81 | 4822.348866950576 1 / pc3 \t  1.1237825739725122e-07 1 / pc3 \t 0.059189834380680886 pc\n",
      "0.91 | 5417.700578919783 1 / pc3 \t  1.2625211633518347e-07 1 / pc3 \t 0.05693705503332307 pc\n"
     ]
    }
   ],
   "source": [
    "M_pbh = 1*const.M_sun\n",
    "f_pbh = np.arange(0.01,0.99,0.1)\n",
    "\n",
    "\n",
    "rH_h = c/cosmo.H(z_r)\n",
    "rH_h.to(u.parsec)\n",
    "vol_hzte = (rH_h)**3\n",
    "\n",
    "rH_t = c/H0\n",
    "rH_t.to(u.parsec)\n",
    "vol_tot = (rH_t)**3\n",
    "\n",
    "N_hztes = vol_tot/vol_hzte\n",
    "M_hzte = (c**3/(2*G*cosmo.H(z_r)))\n",
    "M_hzte.to(u.kg)\n",
    "rho_tot = M_hzte/vol_hzte\n",
    "rho_tot.to(u.kg/u.m**3)\n",
    "rho_pbh = M_pbh/vol_hzte\n",
    "\n",
    "def n(fpbh):\n",
    "    n_pbh = (fpbh*Omega_DM*rho_tot)/M_pbh\n",
    "    return n_pbh.to(1/u.parsec**3)\n",
    "\n",
    "#f_pbh = rho_pbh/(rho_tot*Omega_DM)\n",
    "#f_pbh.to(u.km/u.km) # 8.5759816×10−18\n",
    "#n_pbh = (f_pbh*Omega_DM*rho_tot)/M_pbh\n",
    "#n_pbh.to(1/u.parsec**3) #5.105725334786289e-14 1 / pc3\n",
    "\n",
    "def ñ(n_pbh):\n",
    "    ñ_pbh = n_pbh*(1/(1+z_r))**3\n",
    "    return ñ_pbh\n",
    "\n",
    "def l(fpbh):\n",
    "    l_pbh = M_pbh**(1/3) * fpbh**(-1/3) * Omega_DM**(-1/3) * rho_tot**(-1/3)\n",
    "    return l_pbh.to(u.parsec)\n",
    "\n",
    "print(\"fpbh   nphb \\t\\t\\t\\t  ñpbh \\t\\t\\t\\t\\t lpbh\")\n",
    "for i in f_pbh:\n",
    "    print(\"%.2f\" % i,\"|\", n(i),\"\\t \", ñ(n(i)),\"\\t\", l(i))"
   ]
  },
  {
   "cell_type": "code",
   "execution_count": 29,
   "metadata": {},
   "outputs": [
    {
     "name": "stdout",
     "output_type": "stream",
     "text": [
      "x      z_dec\n",
      "0.01 | 573105.6076411078\n",
      "0.02 | 71637.32595513847\n",
      "0.03 | 21225.170653374367\n",
      "0.04 | 8953.790744392309\n",
      "0.05 | 4583.85286112886\n"
     ]
    }
   ],
   "source": [
    "##############################################################################################\n",
    "#If I evalue all functions at a mean_fpbh\n",
    "\n",
    "suma = 0\n",
    "for i in f_pbh:\n",
    "    suma = suma + i\n",
    "mean_fpbh = suma/len(f_pbh)\n",
    "m_n_pbh = n(mean_fpbh)\n",
    "m_ñ_pbh = ñ(n(mean_fpbh))\n",
    "m_l_pbh = l(mean_fpbh)\n",
    "#print(\"%.2f\" % (mean_fpbh))\n",
    "def x_max(z):\n",
    "    return mean_fpbh**(1/3) * m_l_pbh * (1+z)\n",
    "x_maxim = x_max(0)\n",
    "\n",
    "def z_decopling(x):\n",
    "    z_dec = (1+z_eq)*(x_maxim/x)**3 - 1\n",
    "    return z_dec\n",
    "#proponiendo x de tal manera que, x < x_maxim\n",
    "# Entonces:\n",
    "x_dec = np.arange(0.01,x_maxim.value,0.01)\n",
    "\n",
    "#Usando el array de x_dec para calcular el z_decopling, obtenemos:\n",
    "print(\"x      z_dec\")\n",
    "for i in x_dec:\n",
    "    print(i,\"|\", z_decopling(i*u.parsec))\n",
    "\n",
    "#para nuestra prueba, podemos tomar z_dec = 8953 con x_dec = 0.04 o bien, x_dec=0.5 con z_dec = 4583 el cual es mayor que z_rd\n",
    "\n",
    "a = 0.05*u.parsec/(1 + 4583)\n",
    "a_max = x_maxim / (1+z_eq)\n",
    "\n",
    "a1 = ((rho_c0*Omega_DM)/((1+z_eq)*M_pbh))*((0.04*u.parsec)**4)\n",
    "a1_max = ((rho_c0*Omega_DM)/((1+z_eq)*M_pbh))*(x_maxim**4)\n",
    "\n",
    "#print(\"\\n\")\n",
    "#print(a,a_max)\n",
    "#print(\"\\n\")\n",
    "#print(a1.to(u.parsec), a1_max.to(u.parsec))\n",
    "\n",
    "def e_max(a):\n",
    "    return (1 - (4*math.pi*m_ñ_pbh/3)**(2) * ((((1+z_eq)*M_pbh)/(rho_c0*Omega_DM))*a)**(3/2))**(1/2)\n",
    "#print(\"\\n\")\n",
    "#print(e_max(a_max), e_max(a))\n",
    "\n",
    "z_step = np.linspace(4580,1)\n",
    "a_array = []\n",
    "for i in z_step:\n",
    "    a_array.append(0.05*u.parsec/(1 + i))\n",
    "\n",
    "e_max_array=[]    \n",
    "for j in a_array:\n",
    "    e_max_array.append(e_max(j))\n",
    "\n",
    "   # print(e_max(0.05*u.parsec/(1 + i)))\n",
    "\n",
    "#pl.plot(a_array*(u.parsec), [e_max(0.05*u.parsec/(1 + i)) for i in z_step], color='k', linestyle='solid')\n",
    "#pl.ylim(0.989,1.001)\n",
    "#pl.xlim(0,0.0004)\n",
    "#pl.show()"
   ]
  },
  {
   "cell_type": "markdown",
   "metadata": {},
   "source": [
    "$$dP = \\frac{4\\pi^{2}}{3}n_{pbh}^{1/2}(1+z_{eq})^{3/2}f_{pbh}^{3/2}a^{1/2}e(1-e^{2})^{-3/2}dade$$"
   ]
  },
  {
   "cell_type": "code",
   "execution_count": 13,
   "metadata": {},
   "outputs": [],
   "source": [
    "def integrand_dP(a,e):\n",
    "    return a**(1/2) * e*(1 - e**(2))**(-3/2)\n",
    "\n",
    "for i in e_max_array:\n",
    "    if i<=48:\n",
    "        I, err = dblquad(integrand_dP, 0.0, a_max.value, lambda e: 0.0, lambda e:i)\n",
    "        P = I * (4/3)*math.pi**(2) * m_ñ_pbh**(1/2) * (1+z_eq)**(3/2) * mean_fpbh**(3/2) * (u.parsec**(3/2)) \n",
    "        #print(P)"
   ]
  },
  {
   "cell_type": "markdown",
   "metadata": {},
   "source": [
    "### Coalesence's Time to Primordial Black Holes\n",
    "\n",
    "PBH binaries that are formed in the radiation dominated epoch continuously emit gravitational waves, gradually shrink, and finally merge. Since the initial orbital parameters of the binaries are stochastic, some binaries merge in the past, some other at present epoch, and the others in the future. According to Peters, a binary\n",
    "consisting of point masses $m_{1}$ and $m_{2}$ with orbital parameter (a, e) merges due to gravitational\n",
    "radiation after time **t** given by\n",
    "\n",
    "$$t\\, = \\,\\frac{15}{304}\\frac{a^{4}}{G^{3}m_{1}m_{2}(m_{1} + m_{2})} \\left[\\frac{(1-e^{2})}{e^{\\frac{12}{19}}} \\left(1+\\frac{121}{304}e^{2}\\right)^{\\frac{870}{2299}}\\right]^{4} \\int\\limits_{0}^{e}de^{'}\\frac{e^{'\\frac{29}{19}}}{(1-e^{'2})^{-\\frac{3}{2}}}\\left(1 + \\frac{121}{304}e^{'2}\\right)^\\frac{870}{2299}$$\n",
    "\n",
    "When e \\~ 1, the above formula can be simplified as:\n",
    "\n",
    "$$ t = \\frac{3}{85}\\frac{1}{G^{3}m_{1}m_{2}(m_{1} + m_{2})}(1-e^{2})^{7/2}a^{4}$$\n",
    "\n",
    "For simplicity, let us consider change a notation:\n",
    "\n",
    "$$ t(a,e) = \\mathcal{Q}(1-e^{2})^{\\frac{7}{2}}a^{4} \\;\\;\\;\\;\\;\\;\\;\\;\\;\\;\\; \\mathcal{Q} = \\frac{3}{85}\\frac{c^{5}}{G^{3}m_{1}m_{2}(m_{1} + m_{2})}$$"
   ]
  },
  {
   "cell_type": "code",
   "execution_count": 7,
   "metadata": {},
   "outputs": [],
   "source": [
    "m1=24.5*const.M_sun\n",
    "m2=18.3*const.M_sun\n",
    "\n",
    "Q = (3/85)*((c**5)/(G**3 * m1*m2*(m1+m2))) #I need to add the constant c in order of dimensionality\n",
    "\n",
    "\n",
    "def t_merger(a, e): #Equation 148\n",
    "    t = Q*(1 - e**2)**(7/2) * (a**4)\n",
    "    return t\n",
    "\n",
    "t = (t_merger(separation,0.99)).to(u.Gyr)"
   ]
  },
  {
   "cell_type": "markdown",
   "metadata": {},
   "source": [
    "From this equation, we can express a as a function of t and e as a = a(t,e). Then, we can rewrite\n",
    "the probability (140) as\n",
    "$$dP = \\frac{4\\pi^{2}}{3}n_{pbh}^{1/2}(1+z_{eq})^{3/2}f_{pbh}^{3/2}a^{1/2}e(1-e^{2})^{-3/2}\\frac{\\partial{a}}{\\partial{t}} dtde$$\n",
    "\n",
    "Using: $$ a = \\left(\\frac{\\mathcal{Q^{-1}}\\;t}{(1-e^{2})^{7/2}}\\right)^{\\frac{1}{4}} \\implies \\frac{\\partial{a}}{\\partial{t}} = \\frac{1}{4t}\\left(\\frac{Q^{-1}t}{(1-e^{2})^{7/2}}\\right)^{\\frac{1}{4}} = \\frac{a (t,e)}{4t}$$\n",
    "\n",
    "$$dP = \\frac{4\\pi^{2}}{3}n_{pbh}^{1/2}(1+z_{eq})^{3/2}f_{pbh}^{3/2}\\frac{a^{3/2}}{4t}e(1-e^{2})^{-3/2}dtde = \\frac{4\\pi^{2}}{3}n_{pbh}^{1/2}(1+z_{eq})^{3/2}f_{pbh}^{3/2}\\frac{(\\mathcal{Q}^{-1}\\;t)^{3/8}}{4t}dt \\int\\limits_{0}^{e_{upper}}\\frac{e}{(1-e^{2})^{45/16}}\\;de $$\n",
    "\n",
    "$$dP = \\frac{3}{58}\\left(\\frac{t}{T}\\right)^{\\frac{3}{8}}\\left[\\frac{1}{(1-e^{2}_{upper})^{\\frac{25}{16}}} - 1 \\right]\\frac{dt}{t} \\;\\;\\;\\;\\;\\;\\;\\;\\;\\; T = \\mathcal{Q}\\left(\\frac{3y_{max}}{4 \\pi f_{PBH} (1 + z_{eq})}\\right)^{4} \\;\\;\\;\\;\\;\\; \\mathcal{y}_{max} = \\left(\\frac{4\\pi}{3}n_{PBH}\\right)^{-1/3} $$\n",
    "\n",
    "$$dP = \\frac{3}{58}T^{-3/8}\\left[\\frac{1}{(1-e^{2}_{upper})^{\\frac{25}{16}}} - 1 \\right]\\int\\limits_{0}^{t}\\frac{dt}{t^{5/8}}$$"
   ]
  },
  {
   "cell_type": "code",
   "execution_count": 44,
   "metadata": {},
   "outputs": [],
   "source": [
    "y_max = (4*math.pi*m_ñ_pbh/3)**(-1/3)\n",
    "T = Q*(((3*y_max)/(4*math.pi*mean_fpbh*(1+z_eq)))**4)\n",
    "t_c = (T * ((4*math.pi * mean_fpbh)/ 3)**(37/3)).to(u.Gyr)\n",
    "\n",
    "def dP(t):\n",
    "    return (t**(-5/8))    "
   ]
  },
  {
   "cell_type": "markdown",
   "metadata": {},
   "source": [
    "$$P \\;\\;\\;=\\;\\;\\; \\frac{3}{58}T^{-3/8}\\left[\\frac{1}{(1-e^{2}_{upper})^{\\frac{25}{16}}} - 1 \\right]\\left[\\frac{8}{3}t^{3/8}\\right]\\;\\;\\;=\\;\\;\\; \\frac{8}{58}\\left[\\frac{1}{(1-e^{2}_{upper})^{\\frac{25}{16}}} - 1 \\right]\\left[\\frac{t}{T}\\right]^{3/8} $$\n",
    "\n",
    "$$\\mathcal{e}_{upper} = \\left\\{ \\begin{array}{lcc}\n",
    "             \\sqrt{1-(\\frac{t}{T})^{\\frac{6}{37}}} &   for & x < t_{c} \\\\\n",
    "             \\\\ \\sqrt{1 - \\left(\\frac{4\\pi f_{PBH}}{3}\\right)^{2}\\left(\\frac{t}{t_{c}}\\right)^{\\frac{2}{7}}} &  for & t \\geq t_{c}\n",
    "             \\end{array}\n",
    "   \\right.$$"
   ]
  },
  {
   "cell_type": "code",
   "execution_count": 37,
   "metadata": {},
   "outputs": [
    {
     "name": "stdout",
     "output_type": "stream",
     "text": [
      "Data in:\n",
      "Masses:\t 24.5 solMass 18.3 solMass\n",
      "Separation:\t 0.1 AU\n",
      "Excentricity:\t 0.99\n",
      "f_pbh:\t 0.46\n",
      "n_pbh:\t 6.381975111448834e-08 1 / pc3\n",
      "t_merger equation 148: 3.361967006079382e-06 Gyr\n",
      "with t < t_c the probability is: \t P = 0.36655856898093886\n"
     ]
    }
   ],
   "source": [
    "print(\"Data in:\")\n",
    "print(\"Masses:\\t\", m1/const.M_sun * u.M_sun, m2/const.M_sun * u.M_sun)\n",
    "print(\"Separation:\\t\", a_s)\n",
    "print(\"Excentricity:\\t\", 0.99)\n",
    "print(\"f_pbh:\\t\",\"%.2f\" % mean_fpbh)\n",
    "print(\"n_pbh:\\t\", m_ñ_pbh)\n",
    "print(\"t_merger equation 148:\", (t_merger(separation,0.99)).to(u.Gyr))\n",
    "\n",
    "t_integrated, err = quad(dP, 0.0, 10.0)\n",
    "\n",
    "if t_integrated < t_c.value:\n",
    "    e_up = math.sqrt(1 - (t/T)**(6/37))\n",
    "    P = (3/58)*t_integrated*(u.Gyr**(3/8))*((T.to(u.Gyr))**(-3/8))*((1 /(1 - (e_up**2))**(29/16)) - 1)\n",
    "    print(\"with t < t_c the probability is: \\t P =\", P)\n",
    "\n",
    "if t_integrated >= t_c.value:\n",
    "    e_up = math.sqrt(1 - (4*math.pi*mean_fpbh/3)**2 * (t/t_c)**(2/7))\n",
    "    P = (3/58)*t_integrated*(u.Gyr**(3/8))*((T.to(u.Gyr))**(-3/8))*((1 /(1 - (e_up**2))**(29/16)) - 1)\n",
    "    print(\"with t >= t_c the probability is: \\t P =\", P)"
   ]
  },
  {
   "cell_type": "markdown",
   "metadata": {},
   "source": [
    "### Merger event rate R per unit volume per unit time (at time t) is given by:\n",
    "\n",
    "\n",
    "$$\\mathcal{R} = n_{PBH}\\frac{dP}{dt} = \\frac{3n_{PBH}}{58}\\left(\\frac{t}{T}\\right)^{\\frac{3}{8}}\\left[\\frac{1}{(1-e^{2}_{upper})^{\\frac{25}{16}}} - 1 \\right]\\frac{1}{t} $$"
   ]
  },
  {
   "cell_type": "code",
   "execution_count": 47,
   "metadata": {},
   "outputs": [
    {
     "name": "stdout",
     "output_type": "stream",
     "text": [
      "9.750094969992241e-06 1 / (Gyr pc3)\n"
     ]
    }
   ],
   "source": [
    "T = T.to(u.Gyr)\n",
    "e_up = math.sqrt(1 - (t/T)**(6/37))\n",
    "E_Rate = (3/58) * m_ñ_pbh * ((t/T)**(3/8)) * ((1 /(1 - (e_up**2))**(29/16)) - 1) * (1/t)\n",
    "print(E_Rate)"
   ]
  }
 ],
 "metadata": {
  "kernelspec": {
   "display_name": "Python 3",
   "language": "python",
   "name": "python3"
  },
  "language_info": {
   "codemirror_mode": {
    "name": "ipython",
    "version": 3
   },
   "file_extension": ".py",
   "mimetype": "text/x-python",
   "name": "python",
   "nbconvert_exporter": "python",
   "pygments_lexer": "ipython3",
   "version": "3.8.5"
  }
 },
 "nbformat": 4,
 "nbformat_minor": 4
}
