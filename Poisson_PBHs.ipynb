{
 "cells": [
  {
   "cell_type": "markdown",
   "metadata": {},
   "source": [
    "# Poisson Distribution to PBHs\n",
    "\n",
    "**References:**  [arXiv:1910.06077](https://arxiv.org/pdf/1910.06077.pdf), https://arxiv.org/pdf/1904.00984.pdf,\n",
    "https://arxiv.org/pdf/1908.03596.pdf, https://arxiv.org/pdf/1805.03946.pdf, \n",
    "https://arxiv.org/pdf/0903.3184.pdf\n",
    "https://arxiv.org/pdf/1803.00070.pdf  #lecture\n",
    "###### Code Writed by Tadeo D.\n"
   ]
  },
  {
   "cell_type": "code",
   "execution_count": 3,
   "metadata": {},
   "outputs": [],
   "source": [
    "import numpy as np\n",
    "import matplotlib.pyplot as pl\n",
    "import matplotlib as mpl\n",
    "import math\n",
    "import seaborn as sns\n",
    "from scipy import stats \n",
    "import csv\n",
    "from scipy import constants\n",
    "from tqdm import tqdm\n",
    "from scipy.integrate import quad, dblquad\n",
    "from astropy.cosmology import WMAP9 as cosmo\n",
    "from astropy import constants as const\n",
    "import astropy.units as u\n",
    "from units import unit\n",
    "#from astropy.cosmology import WMAP9, z_at_value\n",
    "import pandas as pd\n",
    "from mpl_toolkits.mplot3d import Axes3D\n",
    "from matplotlib import cm\n",
    "pl.rcParams['figure.figsize'] = (16, 9)\n",
    "pl.style.use('ggplot')\n",
    "from sklearn import linear_model\n",
    "from sklearn.linear_model import LinearRegression\n",
    "from sklearn.metrics import mean_squared_error, r2_score\n",
    "#\n",
    "from mlxtend.plotting import plot_linear_regression\n",
    "from sympy import *"
   ]
  },
  {
   "cell_type": "code",
   "execution_count": 35,
   "metadata": {},
   "outputs": [],
   "source": [
    "#It's a example section to prove a bit algorithm from Poisson Distribution\n",
    "#You doesn't pay attention\n",
    "\n",
    "np.random.seed(2000) # replicar random\n",
    "\n",
    "# parametros esteticos de seaborn\n",
    "sns.set_palette(\"deep\", desat=.6)\n",
    "sns.set_context(rc={\"figure.figsize\": (8, 4)})\n",
    "\n",
    "mu =  3.6 # parametro de forma \n",
    "poisson = stats.poisson(mu) # Distribución\n",
    "x = np.arange(poisson.ppf(0.01), poisson.ppf(0.99))\n",
    "fmp = poisson.pmf(x) # Función de Masa de Probabilidad\n",
    "#pl.plot(x, fmp, '--')\n",
    "#pl.vlines(x, 0, fmp, colors='b', lw=5, alpha=0.5)\n",
    "#pl.title('Distribución Poisson Ejemplo')\n",
    "#pl.ylabel('probabilidad')\n",
    "#pl.xlabel('valores')\n",
    "#pl.show()"
   ]
  },
  {
   "cell_type": "code",
   "execution_count": 91,
   "metadata": {},
   "outputs": [
    {
     "name": "stdout",
     "output_type": "stream",
     "text": [
      "0.09407152428632558\n"
     ]
    }
   ],
   "source": [
    "H_0 = cosmo.H(0)\n",
    "R = (const.c/(cosmo.scale_factor(3550)*(cosmo.H(3550)))).to(u.gigaparsec)\n",
    "delta_c = 0.51\n",
    "#k=2.0*math.pi\n",
    "j = [0, 1, 2]\n",
    "\n",
    "print(R.value)\n",
    "\n",
    "\n",
    "#d_c = np.arange(0.44,0.67,0.001)\n",
    "#print(delta_c1(d_c))\n",
    "#note n --> eta greek font\n",
    "\n",
    "#I need to \"k\", \"j\", \"n(eta)\".\n",
    "\n",
    "Pc = 10**(-9.0) #1907.04125 page_4\n",
    "\n",
    "def integrand(z):\n",
    "    omega_r = 8.070427106422706e-5 \n",
    "    omega_m = 0.31\n",
    "    omega_lmd = 0.69 - 8.070427106422706e-5\n",
    "    omega_k = 0\n",
    "    return 1/((omega_r*((1+z)**4)) + \n",
    "                     (omega_m*((1+z)**3)) + \n",
    "                     (omega_lmd) + \n",
    "                     (omega_k*((1+z)**2)))**(1/2)\n",
    "    \n",
    "def integrand_2(a):\n",
    "    omega_r = 8.070427106422706e-5 \n",
    "    omega_m = 0.31\n",
    "    omega_lmd = 0.69 - 8.070427106422706e-5\n",
    "    omega_k = 0\n",
    "    return 1/(((omega_r) + \n",
    "                     (omega_m*(a)) + \n",
    "                     (omega_lmd*(a)**4) + \n",
    "                     (omega_k*(a**2)))**(1/2))\n",
    "\n",
    "def delta_c1(delta_c): #equation 2.5\n",
    "    d_c1 = (4.0/3.0)*(1.0-np.sqrt(1.0-(3.0*delta_c/2.0)))\n",
    "    return d_c1\n",
    "\n",
    "#def sigma_integral(j, P_d1):#Equation 2.6.2\n",
    "#    return quad(integrand_sigma, 0, np.inf, args(j,P_d1))\n",
    "\n",
    "def P_delta1(W, T, P_c):#Equation 2.7 #Whithout integral\n",
    "    P_d1 = (16/81)*((k*R)**4)*(W**2)*(T**2)*P_c\n",
    "    return P_d1\n",
    "\n",
    "def W(k, R): #equation 2.8\n",
    "    W = 3*(math.sin(k*R)-k*R*math.cos(k*R))/((k*R)**3.0)\n",
    "    return W\n",
    "\n",
    "def T(k, n): #Equation 2.9\n",
    "    T = 3*(math.sin(k*n/np.sqrt(3.0))-(k*n/np.sqrt(3.0))*math.cos(k*n/np.sqrt(3.0)))/(k*n/np.sqrt(3.0)**3.0)\n",
    "    return T\n",
    "\n",
    "def integrand_sigma(k,j,P_d1):#Equation 2.6.1\n",
    "    return (1/k)*P_d1*((k*R)**(2.0*j))\n"
   ]
  },
  {
   "cell_type": "code",
   "execution_count": 78,
   "metadata": {},
   "outputs": [
    {
     "name": "stdout",
     "output_type": "stream",
     "text": [
      "n(t0):  45.19437043672718 Gyr\n",
      "conformal time radiation age:  0.362016415709873 Gyr\n"
     ]
    }
   ],
   "source": [
    "I, err = quad(integrand, 0, np.inf)\n",
    "n = ((1/H_0)*I).to(u.Gyr)\n",
    "print(\"n(t0): \", n)\n",
    "\n",
    "z_eq = 3450\n",
    "z_r = 3550\n",
    "\n",
    "I_2, err_2 = quad(integrand_2, 0, 1/(1+z_r))\n",
    "n_2 = ((1/H_0)*I_2).to(u.Gyr)\n",
    "print(\"conformal time radiation age: \", n_2)\n"
   ]
  },
  {
   "cell_type": "code",
   "execution_count": null,
   "metadata": {},
   "outputs": [],
   "source": []
  }
 ],
 "metadata": {
  "kernelspec": {
   "display_name": "Python 3",
   "language": "python",
   "name": "python3"
  },
  "language_info": {
   "codemirror_mode": {
    "name": "ipython",
    "version": 3
   },
   "file_extension": ".py",
   "mimetype": "text/x-python",
   "name": "python",
   "nbconvert_exporter": "python",
   "pygments_lexer": "ipython3",
   "version": "3.8.5"
  }
 },
 "nbformat": 4,
 "nbformat_minor": 4
}
