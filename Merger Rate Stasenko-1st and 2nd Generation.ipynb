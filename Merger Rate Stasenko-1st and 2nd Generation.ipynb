{
 "cells": [
  {
   "cell_type": "markdown",
   "id": "38fc868d",
   "metadata": {},
   "source": [
    "### Merger Rate of Black Holes in a Primordial Black Hole Cluster\n",
    "\n",
    "###### Code Writed by Tadeo D.\n",
    "###### Dedicated to the Moon of my life.\n",
    "**References:** [arXiv:2105.14523](https://arxiv.org/pdf/2105.14523.pdf)."
   ]
  },
  {
   "cell_type": "code",
   "execution_count": 1,
   "id": "5aae6648",
   "metadata": {},
   "outputs": [],
   "source": [
    "import numpy as np\n",
    "import matplotlib.pyplot as pl\n",
    "import matplotlib as mpl\n",
    "import math\n",
    "import seaborn as sns\n",
    "from scipy import stats\n",
    "from astropy import constants as const\n",
    "import csv\n",
    "from scipy import constants\n",
    "from scipy.integrate import odeint\n",
    "from tqdm import tqdm\n",
    "from scipy import integrate\n",
    "from scipy.integrate import quad, dblquad\n",
    "from astropy.cosmology import Planck18 as cosmo# WMAP9 as cosmo #\n",
    "import astropy.units as u\n",
    "from sklearn import linear_model\n",
    "from sklearn.linear_model import LinearRegression\n",
    "from sklearn.metrics import mean_squared_error, r2_score\n",
    "from sympy import *\n",
    "from sympy import simplify\n",
    "import pandas as pd"
   ]
  },
  {
   "cell_type": "code",
   "execution_count": 2,
   "id": "0d6c8254",
   "metadata": {},
   "outputs": [],
   "source": [
    "H0 = cosmo.H(0)  #cosmo.H(0)  <Quantity 67.66 km / (Mpc s)>\n",
    "G = const.G\n",
    "c = const.c\n",
    "z_r = 5000 #3450\n",
    "z_eq = 3411\n",
    "z_0 = 0\n",
    "z_init = 6.900e9\n",
    "rho_c0 = (3*(H0**2))/(8*math.pi*G)\n",
    "rho_eq = cosmo.critical_density(3411)\n",
    "rho_crit = cosmo.critical_density(0)\n",
    "Omega_DM = cosmo.Odm(0)\n",
    "Omega_M = cosmo.Om(0)\n",
    "Omega_R = 8.4e-5\n",
    "Omega_lmb = 1-Omega_M - Omega_R"
   ]
  },
  {
   "cell_type": "markdown",
   "id": "7161fe4d",
   "metadata": {},
   "source": [
    "$$\\rho_{i}(r) = \\rho_{0,i}\\left(\\frac{r}{r_{0}}\\right)^{-1} \\left(1 + \\frac{r^{2}}{r^{2}_{0}}\\right)^{-2}$$"
   ]
  },
  {
   "cell_type": "code",
   "execution_count": 3,
   "id": "288ba2eb",
   "metadata": {},
   "outputs": [
    {
     "name": "stdout",
     "output_type": "stream",
     "text": [
      "N_i =\t 50000.0\n",
      "N_j =\t 50000.0\n",
      "M =\t 100000.0 solMass\n",
      "R =\t 1.0 pc\n",
      "v_rel =\t 6.7209397035645e-13 pc / s\n",
      "m_i =\t 1.0 solMass\n",
      "m_j =\t 1.0 solMass\n",
      "E =\t 5.6463788123687055e-21 pc2 / s2\n"
     ]
    }
   ],
   "source": [
    "M = 10**5 * u.M_sun#M is the total mass of the cluster\n",
    "R = 1.*u.parsec #Scale factor that determines the core radius\n",
    "v_rel = (G*M/R)**(1./2.)#The characteristic velocity of the PBHs\n",
    "m_i = 1.*u.M_sun\n",
    "m_j = 1.*u.M_sun\n",
    "N_i = M/(2*m_i) #is the number of stars of mass m_i\n",
    "N_j = M/(2*m_j) #is the number of stars of mass m_i\n",
    "Energy = G*(m_i*N_i)**(2.)/((2*R)*(1*u.M_sun)) #According to the virial theorem, the total energy\n",
    "\n",
    "print(\"N_i =\\t\", N_i)\n",
    "print(\"N_j =\\t\", N_j)\n",
    "print(\"M =\\t\", M)\n",
    "print(\"R =\\t\", R)\n",
    "print(\"v_rel =\\t\", v_rel.to(u.parsec* u.s**(-1)))\n",
    "print(\"m_i =\\t\", m_i)\n",
    "print(\"m_j =\\t\", m_j)\n",
    "print(\"E =\\t\", Energy.to(u.parsec**2.*u.s**(-2.)))"
   ]
  },
  {
   "cell_type": "code",
   "execution_count": 4,
   "id": "e8eb2cea",
   "metadata": {},
   "outputs": [
    {
     "name": "stdout",
     "output_type": "stream",
     "text": [
      "6.19832413121049e+29 m(32/7) / s(18/7)\n"
     ]
    }
   ],
   "source": [
    "sigma = 2*math.pi*(85*math.pi/(6*math.sqrt(2)))**(2./7.) * (G**(2.) * (m_i+m_j)**(10./7.) * m_i**(2./7.) * m_j**(2./7.))/(c**(10./7.))\n",
    "sigma = sigma.to(u.m**(32./7)/u.s**(18./7.))#.to(u.parsec**2)\n",
    "print(sigma)\n",
    "#print(sigma)\n",
    "#sigma.to(u.AU**2)\n",
    "#sigma.to(u.parsec**2.)"
   ]
  },
  {
   "cell_type": "code",
   "execution_count": 5,
   "id": "ac72b1fa",
   "metadata": {},
   "outputs": [],
   "source": [
    "def f_i(E): ## eq. 19 shapiro\n",
    "    return (24. * (2.)**(1./2.) * N_i * R**2. * E**(7./2.))/(7*(math.pi**(3.))*(G**5.)*(M**5.))\n",
    "\n",
    "def rho_i(r):## eq. 20\n",
    "    return ((3*M)/(4*(math.pi)*(R**(3.))))*((1 + r**(2.)/R**(2.))**(-5./2.))\n",
    "\n",
    "def phi(r):## eq. 21\n",
    "    return (G*M/R)*((1 + r**(2.)/R**(2.))**(-1./2.))\n",
    "\n",
    "def integrant(E):\n",
    "    return E**(7./2.)*((2*(a - E))**(3./2.))"
   ]
  },
  {
   "cell_type": "code",
   "execution_count": 58,
   "id": "e2edbc34",
   "metadata": {},
   "outputs": [
    {
     "data": {
      "text/latex": [
       "$9.9020484 \\times 10^{25} \\; \\mathrm{\\frac{s^{3}\\,kg^{3/2}}{pc^{3/2}\\,M_{\\odot}^{3/2}\\,m^{9/2}}}$"
      ],
      "text/plain": [
       "<Quantity 9.90204842e+25 kg(3/2) s3 / (m(9/2) pc(3/2) solMass(3/2))>"
      ]
     },
     "execution_count": 58,
     "metadata": {},
     "output_type": "execute_result"
    }
   ],
   "source": [
    "f_i(Energy)\n",
    "#PH_i(1.*u.parsec)\n",
    "#rho_i(1*u.parsec)"
   ]
  },
  {
   "cell_type": "code",
   "execution_count": 7,
   "id": "cd09a8d3",
   "metadata": {},
   "outputs": [
    {
     "name": "stdout",
     "output_type": "stream",
     "text": [
      "11936.620731892152 1 / pc3\n"
     ]
    }
   ],
   "source": [
    "n = (3.*N_i)/(4*math.pi*(R**(3.)))\n",
    "print(n)"
   ]
  },
  {
   "cell_type": "code",
   "execution_count": 8,
   "id": "6d7fa94d",
   "metadata": {},
   "outputs": [
    {
     "name": "stdout",
     "output_type": "stream",
     "text": [
      "r(pc)\t\t phi(r) \t\t\t\t\t\t v_i(r)\n",
      "0.10 \t 4.494685526656458e-25 pc2 / s2 \t 10.343563310882228 km / s \t 10.343563984070622 km / s\n",
      "0.20 \t 4.429383960831521e-25 pc2 / s2 \t 10.268149557956848 km / s \t 10.268150226237102 km / s\n",
      "0.30 \t 4.326600034242027e-25 pc2 / s2 \t 10.14831399245809 km / s \t 10.148314652939108 km / s\n",
      "0.40 \t 4.194024892154189e-25 pc2 / s2 \t 9.991622634567255 km / s \t 9.991623284850354 km / s\n",
      "0.50 \t 4.0402197923747064e-25 pc2 / s2 \t 9.806702875881479 km / s \t 9.806703514129477 km / s\n",
      "0.60 \t 3.8733839099994897e-25 pc2 / s2 \t 9.602090466506885 km / s \t 9.602091091438126 km / s\n",
      "0.70 \t 3.7005550067478666e-25 pc2 / s2 \t 9.385425212121893 km / s \t 9.385425822951948 km / s\n",
      "0.80 \t 3.527264880702962e-25 pc2 / s2 \t 9.163039494364146 km / s \t 9.163040090720708 km / s\n",
      "0.90 \t 3.357536254982149e-25 pc2 / s2 \t 8.93986327383099 km / s \t 8.93986385566261 km / s\n",
      "1.00 \t 3.1940741978991656e-25 pc2 / s2 \t 8.719528902274764 km / s \t 8.719529469766401 km / s\n",
      "\n",
      "\n"
     ]
    }
   ],
   "source": [
    "r = np.linspace(.1, 1., 10)\n",
    "print(\"r(pc)\\t\\t phi(r) \\t\\t\\t\\t\\t\\t v_i(r)\")\n",
    "phi_array=[]\n",
    "for i in r:\n",
    "    i=i*u.parsec\n",
    "    rho_value = rho_i(i)\n",
    "    phi_value = phi(i).to(u.parsec**(2.)/u.s**2)\n",
    "    #print(rho_i(i), \"\\t\", phi_value)\n",
    "    phi_array.append(phi_value.value)\n",
    "    a = phi_value.value\n",
    "    I, err = quad(integrant, 0, a)\n",
    "    constant = ((4.*math.pi*m_i)/rho_value)\n",
    "    constant2 = (24. * (2.**(1./2.)) * N_i * R**(2.))/(7.*(math.pi**(3.))*(G**5.)*(M**5.))\n",
    "    const = (constant*constant2).to(u.s**(10)/u.m**(10))\n",
    "    vel = (I*const*(u.parsec**(12.)/(u.s**(12.)))).to(u.km**(2.)/(u.s**(2.)))\n",
    "    result = ((7*math.pi*(phi_value**6.))/(2.**(17./2.)))\n",
    "    vel2 = (result*const).to(u.km**(2.)/(u.s**(2.)))\n",
    "    print(\"%.2f\" %i.value,\"\\t\",phi_value,\"\\t\",(vel**(1./2.)),\"\\t\", (vel2**(1./2.)))\n",
    "print(\"\\n\")\n",
    "#print(phi_array)"
   ]
  },
  {
   "cell_type": "code",
   "execution_count": 9,
   "id": "d86d424a",
   "metadata": {},
   "outputs": [],
   "source": [
    "def n_i(r):\n",
    "    return (rho_i(r)/m_i)\n",
    "\n",
    "def n_j(r2):\n",
    "    return (rho_i(r2)/m_j)\n",
    "\n",
    "def vel_j(r):\n",
    "    constant = ((4.*math.pi*m_j)/rho_i(r))\n",
    "    constant2 = (24. * (2.**(1./2.)) * N_j * R**(2.))/(7.*(math.pi**(3.))*(G**5.)*(M**5.))\n",
    "    const = (constant*constant2).to(u.s**(10)/u.m**(10))\n",
    "    result = ((7*math.pi*(phi(r)**6.))/(2.**(17./2.)))\n",
    "    return ((result*const).to(u.km**(2.)/(u.s**(2.))))**(1./2.)\n",
    "#print(n_i(1*u.parsec))"
   ]
  },
  {
   "cell_type": "code",
   "execution_count": 10,
   "id": "50edcb33",
   "metadata": {},
   "outputs": [
    {
     "name": "stdout",
     "output_type": "stream",
     "text": [
      "Redshift= 0\n",
      "Mass \t delta \t\t tau_capture\n",
      "0.1 \t 7.2e+11  \t 2.62e-07 1 / Gyr\n",
      "3.4 \t 7.2e+11  \t 8.95e-06 1 / Gyr\n",
      "6.7 \t 7.2e+11  \t 1.76e-05 1 / Gyr\n",
      "10.1 \t 7.2e+11  \t 2.63e-05 1 / Gyr\n",
      "13.4 \t 7.2e+11  \t 3.50e-05 1 / Gyr\n",
      "16.7 \t 7.2e+11  \t 4.37e-05 1 / Gyr\n",
      "20.0 \t 7.2e+11  \t 5.24e-05 1 / Gyr\n",
      "23.4 \t 7.2e+11  \t 6.11e-05 1 / Gyr\n",
      "26.7 \t 7.2e+11  \t 6.98e-05 1 / Gyr\n",
      "30.0 \t 7.2e+11  \t 7.85e-05 1 / Gyr\n",
      "\n",
      "\n",
      "Redshift= 1\n",
      "Mass \t delta \t\t tau_capture\n",
      "0.1 \t 9.0e+10  \t 2.62e-07 1 / Gyr\n",
      "3.4 \t 9.0e+10  \t 8.95e-06 1 / Gyr\n",
      "6.7 \t 9.0e+10  \t 1.76e-05 1 / Gyr\n",
      "10.1 \t 9.0e+10  \t 2.63e-05 1 / Gyr\n",
      "13.4 \t 9.0e+10  \t 3.50e-05 1 / Gyr\n",
      "16.7 \t 9.0e+10  \t 4.37e-05 1 / Gyr\n",
      "20.0 \t 9.0e+10  \t 5.24e-05 1 / Gyr\n",
      "23.4 \t 9.0e+10  \t 6.11e-05 1 / Gyr\n",
      "26.7 \t 9.0e+10  \t 6.98e-05 1 / Gyr\n",
      "30.0 \t 9.0e+10  \t 7.85e-05 1 / Gyr\n",
      "\n",
      "\n",
      "Redshift= 2\n",
      "Mass \t delta \t\t tau_capture\n",
      "0.1 \t 2.7e+10  \t 2.62e-07 1 / Gyr\n",
      "3.4 \t 2.7e+10  \t 8.95e-06 1 / Gyr\n",
      "6.7 \t 2.7e+10  \t 1.76e-05 1 / Gyr\n",
      "10.1 \t 2.7e+10  \t 2.63e-05 1 / Gyr\n",
      "13.4 \t 2.7e+10  \t 3.50e-05 1 / Gyr\n",
      "16.7 \t 2.7e+10  \t 4.37e-05 1 / Gyr\n",
      "20.0 \t 2.7e+10  \t 5.24e-05 1 / Gyr\n",
      "23.4 \t 2.7e+10  \t 6.11e-05 1 / Gyr\n",
      "26.7 \t 2.7e+10  \t 6.98e-05 1 / Gyr\n",
      "30.0 \t 2.7e+10  \t 7.85e-05 1 / Gyr\n",
      "\n",
      "\n",
      "Redshift= 3\n",
      "Mass \t delta \t\t tau_capture\n",
      "0.1 \t 1.1e+10  \t 2.62e-07 1 / Gyr\n",
      "3.4 \t 1.1e+10  \t 8.95e-06 1 / Gyr\n",
      "6.7 \t 1.1e+10  \t 1.76e-05 1 / Gyr\n",
      "10.1 \t 1.1e+10  \t 2.63e-05 1 / Gyr\n",
      "13.4 \t 1.1e+10  \t 3.50e-05 1 / Gyr\n",
      "16.7 \t 1.1e+10  \t 4.37e-05 1 / Gyr\n",
      "20.0 \t 1.1e+10  \t 5.24e-05 1 / Gyr\n",
      "23.4 \t 1.1e+10  \t 6.11e-05 1 / Gyr\n",
      "26.7 \t 1.1e+10  \t 6.98e-05 1 / Gyr\n",
      "30.0 \t 1.1e+10  \t 7.85e-05 1 / Gyr\n",
      "\n",
      "\n",
      "Redshift= 4\n",
      "Mass \t delta \t\t tau_capture\n",
      "0.1 \t 5.8e+09  \t 2.62e-07 1 / Gyr\n",
      "3.4 \t 5.8e+09  \t 8.95e-06 1 / Gyr\n",
      "6.7 \t 5.8e+09  \t 1.76e-05 1 / Gyr\n",
      "10.1 \t 5.8e+09  \t 2.63e-05 1 / Gyr\n",
      "13.4 \t 5.8e+09  \t 3.50e-05 1 / Gyr\n",
      "16.7 \t 5.8e+09  \t 4.37e-05 1 / Gyr\n",
      "20.0 \t 5.8e+09  \t 5.24e-05 1 / Gyr\n",
      "23.4 \t 5.8e+09  \t 6.11e-05 1 / Gyr\n",
      "26.7 \t 5.8e+09  \t 6.98e-05 1 / Gyr\n",
      "30.0 \t 5.8e+09  \t 7.85e-05 1 / Gyr\n",
      "\n",
      "\n",
      "Redshift= 5\n",
      "Mass \t delta \t\t tau_capture\n",
      "0.1 \t 3.3e+09  \t 2.62e-07 1 / Gyr\n",
      "3.4 \t 3.3e+09  \t 8.95e-06 1 / Gyr\n",
      "6.7 \t 3.3e+09  \t 1.76e-05 1 / Gyr\n",
      "10.1 \t 3.3e+09  \t 2.63e-05 1 / Gyr\n",
      "13.4 \t 3.3e+09  \t 3.50e-05 1 / Gyr\n",
      "16.7 \t 3.3e+09  \t 4.37e-05 1 / Gyr\n",
      "20.0 \t 3.3e+09  \t 5.24e-05 1 / Gyr\n",
      "23.4 \t 3.3e+09  \t 6.11e-05 1 / Gyr\n",
      "26.7 \t 3.3e+09  \t 6.98e-05 1 / Gyr\n",
      "30.0 \t 3.3e+09  \t 7.85e-05 1 / Gyr\n",
      "\n",
      "\n",
      "Redshift= 6\n",
      "Mass \t delta \t\t tau_capture\n",
      "0.1 \t 2.1e+09  \t 2.62e-07 1 / Gyr\n",
      "3.4 \t 2.1e+09  \t 8.95e-06 1 / Gyr\n",
      "6.7 \t 2.1e+09  \t 1.76e-05 1 / Gyr\n",
      "10.1 \t 2.1e+09  \t 2.63e-05 1 / Gyr\n",
      "13.4 \t 2.1e+09  \t 3.50e-05 1 / Gyr\n",
      "16.7 \t 2.1e+09  \t 4.37e-05 1 / Gyr\n",
      "20.0 \t 2.1e+09  \t 5.24e-05 1 / Gyr\n",
      "23.4 \t 2.1e+09  \t 6.11e-05 1 / Gyr\n",
      "26.7 \t 2.1e+09  \t 6.98e-05 1 / Gyr\n",
      "30.0 \t 2.1e+09  \t 7.85e-05 1 / Gyr\n",
      "\n",
      "\n",
      "Redshift= 7\n",
      "Mass \t delta \t\t tau_capture\n",
      "0.1 \t 1.4e+09  \t 2.62e-07 1 / Gyr\n",
      "3.4 \t 1.4e+09  \t 8.95e-06 1 / Gyr\n",
      "6.7 \t 1.4e+09  \t 1.76e-05 1 / Gyr\n",
      "10.1 \t 1.4e+09  \t 2.63e-05 1 / Gyr\n",
      "13.4 \t 1.4e+09  \t 3.50e-05 1 / Gyr\n",
      "16.7 \t 1.4e+09  \t 4.37e-05 1 / Gyr\n",
      "20.0 \t 1.4e+09  \t 5.24e-05 1 / Gyr\n",
      "23.4 \t 1.4e+09  \t 6.11e-05 1 / Gyr\n",
      "26.7 \t 1.4e+09  \t 6.98e-05 1 / Gyr\n",
      "30.0 \t 1.4e+09  \t 7.85e-05 1 / Gyr\n",
      "\n",
      "\n",
      "Redshift= 8\n",
      "Mass \t delta \t\t tau_capture\n",
      "0.1 \t 9.9e+08  \t 2.62e-07 1 / Gyr\n",
      "3.4 \t 9.9e+08  \t 8.95e-06 1 / Gyr\n",
      "6.7 \t 9.9e+08  \t 1.76e-05 1 / Gyr\n",
      "10.1 \t 9.9e+08  \t 2.63e-05 1 / Gyr\n",
      "13.4 \t 9.9e+08  \t 3.50e-05 1 / Gyr\n",
      "16.7 \t 9.9e+08  \t 4.37e-05 1 / Gyr\n",
      "20.0 \t 9.9e+08  \t 5.24e-05 1 / Gyr\n",
      "23.4 \t 9.9e+08  \t 6.11e-05 1 / Gyr\n",
      "26.7 \t 9.9e+08  \t 6.98e-05 1 / Gyr\n",
      "30.0 \t 9.9e+08  \t 7.85e-05 1 / Gyr\n",
      "\n",
      "\n",
      "Redshift= 9\n",
      "Mass \t delta \t\t tau_capture\n",
      "0.1 \t 7.2e+08  \t 2.62e-07 1 / Gyr\n",
      "3.4 \t 7.2e+08  \t 8.95e-06 1 / Gyr\n",
      "6.7 \t 7.2e+08  \t 1.76e-05 1 / Gyr\n",
      "10.1 \t 7.2e+08  \t 2.63e-05 1 / Gyr\n",
      "13.4 \t 7.2e+08  \t 3.50e-05 1 / Gyr\n",
      "16.7 \t 7.2e+08  \t 4.37e-05 1 / Gyr\n",
      "20.0 \t 7.2e+08  \t 5.24e-05 1 / Gyr\n",
      "23.4 \t 7.2e+08  \t 6.11e-05 1 / Gyr\n",
      "26.7 \t 7.2e+08  \t 6.98e-05 1 / Gyr\n",
      "30.0 \t 7.2e+08  \t 7.85e-05 1 / Gyr\n",
      "\n",
      "\n",
      "Redshift= 10\n",
      "Mass \t delta \t\t tau_capture\n",
      "0.1 \t 5.4e+08  \t 2.62e-07 1 / Gyr\n",
      "3.4 \t 5.4e+08  \t 8.95e-06 1 / Gyr\n",
      "6.7 \t 5.4e+08  \t 1.76e-05 1 / Gyr\n",
      "10.1 \t 5.4e+08  \t 2.63e-05 1 / Gyr\n",
      "13.4 \t 5.4e+08  \t 3.50e-05 1 / Gyr\n",
      "16.7 \t 5.4e+08  \t 4.37e-05 1 / Gyr\n",
      "20.0 \t 5.4e+08  \t 5.24e-05 1 / Gyr\n",
      "23.4 \t 5.4e+08  \t 6.11e-05 1 / Gyr\n",
      "26.7 \t 5.4e+08  \t 6.98e-05 1 / Gyr\n",
      "30.0 \t 5.4e+08  \t 7.85e-05 1 / Gyr\n",
      "\n",
      "\n"
     ]
    }
   ],
   "source": [
    "def rho_bar_DM(z):\n",
    "    return cosmo.Odm(z)*cosmo.critical_density(z)\n",
    "\n",
    "m_array = np.linspace(.1, 30, 10)\n",
    "z = np.arange(0, 11, 1)\n",
    "rho_cluster = (3*M/(4*math.pi*(1*u.parsec)**3.))\n",
    "for i in z:\n",
    "    delta_rusa = (rho_cluster/(rho_bar_DM(i)))\n",
    "    delt_russ_value = delta_rusa.to((u.parsec**3 *u.M_sun)/(u.M_sun*u.parsec**3)) - 1\n",
    "    print(\"Redshift=\", i)\n",
    "    print(\"Mass \\t delta \\t\\t tau_capture\")\n",
    "    for j in m_array:\n",
    "        m_a = j*u.M_sun\n",
    "        m_b = m_a\n",
    "        n_PBH = (delt_russ_value * (rho_bar_DM(i)/(j*u.M_sun))).to(u.parsec**(-3))\n",
    "        sigma_PBH_capt = 2*math.pi*(85*math.pi/(6*math.sqrt(2)))**(2./7.) * (G**(2.) * (m_a+m_b)**(10./7.) * m_a**(2./7.) * m_b**(2./7.))/(c**(10./7.) * v_rel**(18./7.))\n",
    "        sigma_PBH_capt_value = sigma_PBH_capt.to(u.parsec**(2.))\n",
    "        tau_PBH_capt = (sigma_PBH_capt_value*n_PBH*v_rel)\n",
    "        print(\"%.1f\"%j,\"\\t\",\"{:.1e}\".format(delt_russ_value),\" \\t\",\"{:.2e}\".format(tau_PBH_capt.to(1/u.Gyr)))\n",
    "    print(\"\\n\")"
   ]
  },
  {
   "cell_type": "code",
   "execution_count": 11,
   "id": "30f6a7ef",
   "metadata": {},
   "outputs": [
    {
     "name": "stdout",
     "output_type": "stream",
     "text": [
      "\t\t redshift =  0\n",
      "mass \t  tau_merg \t \n",
      "0.10 \t  4.2079986591960573e-19 1 / yr  \t\t 5.801519486534667e-09\n",
      "10.07 \t  4.236051983590697e-17 1 / yr  \t\t 5.840196283111565e-07\n",
      "20.03 \t  8.430023980589436e-17 1 / yr  \t\t 1.1622377371357784e-06\n",
      "30.00 \t  1.262399597758817e-16 1 / yr  \t\t 1.7404558459604e-06\n",
      "\t\t redshift =  1\n",
      "mass \t  tau_merg \t \n",
      "0.10 \t  4.207998659155191e-19 1 / yr  \t\t 2.4622444760342563e-09\n",
      "10.07 \t  4.236051983549558e-17 1 / yr  \t\t 2.478659439207818e-07\n",
      "20.03 \t  8.430023980507563e-17 1 / yr  \t\t 4.932696433655291e-07\n",
      "30.00 \t  1.2623995977465568e-16 1 / yr  \t\t 7.386733428102767e-07\n",
      "\t\t redshift =  2\n",
      "mass \t  tau_merg \t \n",
      "0.10 \t  4.207998659044265e-19 1 / yr  \t\t 1.3788897863859477e-09\n",
      "10.07 \t  4.236051983437893e-17 1 / yr  \t\t 1.3880823849618536e-07\n",
      "20.03 \t  8.430023980285346e-17 1 / yr  \t\t 2.7623758720598483e-07\n",
      "30.00 \t  1.2623995977132795e-16 1 / yr  \t\t 4.136669359157842e-07\n",
      "\t\t redshift =  3\n",
      "mass \t  tau_merg \t \n",
      "0.10 \t  4.2079986588282547e-19 1 / yr  \t\t 9.02091327233178e-10\n",
      "10.07 \t  4.236051983220444e-17 1 / yr  \t\t 9.081052694147326e-08\n",
      "20.03 \t  8.430023979852606e-17 1 / yr  \t\t 1.807189625557134e-07\n",
      "30.00 \t  1.2623995976484765e-16 1 / yr  \t\t 2.706273981699534e-07\n",
      "\t\t redshift =  4\n",
      "mass \t  tau_merg \t \n",
      "0.10 \t  4.20799865847213e-19 1 / yr  \t\t 6.470268835928358e-10\n",
      "10.07 \t  4.2360519828619437e-17 1 / yr  \t\t 6.513403961501212e-08\n",
      "20.03 \t  8.430023979139168e-17 1 / yr  \t\t 1.2962105234643144e-07\n",
      "30.00 \t  1.262399597541639e-16 1 / yr  \t\t 1.9410806507785072e-07\n",
      "\t\t redshift =  5\n",
      "mass \t  tau_merg \t \n",
      "0.10 \t  4.2079986579408613e-19 1 / yr  \t\t 4.926329449359278e-10\n",
      "10.07 \t  4.236051982327135e-17 1 / yr  \t\t 4.9591716456883405e-08\n",
      "20.03 \t  8.430023978074861e-17 1 / yr  \t\t 9.869079996883088e-08\n",
      "30.00 \t  1.2623995973822582e-16 1 / yr  \t\t 1.4778988348077828e-07\n",
      "\t\t redshift =  6\n",
      "mass \t  tau_merg \t \n",
      "0.10 \t  4.2079986571994207e-19 1 / yr  \t\t 3.910345660796018e-10\n",
      "10.07 \t  4.23605198158075e-17 1 / yr  \t\t 3.9364146318679915e-08\n",
      "20.03 \t  8.430023976589506e-17 1 / yr  \t\t 7.833725807128024e-08\n",
      "30.00 \t  1.2623995971598263e-16 1 / yr  \t\t 1.1731036982388054e-07\n",
      "\t\t redshift =  7\n",
      "mass \t  tau_merg \t \n",
      "0.10 \t  4.207998656212778e-19 1 / yr  \t\t 3.2005171017263483e-10\n",
      "10.07 \t  4.23605198058753e-17 1 / yr  \t\t 3.221853882404524e-08\n",
      "20.03 \t  8.430023974612935e-17 1 / yr  \t\t 6.411702593791786e-08\n",
      "30.00 \t  1.2623995968638333e-16 1 / yr  \t\t 9.601551305179044e-08\n",
      "\t\t redshift =  8\n",
      "mass \t  tau_merg \t \n",
      "0.10 \t  4.2079986549459064e-19 1 / yr  \t\t 2.681785515279801e-10\n",
      "10.07 \t  4.2360519793122126e-17 1 / yr  \t\t 2.6996640853816663e-08\n",
      "20.03 \t  8.430023972074968e-17 1 / yr  \t\t 5.3725103156105356e-08\n",
      "30.00 \t  1.262399596483772e-16 1 / yr  \t\t 8.045356545839403e-08\n",
      "\t\t redshift =  9\n",
      "mass \t  tau_merg \t \n",
      "0.10 \t  4.2079986533637766e-19 1 / yr  \t\t 2.2892195131078896e-10\n",
      "10.07 \t  4.236051977719535e-17 1 / yr  \t\t 2.3044809765286086e-08\n",
      "20.03 \t  8.430023968905433e-17 1 / yr  \t\t 4.5860697579261383e-08\n",
      "30.00 \t  1.2623995960091328e-16 1 / yr  \t\t 6.867658539323669e-08\n",
      "\t\t redshift =  10\n",
      "mass \t  tau_merg \t \n",
      "0.10 \t  4.2079986514313597e-19 1 / yr  \t\t 1.9837127702844143e-10\n",
      "10.07 \t  4.2360519757742355e-17 1 / yr  \t\t 1.996937522086311e-08\n",
      "20.03 \t  8.430023965034159e-17 1 / yr  \t\t 3.9740379164697777e-08\n",
      "30.00 \t  1.2623995954294078e-16 1 / yr  \t\t 5.951138310853243e-08\n"
     ]
    }
   ],
   "source": [
    "m_PBH_array = np.linspace(.1, 30, 4)\n",
    "z = np.arange(0, 11, 1)\n",
    "for i in z:\n",
    "    delta_rusa = (rho_cluster/(rho_bar_DM(i)))\n",
    "    delt_russ_value = delta_rusa.to((u.parsec**3 *u.M_sun)/(u.M_sun*u.parsec**3)) - 1\n",
    "    print(\"\\t\\t redshift = \", i)\n",
    "    print(\"mass \\t  tau_merg \\t \")\n",
    "    for j in m_PBH_array:\n",
    "        j = j*u.M_sun\n",
    "        R_pbh = (2*G*j/c**(2.))\n",
    "        n_PBH = (delt_russ_value * (rho_bar_DM(i)/(j))).to(u.parsec**(-3))\n",
    "        tau_merger_PBH = n_PBH*R_pbh*(v_rel**2.)*(j)*((8*math.pi**2.*G)/3.)*(3/(2*math.pi*v_rel**(2.)))**(3./2.)\n",
    "        print(\"%.2f\"%j.value,\"\\t \",tau_merger_PBH.to(u.yr**-1),\" \\t\\t\", cosmo.age(i)*tau_merger_PBH.to(u.Gyr**-1))"
   ]
  },
  {
   "cell_type": "code",
   "execution_count": 12,
   "id": "dfbd3914",
   "metadata": {},
   "outputs": [],
   "source": [
    "#sigma_PBH_capt = 2*math.pi*(85*math.pi/(6*math.sqrt(2)))**(2./7.) * (G**(2.) * (m_i+m_j)**(10./7.) * m_i**(2./7.) * m_j**(2./7.))/(c**(10./7.) * v_rel**(18./7.))\n",
    "#m_PBH = 1*u.M_sun\n",
    "#rho_bar_DM = cosmo.Odm(0)*cosmo.critical_density(0)\n",
    "#delta_PBH_loc = critical_density\n",
    "#n_PBH = cosmo.critical_density(0)/m_PBH #delta_PBH_loc * (rho_bar_DM/m_PBH)\n",
    "#print(n_PBH)"
   ]
  },
  {
   "cell_type": "code",
   "execution_count": 13,
   "id": "03754802",
   "metadata": {},
   "outputs": [],
   "source": [
    "def GAMMA(r1):\n",
    "    a=(r1**(2.)/((R.value)**(2.)))\n",
    "    b=(r0**(2.)/((R.value)**(2.)))\n",
    "    return r1**(2.)*((1.+(a))**(-9./4.))*(1./((1. + b)**(1./4.)) + 1./((1. + a)**(1./4.)))**(3./7.) - abs((1./((1. + b)**(1./4.)) - 1./((1. + a)**(1./4.))))**(3./7.)"
   ]
  },
  {
   "cell_type": "code",
   "execution_count": 14,
   "id": "79029a8f",
   "metadata": {},
   "outputs": [],
   "source": [
    "#CONSTANTS\n",
    "#sigma = 2*math.pi*(85.*math.pi/(6.*math.sqrt(2)))**(2./7.) * (G**(2.) * (m_i+m_j)**(10./7.) * m_i**(2./7.) * m_j**(2./7.))/(c**(10./7.))\n",
    "alfa = ((4*24*(2**(1/2))*N_i*(R**(2.)))/(math.pi*(G**(5.))*(M**(5.))*(2**(17./2.))))\n",
    "betha = ((3.*M)/(m_i*4*math.pi*(R**(3.))))\n",
    "etha = (G*M/R)\n",
    "zetha = alfa**(-1./2.) * betha**(3./2.) * etha**(-3.) * alfa**(3./14.) * etha**(9./7.) * betha**(-3./14.)\n",
    "#print(zetha)"
   ]
  },
  {
   "cell_type": "code",
   "execution_count": 15,
   "id": "85ebac66",
   "metadata": {},
   "outputs": [
    {
     "name": "stdout",
     "output_type": "stream",
     "text": [
      "0.99999999755 pc\n"
     ]
    }
   ],
   "source": [
    "kappa = (1-((8*24*(2**(1./2.))*N_i*m_i)/(3*M*2**(17./2.))))*(1*u.M_sun)\n",
    "r_star_quad = (4.*(kappa**(2.))*(M*R)**(2.))/((m_i*N_i)**(4.)) - R**(2.)\n",
    "r_star = (abs(r_star_quad))**(1./2.)\n",
    "print(r_star)"
   ]
  },
  {
   "cell_type": "code",
   "execution_count": 16,
   "id": "6c0eb326",
   "metadata": {},
   "outputs": [
    {
     "name": "stdout",
     "output_type": "stream",
     "text": [
      "2.794814926585418e-25 pc2 / s2\n"
     ]
    }
   ],
   "source": [
    "E_value = phi(r_star) - ((1./2.)*vel_j(r_star)**(2.))\n",
    "print(E_value.to(u.parsec**2./u.s**2.))"
   ]
  },
  {
   "cell_type": "code",
   "execution_count": 17,
   "id": "b7c16871",
   "metadata": {},
   "outputs": [
    {
     "name": "stdout",
     "output_type": "stream",
     "text": [
      "radius \t merger_rate \t\t\t Number_Mergers at Universe's time \t time to the first Merger\n",
      "\n",
      "0.10 \t 2.8643837238348164e-11 1 / yr \t\t 0.39490929861454066 \t\t 34.91152360903682 Gyr\n",
      "0.20 \t 5.3459895830209495e-11 1 / yr \t\t 0.7370454520684854 \t\t 18.70561071005516 Gyr\n",
      "0.30 \t 7.717361598124973e-11 1 / yr \t\t 1.0639837918748334 \t\t 12.957796356762165 Gyr\n",
      "0.40 \t 9.513657286362732e-11 1 / yr \t\t 1.311637018097119 \t\t 10.511204785918041 Gyr\n",
      "0.50 \t 1.0620035870436067e-10 1 / yr \t\t 1.4641721644893089 \t\t 9.416164052550787 Gyr\n",
      "0.60 \t 1.1122344703597124e-10 1 / yr \t\t 1.533424907179087 \t\t 8.99090998030825 Gyr\n",
      "0.70 \t 1.1169588477501144e-10 1 / yr \t\t 1.5399383520995753 \t\t 8.952881317107572 Gyr\n",
      "0.80 \t 1.0901668007360483e-10 1 / yr \t\t 1.5030004641806771 \t\t 9.17290821298933 Gyr\n",
      "0.90 \t 1.0427737527277867e-10 1 / yr \t\t 1.4376602124804228 \t\t 9.589807927022568 Gyr\n",
      "1.00 \t 9.827557359181852e-11 1 / yr \t\t 1.3549140610996162 \t\t 10.175468465373072 Gyr\n"
     ]
    }
   ],
   "source": [
    "def GAMMA(r1,r0): #Equation (11)\n",
    "    a=(r1**(2.)/((R.value)**(2.)))\n",
    "    b=(r0**(2.)/(R**(2.)))\n",
    "    return (r1**(2.))*((1.+(a))**(-9./4.))*(1./((1. + a)**(1./4.)) + 1./((1. + b)**(1./4.)))**(3./7.) - abs((1./((1. + a)**(1./4.)) - 1./((1. + b)**(1./4.))))**(3./7.)\n",
    "\n",
    "\n",
    "#print(m_i)\n",
    "#print(m_j)\n",
    "print(\"radius \\t merger_rate \\t\\t\\t Number_Mergers at Universe's time \\t time to the first Merger\\n\")\n",
    "interval = 0.1\n",
    "#print(interval)\n",
    "r = np.arange(.1, 1.1, interval)\n",
    "colm1 = []\n",
    "colm2 = []\n",
    "colm3 = []\n",
    "colm4 = []\n",
    "for i in r:\n",
    "    r0 = i*u.parsec\n",
    "    colm1.append(\"%.2f\"%r0.value)\n",
    "    I, err = quad(GAMMA, i+interval, 0., args=(r0,))\n",
    "    nash_rubi = (14*math.pi/3.)*sigma*(n_j(r0)/vel_j(r0))*zetha*u.parsec**(3)\n",
    "    #I = I*units\n",
    "    merger = (I*nash_rubi).to((u.yr**(-1)))\n",
    "    colm2.append(merger.value)\n",
    "    colm3.append((merger*(cosmo.age(0).to(u.yr))).value)\n",
    "    colm4.append(((merger**(-1.)).to(u.Gyr)).value)\n",
    "    print(\"%.2f\"%r0.value,\"\\t\",merger,\"\\t\\t\", merger*(cosmo.age(0).to(u.yr)),\"\\t\\t\",(merger**(-1.)).to(u.Gyr))#/(cosmo.age(0).to(u.yr)))"
   ]
  },
  {
   "cell_type": "code",
   "execution_count": 18,
   "id": "83c95505",
   "metadata": {},
   "outputs": [
    {
     "name": "stdout",
     "output_type": "stream",
     "text": [
      "Black holes Masses:\t 1.0 solMass 1.0 solMass\n",
      "Merger_Rate \t\t\t | Probability \t\t\t | Collision Number \t |\n",
      "----------------------------------------------------------------------------------\n",
      "2.8643837238348164e-11 1 / yr \t |  2.8643837238348163e-05 \t |  2.864383723834816  \t | \n",
      "5.3459895830209495e-11 1 / yr \t |  5.3459895830209497e-05 \t |  5.34598958302095  \t | \n",
      "7.717361598124973e-11 1 / yr \t |  7.717361598124972e-05 \t |  7.717361598124972  \t | \n",
      "9.513657286362732e-11 1 / yr \t |  9.513657286362732e-05 \t |  9.513657286362733  \t | \n",
      "1.0620035870436067e-10 1 / yr \t |  0.00010620035870436067 \t |  10.620035870436066  \t | \n",
      "1.1122344703597124e-10 1 / yr \t |  0.00011122344703597124 \t |  11.122344703597124  \t | \n",
      "1.1169588477501144e-10 1 / yr \t |  0.00011169588477501144 \t |  11.169588477501144  \t | \n",
      "1.0901668007360483e-10 1 / yr \t |  0.00010901668007360483 \t |  10.901668007360483  \t | \n",
      "1.0427737527277867e-10 1 / yr \t |  0.00010427737527277866 \t |  10.427737527277866  \t | \n",
      "9.827557359181852e-11 1 / yr \t |  9.827557359181852e-05 \t |  9.827557359181853  \t | \n"
     ]
    }
   ],
   "source": [
    "number_col_array = []\n",
    "prob_array = []\n",
    "print(\"Black holes Masses:\\t\", m_i, m_j)\n",
    "print(\"Merger_Rate \\t\\t\\t | Probability \\t\\t\\t | Collision Number \\t |\")\n",
    "print(\"----------------------------------------------------------------------------------\")\n",
    "for i in colm2:\n",
    "    GAMMA_value = i*(1/u.yr)\n",
    "    Prob = GAMMA_value*(1e6*u.yr)\n",
    "    prob_array.append(Prob)\n",
    "    Num_Col = (N_j+N_i)*Prob #numero de choques\n",
    "    number_col_array.append(Num_Col)\n",
    "    print(GAMMA_value, \"\\t | \" , Prob, \"\\t | \" , Num_Col, \" \\t | \")"
   ]
  },
  {
   "cell_type": "code",
   "execution_count": 30,
   "id": "e780ac2c",
   "metadata": {},
   "outputs": [
    {
     "name": "stdout",
     "output_type": "stream",
     "text": [
      "2.8643837238348164e-11 1 / yr \t  2.5779453514513346e-05 \t\t  2.8643837238348164e-11 1 / yr\n",
      "5.3459895830209495e-11 1 / yr \t  4.8113906247188544e-05 \t\t  5.3459895830209495e-11 1 / yr\n",
      "7.717361598124973e-11 1 / yr \t  6.945625438312475e-05 \t\t  7.717361598124973e-11 1 / yr\n",
      "9.513657286362732e-11 1 / yr \t  8.562291557726459e-05 \t\t  9.513657286362732e-11 1 / yr\n",
      "1.0620035870436067e-10 1 / yr \t  9.558032283392461e-05 \t\t  1.0620035870436067e-10 1 / yr\n",
      "1.1122344703597124e-10 1 / yr \t  0.00010010110233237412 \t\t  1.1122344703597125e-10 1 / yr\n",
      "1.1169588477501144e-10 1 / yr \t  0.0001005262962975103 \t\t  1.1169588477501144e-10 1 / yr\n",
      "1.0901668007360483e-10 1 / yr \t  9.811501206624434e-05 \t\t  1.0901668007360483e-10 1 / yr\n",
      "1.0427737527277867e-10 1 / yr \t  9.384963774550079e-05 \t\t  1.0427737527277866e-10 1 / yr\n",
      "9.827557359181852e-11 1 / yr \t  8.844801623263667e-05 \t\t  9.827557359181852e-11 1 / yr\n"
     ]
    }
   ],
   "source": [
    "t_k = 1e6\n",
    "t_k_1 = 1e5\n",
    "delta_time = np.arange(0.0, t_k, t_k_1)\n",
    "for i in colm2:\n",
    "    GAMMA_value = i*(1/u.yr)\n",
    "    delta_Prob = GAMMA_value*((t_k)*u.yr) - GAMMA_value*(t_k_1*u.yr)\n",
    "    dn = delta_Prob/((t_k)*u.yr - t_k_1*u.yr)\n",
    "    Num_Col = (N_i+N_j)*delta_Prob\n",
    "    print(GAMMA_value,\"\\t \",delta_Prob,\"\\t\\t \",dn)"
   ]
  },
  {
   "cell_type": "code",
   "execution_count": 20,
   "id": "d8843c8a",
   "metadata": {},
   "outputs": [],
   "source": [
    "#f = open(\"MR_T1.txt\", \"w\")\n",
    "#f.write(\"Mpbh = 1 u.Solar Mass\")\n",
    "#f.write(\"\\n\")\n",
    "#f.write(\"radius \\t merger_rate \\t Number_Mergers at Universe's time \\t time to the first Merger\")\n",
    "#f.write(\"\\n\")\n",
    "#for i in range(len(r)):\n",
    "#    print(colm1[i],\"\\t \",colm2[i],\"\\t \",colm3[i],\"\\t \",colm4[i],\"\\t \",prob_array[i],\"\\t \", number_col_array[i],file=f)\n",
    "#f.close()\n",
    "#read_file = pd.read_csv (r\"MR_T1.txt\")\n",
    "#read_file.to_csv (r\"MR_T1.csv\", index=None)"
   ]
  },
  {
   "cell_type": "markdown",
   "id": "1b9ca70a",
   "metadata": {},
   "source": [
    "## SECOND GENERATION"
   ]
  },
  {
   "cell_type": "code",
   "execution_count": 35,
   "id": "8ead3de6",
   "metadata": {},
   "outputs": [
    {
     "name": "stdout",
     "output_type": "stream",
     "text": [
      "PBHs con 2 M_sun \t PBHs con 1 M_sun\n",
      "3 \t\t\t 99994.0\n",
      "5 \t\t\t 99990.0\n",
      "8 \t\t\t 99984.0\n",
      "10 \t\t\t 99980.0\n",
      "11 \t\t\t 99978.0\n",
      "11 \t\t\t 99978.0\n",
      "11 \t\t\t 99978.0\n",
      "11 \t\t\t 99978.0\n",
      "10 \t\t\t 99980.0\n",
      "10 \t\t\t 99980.0\n"
     ]
    }
   ],
   "source": [
    "Ni_2_values = []\n",
    "Nj_2_values = []\n",
    "print(\"PBHs con 2 M_sun \\t PBHs con 1 M_sun\")# \\t  Number_pbhs at cluster\")\n",
    "for i in number_col_array:\n",
    "    number_binarys = round(float(i))\n",
    "    N_j_2 = number_binarys #PBHs de 2 masas solares\n",
    "    N_i_2 = N_i + (N_j - 2*round(float(i))) #PBHs de 1 masa solar\n",
    "    Ni_2_values.append(N_i_2)\n",
    "    Nj_2_values.append(N_j_2)\n",
    "    #Nt = (N_i + N_j - N_j_2) #Numero de agujeros negros totales en el cluster\n",
    "    print(N_j_2,\"\\t\\t\\t\", N_i_2)"
   ]
  },
  {
   "cell_type": "code",
   "execution_count": 95,
   "id": "2c54997b",
   "metadata": {},
   "outputs": [
    {
     "name": "stdout",
     "output_type": "stream",
     "text": [
      "M =\t 100000.0 solMass\n",
      "R =\t 1.0 pc\n",
      "v_rel =\t 6.7209397035645e-13 pc / s\n",
      "m_i_2 =\t 1.0 solMass\n",
      "m_j_2 =\t 2.0 solMass\n",
      "Energy to m_i = \t 5.6463788123687055e-21 pc2 / s2\n",
      "Energy to m_j_2 = \t 2.2585515249474822e-20 pc2 / s2\n",
      "\n",
      "\n"
     ]
    }
   ],
   "source": [
    "#Datos de entrada para la segunda generación\n",
    "M = 10**5 * u.M_sun #M is the total mass of the cluster\n",
    "R = 1.*u.parsec #Scale factor that determines the core radius\n",
    "m_j_2 = 2.*m_j #masa segunda geenración especie j\n",
    "v_rel = (G*M/R)**(1./2.)#The characteristic velocity of the PBHs\n",
    "#Energy = G*(m_i*N_i)**(2.)/((2*R)*(1*u.M_sun)) #According to the virial theorem, the total energy\n",
    "Energy_mi = G*(m_i*N_i)**(2.)/((2*R)*(1*u.M_sun)) #According to the virial theorem, the total energy\n",
    "Energy_mj2 = G*(m_j_2*N_i)**(2.)/((2*R)*(1*u.M_sun)) #According to the virial theorem, the total energy\n",
    "print(\"M =\\t\", M)\n",
    "print(\"R =\\t\", R)\n",
    "print(\"v_rel =\\t\", v_rel.to(u.parsec* u.s**(-1)))\n",
    "print(\"m_i_2 =\\t\", m_i)\n",
    "print(\"m_j_2 =\\t\", m_j_2)\n",
    "#print(\"E =\\t\", Energy.to(u.parsec**2.*u.s**(-2.)))\n",
    "print(\"Energy to m_i = \\t\", Energy_mi.to(u.parsec**2.*u.s**(-2.)))\n",
    "print(\"Energy to m_j_2 = \\t\", Energy_mj2.to(u.parsec**2.*u.s**(-2.)))\n",
    "print(\"\\n\")"
   ]
  },
  {
   "cell_type": "code",
   "execution_count": 42,
   "id": "dab75b53",
   "metadata": {},
   "outputs": [
    {
     "name": "stdout",
     "output_type": "stream",
     "text": [
      "M_i \t\t\t M_j\n",
      "99994.0 solMass \t 6.0 solMass \t \n",
      "99990.0 solMass \t 10.0 solMass \t \n",
      "99984.0 solMass \t 16.0 solMass \t \n",
      "99980.0 solMass \t 20.0 solMass \t \n",
      "99978.0 solMass \t 22.0 solMass \t \n",
      "99978.0 solMass \t 22.0 solMass \t \n",
      "99978.0 solMass \t 22.0 solMass \t \n",
      "99978.0 solMass \t 22.0 solMass \t \n",
      "99980.0 solMass \t 20.0 solMass \t \n",
      "99980.0 solMass \t 20.0 solMass \t \n"
     ]
    }
   ],
   "source": [
    "print(\"M_i \\t\\t\\t M_j\")# \\t\\t\\t  vel_rel_i \\t\\t\\t  vel_rel_j\")\n",
    "Mi_array = []\n",
    "Mj_array = []\n",
    "v_ri_array = []\n",
    "v_rj_array = []\n",
    "for i,j in zip(Ni_2_values, Nj_2_values):\n",
    "    Mi = i*u.M_sun\n",
    "    Mj = j*2*u.M_sun\n",
    "    #v_ri = (G*Mi/R)**(1./2.)#The characteristic velocity of the PBHs QUITAR ESTO\n",
    "    #v_rj = (G*Mj/R)**(1./2.)#The characteristic velocity of the PBHs QUITAR ESTO\n",
    "    Mi_array.append(Mi)\n",
    "    Mj_array.append(Mj)\n",
    "    v_ri_array.append(v_ri)\n",
    "    v_rj_array.append(v_rj)\n",
    "    print(Mi,\"\\t\",Mj,\"\\t \")#, v_ri.to(u.km/u.s),\" \\t \",v_rj.to(u.km/u.s))"
   ]
  },
  {
   "cell_type": "code",
   "execution_count": 47,
   "id": "8822a1c9",
   "metadata": {},
   "outputs": [
    {
     "name": "stdout",
     "output_type": "stream",
     "text": [
      "4.963594304558011e-27 pc(32/7) / yr(18/7)\n"
     ]
    }
   ],
   "source": [
    "sigma_2 = 2*math.pi*(85*math.pi/(6*math.sqrt(2)))**(2./7.) * (G**(2.) * (m_i+m_j_2)**(10./7.) * m_i**(2./7.) * m_j_2**(2./7.))/(c**(10./7.))\n",
    "sigma_2 = sigma.to(u.parsec**(32./7)/u.yr**(18./7.))#.to(u.parsec**2)\n",
    "#print(m_i, m_j_2)\n",
    "print(sigma_2)"
   ]
  },
  {
   "cell_type": "code",
   "execution_count": 24,
   "id": "17dec4ea",
   "metadata": {},
   "outputs": [],
   "source": [
    "def f_i2(E, Ni_2): ## eq. 19 shapiro\n",
    "    return (24. * (2.)**(1./2.) * Ni_2 * R**2. * E**(7./2.))/(7*(math.pi**(3.))*(G**5.)*(M**5.))\n",
    "\n",
    "def f_j2(E, Nj_2):\n",
    "    return (24. * (2.)**(1./2.) * Nj_2 * R**2. * E**(7./2.))/(7*(math.pi**(3.))*(G**5.)*(M**5.))\n",
    "\n",
    "def rho_i2(r, M_i):## eq. 20\n",
    "    return ((3*M_i)/(4*(math.pi)*(R**(3.))))*((1 + r**(2.)/R**(2.))**(-5./2.))\n",
    "\n",
    "def rho_j2(r, M_j):## eq. 20\n",
    "    return ((3*M_j)/(4*(math.pi)*(R**(3.))))*((1 + r**(2.)/R**(2.))**(-5./2.))\n",
    "\n",
    "#def integrant(E):\n",
    "#    return E**(7./2.)*((2*(a - E))**(3./2.))"
   ]
  },
  {
   "cell_type": "code",
   "execution_count": 78,
   "id": "e73580af",
   "metadata": {},
   "outputs": [
    {
     "name": "stdout",
     "output_type": "stream",
     "text": [
      "N_i \t\t f_i2 \t\t\t\t\t\t N_j \t\t f_j2\n",
      "99994.0 \t 1.3029996518219577e-44 s3 / m6  \t\t  3 \t 5.003818892129844e-47 s3 / m6\n",
      "99990.0 \t 1.3029475287084978e-44 s3 / m6  \t\t  5 \t 8.339698153549741e-47 s3 / m6\n",
      "99984.0 \t 1.3028693440383084e-44 s3 / m6  \t\t  8 \t 1.3343517045679588e-46 s3 / m6\n",
      "99980.0 \t 1.3028172209248487e-44 s3 / m6  \t\t  10 \t 1.6679396307099482e-46 s3 / m6\n",
      "99978.0 \t 1.302791159368119e-44 s3 / m6  \t\t  11 \t 1.834733593780943e-46 s3 / m6\n",
      "99978.0 \t 1.302791159368119e-44 s3 / m6  \t\t  11 \t 1.834733593780943e-46 s3 / m6\n",
      "99978.0 \t 1.302791159368119e-44 s3 / m6  \t\t  11 \t 1.834733593780943e-46 s3 / m6\n",
      "99978.0 \t 1.302791159368119e-44 s3 / m6  \t\t  11 \t 1.834733593780943e-46 s3 / m6\n",
      "99980.0 \t 1.3028172209248487e-44 s3 / m6  \t\t  10 \t 1.6679396307099482e-46 s3 / m6\n",
      "99980.0 \t 1.3028172209248487e-44 s3 / m6  \t\t  10 \t 1.6679396307099482e-46 s3 / m6\n",
      "\n",
      "\n",
      "M_i \t\t\t rho_i2 \t\t\t\t M_j \t\t\t  rho_j2\n",
      "99994.0 solMass \t 23285.303226685715 solMass / pc3 \t 6.0 solMass \t 1.3972020257226863 solMass / pc3\n",
      "99990.0 solMass \t 21641.36305618117 solMass / pc3 \t 10.0 solMass \t 2.1643527408922063 solMass / pc3\n",
      "99984.0 solMass \t 19243.12731296531 solMass / pc3 \t 16.0 solMass \t 3.0793930729661243 solMass / pc3\n",
      "99980.0 solMass \t 16469.467215630357 solMass / pc3 \t 20.0 solMass \t 3.2945523535967904 solMass / pc3\n",
      "99978.0 solMass \t 13662.834348626408 solMass / pc3 \t 22.0 solMass \t 3.0064849833941563 solMass / pc3\n",
      "99978.0 solMass \t 11065.43686157831 solMass / pc3 \t 22.0 solMass \t 2.4349317945420275 solMass / pc3\n",
      "99978.0 solMass \t 8807.449553925971 solMass / pc3 \t 22.0 solMass \t 1.938065276224483 solMass / pc3\n",
      "99978.0 solMass \t 6929.568868251997 solMass / pc3 \t 22.0 solMass \t 1.5248406159509484 solMass / pc3\n",
      "99980.0 solMass \t 5415.369391608806 solMass / pc3 \t 20.0 solMass \t 1.0832905364290468 solMass / pc3\n",
      "99980.0 solMass \t 4219.388685440038 solMass / pc3 \t 20.0 solMass \t 0.844046546397287 solMass / pc3\n"
     ]
    }
   ],
   "source": [
    "r = np.linspace(.1, 1., 10)\n",
    "print(\"N_i \\t\\t f_i2 \\t\\t\\t\\t\\t\\t N_j \\t\\t f_j2\")\n",
    "for h,i,j in zip (r, Ni_2_values, Nj_2_values):\n",
    "    h = h*u.parsec\n",
    "    print(i,\"\\t\",f_i2(Energy_mi, i).to(u.s**3./(u.m**6.)),\" \\t\\t \",j,\"\\t\",f_j2(Energy_mj2, j).to(u.s**3./(u.m**6.)))\n",
    "print(\"\\n\")\n",
    "print(\"M_i \\t\\t\\t rho_i2 \\t\\t\\t\\t M_j \\t\\t\\t  rho_j2\")\n",
    "for h,k,l in zip (r, Mi_array, Mj_array):\n",
    "    h = h*u.parsec\n",
    "    print(k,\"\\t\",rho_i2(h,k),\"\\t\",l,\"\\t\",rho_j2(h,l))"
   ]
  },
  {
   "cell_type": "code",
   "execution_count": 79,
   "id": "b12e3248",
   "metadata": {},
   "outputs": [],
   "source": [
    "def n_i_2(r, M_i):\n",
    "    return (rho_i2(r, M_i)/m_i)\n",
    "\n",
    "def n_j_2(r, M_j):\n",
    "    return (rho_j2(r, M_j)/m_j_2)"
   ]
  },
  {
   "cell_type": "code",
   "execution_count": 86,
   "id": "f4b8d90b",
   "metadata": {},
   "outputs": [
    {
     "name": "stdout",
     "output_type": "stream",
     "text": [
      "20.687127968141255 km / s \t 14.628008469546563 km / s\n",
      "20.536300452474208 km / s \t 14.521357310428877 km / s\n",
      "20.296629305878216 km / s \t 14.351884217416098 km / s\n",
      "19.98324656970071 km / s \t 14.130289159558187 km / s\n",
      "19.61340702825896 km / s \t 13.868773111853802 km / s\n",
      "19.204182182876256 km / s \t 13.57940744865368 km / s\n",
      "18.770851645903896 km / s \t 13.272996487465313 km / s\n",
      "18.326080181441423 km / s \t 12.958495568865626 km / s\n",
      "17.879727711325224 km / s \t 12.642876710447096 km / s\n",
      "17.439058939532803 km / s \t 12.331276833655531 km / s\n"
     ]
    }
   ],
   "source": [
    "alfa_2 = ((4*24*(2**(1/2))*(R**(2.)))/(math.pi*(G**(5.))*(M**(5.))*(2**(17./2.))))\n",
    "\n",
    "def vel_i2(r, N_i_2, M_i):\n",
    "    return (alfa_2**(1./2.))*(N_i_2**(1./2.))*((phi(r)**(3))/(n_j_2(r, M_i)**(1./2.)))\n",
    "\n",
    "def vel_j2(r, N_j_2, M_j):\n",
    "    return (alfa_2**(1./2.))*(N_j_2**(1./2.))*((phi(r)**(3))/(n_j_2(r, M_j)**(1./2.)))\n",
    "\n",
    "\n",
    "for h,i,j,k,l in zip(r, Ni_2_values, Nj_2_values, Mi_array, Mj_array):\n",
    "    h = h*u.parsec\n",
    "    print(vel_i2(h,i,k).to(u.km/u.s), \"\\t\", vel_j2(h,j,l).to(u.km/u.s))\n",
    "\n",
    "#print(\"\\n\")\n",
    "#for h in r:\n",
    "    #h = h*u.parsec\n",
    "    #print(\"r = \",\"%.2f\"%h.value)\n",
    "    #print(\"vel_rel = \")\n",
    "    #for i,j,k,l in zip(Ni_2_values, Nj_2_values, Mi_array, Mj_array):\n",
    "    #    print(vel_i2(h,i,k).to(u.km/u.s), \"\\t\", vel_j2(h,j,l).to(u.km/u.s))"
   ]
  },
  {
   "cell_type": "code",
   "execution_count": 87,
   "id": "e77539cf",
   "metadata": {},
   "outputs": [],
   "source": [
    "#CONSTANTS SECOND GENERATION\n",
    "betha_2 = (3./(4*math.pi*(R**(3.))))\n",
    "etha_2 = (G*M/R)\n",
    "#zetha2 = alfa**(-1./2.) * betha**(3./2.) * etha**(-3.) * alfa**(3./14.) * etha**(9./7.) * betha**(-3./14.)\n",
    "#print(zetha)"
   ]
  },
  {
   "cell_type": "code",
   "execution_count": 93,
   "id": "8ea22a09",
   "metadata": {},
   "outputs": [
    {
     "name": "stdout",
     "output_type": "stream",
     "text": [
      "radius \t merger_rate \t\t\t Number_Mergers at Universe's time \t time to the first Merger\n",
      "\n",
      "0.10 \t 4.984284521873743e-16 1 / yr \t\t 6.871775901565559e-06 \t\t 2006306.0116481269 Gyr\n",
      "0.20 \t 1.550354852351873e-15 1 / yr \t\t 2.137456452678947e-05 \t\t 645013.6228380295 Gyr\n",
      "0.30 \t 3.580682188613248e-15 1 / yr \t\t 4.9366454637359946e-05 \t\t 279276.3912921541 Gyr\n",
      "0.40 \t 5.5174329865443984e-15 1 / yr \t\t 7.606821574701249e-05 \t\t 181243.70562157134 Gyr\n",
      "0.50 \t 6.774847837953328e-15 1 / yr \t\t 9.340405008043099e-05 \t\t 147604.7911213455 Gyr\n",
      "0.60 \t 7.0952861070743824e-15 1 / yr \t\t 9.782189574317749e-05 \t\t 140938.64361620965 Gyr\n",
      "0.70 \t 7.12542436492918e-15 1 / yr \t\t 9.823740844742398e-05 \t\t 140342.51839398188 Gyr\n",
      "0.80 \t 6.954509648630642e-15 1 / yr \t\t 9.58810268573905e-05 \t\t 143791.58999325024 Gyr\n",
      "0.90 \t 6.0475526158065335e-15 1 / yr \t\t 8.337691427199346e-05 \t\t 165356.14711086475 Gyr\n",
      "1.00 \t 5.69947891947216e-15 1 / yr \t\t 7.85780621439849e-05 \t\t 175454.63613937044 Gyr\n"
     ]
    }
   ],
   "source": [
    "def GAMMA_2(r1,r0): #Equation (11)\n",
    "    a=(r1**(2.)/((R.value)**(2.)))\n",
    "    b=(r0**(2.)/(R**(2.)))\n",
    "    return (r1**(2.))*((1.+(a))**(-9./4.))*(1./((1. + a)**(1./4.)) + 1./((1. + b)**(1./4.)))**(3./7.) - abs((1./((1. + a)**(1./4.)) - 1./((1. + b)**(1./4.))))**(3./7.)\n",
    "\n",
    "print(\"radius \\t merger_rate \\t\\t\\t Number_Mergers at Universe's time \\t time to the first Merger\\n\")\n",
    "\n",
    "for h,i,j,k in zip(r, Ni_2_values, Nj_2_values, Mj_array) :\n",
    "    r0 = h*u.parsec\n",
    "    I, err = quad(GAMMA_2, h+interval, 0., args=(r0,))\n",
    "    nash_rubi = (14*math.pi/3.)*sigma_2*(i)*(n_j_2(r0, k)/vel_j2(r0, j, k))*(alfa_2**(-2./7.))*(betha_2**(9./7.))*(etha_2**(-12./7.))\n",
    "    #I = I*units\n",
    "    merger2 = (I*nash_rubi*(u.parsec**(3.))).to(u.yr**(-1))\n",
    "    #print(\"%.2f\"%r0.value,\"\\t\",merger*u.parsec**(3))\n",
    "    print(\"%.2f\"%r0.value,\"\\t\",merger2,\"\\t\\t\", merger2*(cosmo.age(0).to(u.yr)),\"\\t\\t\",(merger2**(-1.)).to(u.Gyr))#/(cosmo.age(0).to(u.yr)))"
   ]
  },
  {
   "cell_type": "code",
   "execution_count": null,
   "id": "df20ae35",
   "metadata": {},
   "outputs": [],
   "source": []
  },
  {
   "cell_type": "code",
   "execution_count": null,
   "id": "6adf255b",
   "metadata": {},
   "outputs": [],
   "source": [
    "f = open(\"MR_T0.1.txt\", \"w\")\n",
    "f.write(\"Mpbh = 0.1 u.Solar Mass\")\n",
    "f.write(\"\\n\")\n",
    "f.write(\"radius \\t merger_rate \\t Number_Mergers at Universe's time \\t time to the first Merger\")\n",
    "f.write(\"\\n\")\n",
    "for i in range(len(r)):\n",
    "    print(colm1[i],\"\\t \",colm2[i],\"\\t \",colm3[i],\"\\t \",colm4[i], file=f)\n",
    "f.close()"
   ]
  },
  {
   "cell_type": "code",
   "execution_count": null,
   "id": "0eae4250",
   "metadata": {},
   "outputs": [],
   "source": [
    "read_file = pd.read_csv (r\"MR_T0.1.txt\")\n",
    "read_file.to_csv (r\"MR_T0.1.csv\", index=None)"
   ]
  },
  {
   "cell_type": "code",
   "execution_count": null,
   "id": "1c841bae",
   "metadata": {},
   "outputs": [],
   "source": []
  },
  {
   "cell_type": "code",
   "execution_count": null,
   "id": "2462c4d2",
   "metadata": {},
   "outputs": [],
   "source": []
  }
 ],
 "metadata": {
  "kernelspec": {
   "display_name": "Python 3 (ipykernel)",
   "language": "python",
   "name": "python3"
  },
  "language_info": {
   "codemirror_mode": {
    "name": "ipython",
    "version": 3
   },
   "file_extension": ".py",
   "mimetype": "text/x-python",
   "name": "python",
   "nbconvert_exporter": "python",
   "pygments_lexer": "ipython3",
   "version": "3.8.10"
  }
 },
 "nbformat": 4,
 "nbformat_minor": 5
}
