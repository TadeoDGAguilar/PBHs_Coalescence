{
 "cells": [
  {
   "cell_type": "markdown",
   "id": "38fc868d",
   "metadata": {},
   "source": [
    "### Merger Rate of Black Holes in a Primordial Black Hole Cluster\n",
    "\n",
    "###### Code Writed by Tadeo D.\n",
    "###### Dedicated to the Moon of my life.\n",
    "**References:** [arXiv:2105.14523](https://arxiv.org/pdf/2105.14523.pdf)."
   ]
  },
  {
   "cell_type": "code",
   "execution_count": 1,
   "id": "5aae6648",
   "metadata": {},
   "outputs": [],
   "source": [
    "import numpy as np\n",
    "import matplotlib.pyplot as pl\n",
    "import matplotlib as mpl\n",
    "import math\n",
    "import seaborn as sns\n",
    "from scipy import stats\n",
    "from astropy import constants as const\n",
    "import csv\n",
    "from scipy import constants\n",
    "from scipy.integrate import odeint\n",
    "from tqdm import tqdm\n",
    "from scipy import integrate\n",
    "from scipy.integrate import quad, dblquad\n",
    "from astropy.cosmology import Planck18 as cosmo# WMAP9 as cosmo #\n",
    "import astropy.units as u\n",
    "from sklearn import linear_model\n",
    "from sklearn.linear_model import LinearRegression\n",
    "from sklearn.metrics import mean_squared_error, r2_score\n",
    "from sympy import *\n",
    "from sympy import simplify\n",
    "import pandas as pd"
   ]
  },
  {
   "cell_type": "code",
   "execution_count": 2,
   "id": "0d6c8254",
   "metadata": {},
   "outputs": [],
   "source": [
    "H0 = cosmo.H(0)  #cosmo.H(0)  <Quantity 67.66 km / (Mpc s)>\n",
    "G = const.G\n",
    "c = const.c\n",
    "z_r = 5000 #3450\n",
    "z_eq = 3411\n",
    "z_0 = 0\n",
    "z_init = 6.900e9\n",
    "rho_c0 = (3*(H0**2))/(8*math.pi*G)\n",
    "rho_eq = cosmo.critical_density(3411)\n",
    "rho_crit = cosmo.critical_density(0)\n",
    "Omega_DM = cosmo.Odm(0)\n",
    "Omega_M = cosmo.Om(0)\n",
    "Omega_R = 8.4e-5\n",
    "Omega_lmb = 1-Omega_M - Omega_R\n",
    "result_i=0\n",
    "result_j=0"
   ]
  },
  {
   "cell_type": "markdown",
   "id": "7161fe4d",
   "metadata": {},
   "source": [
    "$$\\rho_{i}(r) = \\rho_{0,i}\\left(\\frac{r}{r_{0}}\\right)^{-1} \\left(1 + \\frac{r^{2}}{r^{2}_{0}}\\right)^{-2}$$"
   ]
  },
  {
   "cell_type": "code",
   "execution_count": 3,
   "id": "288ba2eb",
   "metadata": {},
   "outputs": [
    {
     "name": "stdout",
     "output_type": "stream",
     "text": [
      "Cluster Propierities\n",
      "\n",
      "M =\t 100000.0 solMass\n",
      "R =\t 0.9 pc\n",
      "m_i =\t 300.0 solMass \t\t N_i =\t 300.0\n",
      "m_j =\t 30.0 solMass \t\t N_j =\t 333.3333333333333\n",
      "\t\t\t\t N_total =\t 633.3333333333333\n",
      "v_rel =\t 7.084492493306903e-13 pc / s\n"
     ]
    }
   ],
   "source": [
    "M = 10**5 * u.M_sun#M is the total mass of the cluster\n",
    "R = 0.9*u.parsec #Scale factor that determines the core radius\n",
    "v_rel = (G*M/R)**(1./2.)#The characteristic velocity of the PBHs\n",
    "m_i = 300.*u.M_sun\n",
    "m_j = 30.*u.M_sun\n",
    "#error=1\n",
    "\n",
    "if m_i==m_j:\n",
    "    N_i = M/(2*m_i)\n",
    "    N_j = M/(2*m_j) \n",
    "if m_j>m_i:\n",
    "    zetha = (m_j/m_i)\n",
    "    N_i = (M/(zetha*m_i))\n",
    "    N_j =  N_i - (M/(zetha*m_j))\n",
    "if m_i>m_j:\n",
    "    zetha = (m_i/m_j)\n",
    "    N_j = (M/(zetha*m_j))\n",
    "    N_i = N_j - (M/(zetha*m_i))\n",
    "\n",
    "M_i_t = (N_i*m_i)\n",
    "M_j_t = (N_j*m_j)\n",
    "    \n",
    "print(\"Cluster Propierities\\n\")\n",
    "print(\"M =\\t\", M)\n",
    "print(\"R =\\t\", R)\n",
    "print(\"m_i =\\t\", m_i, \"\\t\\t N_i =\\t\", N_i)\n",
    "print(\"m_j =\\t\", m_j, \"\\t\\t N_j =\\t\", N_j)\n",
    "#print(\"M_t = \", (M_i_t + M_j_t))\n",
    "print(\"\\t\\t\\t\\t N_total =\\t\",N_i + N_j)\n",
    "print(\"v_rel =\\t\", v_rel.to(u.parsec* u.s**(-1)))"
   ]
  },
  {
   "cell_type": "code",
   "execution_count": 4,
   "id": "d291bf03",
   "metadata": {},
   "outputs": [
    {
     "name": "stdout",
     "output_type": "stream",
     "text": [
      "Numbers of PBHs into Cluster by spherical regions\n",
      "Primordial Black holes Masses:\t m_i =  300.0 solMass \t m_j =  30.0 solMass \n",
      "\n",
      "radius \t\t n_pbh_mi(r) \t\t n_pbh_mj(r) \t\t total n_pbh(r)\n",
      "0.10  \t\t  0  \t\t  0  \t\t  0\n",
      "0.20  \t\t  3  \t\t  4  \t\t  7\n",
      "0.30  \t\t  11  \t\t  12  \t\t  23\n",
      "0.40  \t\t  25  \t\t  28  \t\t  53\n",
      "0.50  \t\t  45  \t\t  50  \t\t  95\n",
      "0.60  \t\t  64  \t\t  71  \t\t  135\n",
      "0.70  \t\t  72  \t\t  79  \t\t  151\n",
      "0.80  \t\t  56  \t\t  63  \t\t  119\n",
      "0.90  \t\t  24  \t\t  26  \t\t  50\n",
      "\n",
      " Total numbers of PBHs into Cluster =  633\n"
     ]
    }
   ],
   "source": [
    "interval = 0.1\n",
    "r = np.arange(.1, R.value+interval, interval)\n",
    "N_i_1_array = []\n",
    "N_j_1_array = []\n",
    "#N_total_casc = []\n",
    "def V(radius):\n",
    "    return (4/3)*math.pi*(radius**3.)\n",
    "\n",
    "print(\"Numbers of PBHs into Cluster by spherical regions\")\n",
    "print(\"Primordial Black holes Masses:\\t\", \"m_i = \",m_i,\"\\t m_j = \", m_j, \"\\n\")\n",
    "print(\"radius \\t\\t n_pbh_mi(r) \\t\\t n_pbh_mj(r) \\t\\t total n_pbh(r)\")\n",
    "\n",
    "if m_i==m_j:\n",
    "    for i in r:\n",
    "        i=i*u.parsec\n",
    "        Ni_casc = round(float(N_i*(V(i)/V(R))))\n",
    "        Nj_casc = round(float(N_j*(V(i)/V(R))))\n",
    "        N_i = N_i - Ni_casc\n",
    "        N_j = N_j - Nj_casc\n",
    "        N_i_1_array.append(Ni_casc)\n",
    "        N_j_1_array.append(Nj_casc)\n",
    "        result_i = result_i + Ni_casc\n",
    "        result_j = result_j + Nj_casc\n",
    "        print(\"%.2f\" %i.value,\" \\t\\t \",Ni_casc,\" \\t\\t \",Nj_casc, \" \\t\\t \", Ni_casc + Nj_casc)\n",
    "        #N_total_casc.append(Ni_casc + Nj_casc)\n",
    "    print(\"\\n Total numbers of PBHs into Cluster = \",result_i + result_j)\n",
    "    N_i = M/(2*m_i)\n",
    "    N_j = M/(2*m_j) \n",
    "\n",
    "    \n",
    "if m_j>m_i:\n",
    "    for i in r:\n",
    "        i=i*u.parsec\n",
    "        Ni_casc = round(float(N_i*(V(i)/V(R))))\n",
    "        Nj_casc = round(float(N_j*(V(i)/V(R))))\n",
    "        N_i = N_i - Ni_casc\n",
    "        N_j = N_j - Nj_casc\n",
    "        N_i_1_array.append(Ni_casc)\n",
    "        N_j_1_array.append(Nj_casc)\n",
    "        result_i = result_i + Ni_casc\n",
    "        result_j = result_j + Nj_casc\n",
    "        print(\"%.2f\" %i.value,\" \\t\\t \",Ni_casc,\" \\t\\t \",Nj_casc, \" \\t\\t \", Ni_casc + Nj_casc)\n",
    "        #N_total_casc.append(Ni_casc + Nj_casc)\n",
    "    print(\"\\n Total numbers of PBHs into Cluster = \",result_i + result_j)\n",
    "    zetha = (m_j/m_i)\n",
    "    N_i = (M/(zetha*m_i))\n",
    "    N_j =  N_i - (M/(zetha*m_j))\n",
    "    \n",
    "if m_i>m_j:\n",
    "    for i in r:\n",
    "        i=i*u.parsec\n",
    "        Ni_casc = round(float(N_i*(V(i)/V(R))))\n",
    "        Nj_casc = round(float(N_j*(V(i)/V(R))))\n",
    "        N_i = N_i - Ni_casc\n",
    "        N_j = N_j - Nj_casc\n",
    "        N_i_1_array.append(Ni_casc)\n",
    "        N_j_1_array.append(Nj_casc)\n",
    "        result_i = result_i + Ni_casc\n",
    "        result_j = result_j + Nj_casc\n",
    "        print(\"%.2f\" %i.value,\" \\t\\t \",Ni_casc,\" \\t\\t \",Nj_casc, \" \\t\\t \", Ni_casc + Nj_casc)\n",
    "        #N_total_casc.append(Ni_casc + Nj_casc)\n",
    "    print(\"\\n Total numbers of PBHs into Cluster = \",result_i + result_j)\n",
    "    zetha = (m_i/m_j)\n",
    "    N_j = (M/(zetha*m_j))\n",
    "    N_i = N_j - (M/(zetha*m_i))\n",
    "    \n",
    "result_i=0\n",
    "result_j=0\n",
    "\n",
    "#print(N_i_1_array)"
   ]
  },
  {
   "cell_type": "code",
   "execution_count": 5,
   "id": "05fcbbcb",
   "metadata": {},
   "outputs": [
    {
     "name": "stdout",
     "output_type": "stream",
     "text": [
      "Primordial Black holes Masses:\t m_i =  300.0 solMass \t m_j =  30.0 solMass \n",
      "\n",
      "radius \t\t  Mass_mi(r) \t\t Mass_mj(r)\n",
      "0.10  \t\t  0.00 solMass  \t 0.00 solMass\n",
      "0.20  \t\t  900.00 solMass  \t 120.00 solMass\n",
      "0.30  \t\t  3300.00 solMass  \t 360.00 solMass\n",
      "0.40  \t\t  7500.00 solMass  \t 840.00 solMass\n",
      "0.50  \t\t  13500.00 solMass  \t 1500.00 solMass\n",
      "0.60  \t\t  19200.00 solMass  \t 2130.00 solMass\n",
      "0.70  \t\t  21600.00 solMass  \t 2370.00 solMass\n",
      "0.80  \t\t  16800.00 solMass  \t 1890.00 solMass\n",
      "0.90  \t\t  7200.00 solMass  \t 780.00 solMass\n"
     ]
    }
   ],
   "source": [
    "#Masas en cada cascaron (se podría decir que la masa es función del radio)\n",
    "M_i_1_value = []\n",
    "M_j_1_value = []\n",
    "print(\"Primordial Black holes Masses:\\t\", \"m_i = \",m_i,\"\\t m_j = \", m_j, \"\\n\")\n",
    "print(\"radius \\t\\t  Mass_mi(r) \\t\\t Mass_mj(r)\")\n",
    "for h, i, j in zip(r, N_i_1_array, N_j_1_array):\n",
    "    M_i_1 = i*m_i\n",
    "    M_i_1_value.append(M_i_1)\n",
    "    M_j_1 = j*m_j\n",
    "    M_j_1_value.append(M_j_1)\n",
    "    print(\"{0:.2f}\".format(h), \" \\t\\t \",\"{0:.2f}\".format(M_i_1),\" \\t\",\"{0:.2f}\".format(M_j_1))"
   ]
  },
  {
   "cell_type": "code",
   "execution_count": 6,
   "id": "9d9949e5",
   "metadata": {},
   "outputs": [
    {
     "name": "stdout",
     "output_type": "stream",
     "text": [
      "E_i =\t 2.032696372452734e-20 pc2 / s2\n",
      "E_j =\t 2.509501694386091e-22 pc2 / s2\n"
     ]
    }
   ],
   "source": [
    "Energy_it = G*((m_i*N_i)**(2.))/((2*R)*(1*u.M_sun))#According to the virial theorem, the total energy\n",
    "print(\"E_i =\\t\", Energy_it.to(u.parsec**2.*u.s**(-2.)))\n",
    "\n",
    "Energy_jt = G*((m_j*N_j)**(2.))/((2*R)*(1*u.M_sun))#According to the virial theorem, the total energy\n",
    "print(\"E_j =\\t\", Energy_jt.to(u.parsec**2.*u.s**(-2.)))"
   ]
  },
  {
   "cell_type": "code",
   "execution_count": 7,
   "id": "b75d0796",
   "metadata": {},
   "outputs": [],
   "source": [
    "#Ei_array = []\n",
    "#Ej_array = []\n",
    "#for i, j in zip(N_i_1_array, N_j_1_array):\n",
    "    #Energy_i1 = G*((m_i*i)**(2.))/((2*R)*(1*u.M_sun))#According to the virial theorem, the total energy\n",
    "   # Ei_array.append(Energy_i1.to(u.parsec**2.*u.s**(-2.)))\n",
    "    #print(\"Ei =\\t\", Energy_i1.to(u.parsec**2.*u.s**(-2.)))\n",
    "  #  Energy_j1 = G*((m_j*j)**(2.))/((2*R)*(1*u.M_sun))#According to the virial theorem, the total energy\n",
    " #   Ej_array.append(Energy_j1.to(u.parsec**2.*u.s**(-2.)))\n",
    "    #print(\"Ej =\\t\", Energy_j1.to(u.parsec**2.*u.s**(-2.)))\n",
    "#print(Ei_array,\"\\n\",Ej_array)"
   ]
  },
  {
   "cell_type": "code",
   "execution_count": 8,
   "id": "db750d78",
   "metadata": {},
   "outputs": [
    {
     "data": {
      "text/plain": [
       "[<matplotlib.lines.Line2D at 0x7f2ae942cca0>]"
      ]
     },
     "execution_count": 8,
     "metadata": {},
     "output_type": "execute_result"
    },
    {
     "data": {
      "image/png": "[encoded data removed]",
      "text/plain": [
       "<Figure size 432x288 with 1 Axes>"
      ]
     },
     "metadata": {
      "needs_background": "light"
     },
     "output_type": "display_data"
    }
   ],
   "source": [
    "pl.plot(r, N_i_1_array,\"--\")\n",
    "pl.plot(r, N_j_1_array, \"-.\")\n",
    "#pl.plot(r, N_total_casc, \"blue\")"
   ]
  },
  {
   "cell_type": "code",
   "execution_count": 9,
   "id": "e8eb2cea",
   "metadata": {},
   "outputs": [
    {
     "name": "stdout",
     "output_type": "stream",
     "text": [
      "1.2299630460535196e+34 m(32/7) / s(18/7)\n"
     ]
    }
   ],
   "source": [
    "sigma = 2*math.pi*(85*math.pi/(6*math.sqrt(2)))**(2./7.) * (G**(2.) * (m_i+m_j)**(10./7.) * m_i**(2./7.) * m_j**(2./7.))/(c**(10./7.))\n",
    "sigma = sigma.to(u.m**(32./7)/u.s**(18./7.))#.to(u.parsec**2)\n",
    "print(sigma)\n",
    "#print(sigma)\n",
    "#sigma.to(u.AU**2)\n",
    "#sigma.to(u.parsec**2.)"
   ]
  },
  {
   "cell_type": "code",
   "execution_count": 10,
   "id": "ac72b1fa",
   "metadata": {},
   "outputs": [],
   "source": [
    "def f_i(E_i): ## eq. 19 shapiro\n",
    "    return (24. * (2.)**(1./2.) * N_i * R**2. * E_i**(7./2.))/(7*(math.pi**(3.))*(G**5.)*(M**5.))\n",
    "\n",
    "def f_j(E_j):\n",
    "    return (24. * (2.)**(1./2.) * N_j * R**2. * E_j**(7./2.))/(7*(math.pi**(3.))*(G**5.)*(M**5.))\n",
    "\n",
    "def rho_i(r):## eq. 20\n",
    "    return ((3*M_i_t)/(4*(math.pi)*(R**(3.))))*((1 + r**(2.)/R**(2.))**(-5./2.))\n",
    "\n",
    "def rho_j(r):\n",
    "    return ((3*M_j_t)/(4*(math.pi)*(R**(3.))))*((1 + r**(2.)/R**(2.))**(-5./2.))\n",
    "\n",
    "def phi(r):## eq. 21\n",
    "    return (G*M/R)*((1 + r**(2.)/R**(2.))**(-1./2.))\n",
    "\n",
    "def integrant(E):\n",
    "    return E**(7./2.)*((2*(a - E))**(3./2.))"
   ]
  },
  {
   "cell_type": "code",
   "execution_count": 11,
   "id": "e2edbc34",
   "metadata": {},
   "outputs": [
    {
     "name": "stdout",
     "output_type": "stream",
     "text": [
      "f_i(E_i) \t\t\t\t f_j(E_j)\n",
      "2.803079300876216e-45 s3 / m6 \t\t 6.511713867535264e-52 s3 / m6\n"
     ]
    }
   ],
   "source": [
    "print(\"f_i(E_i) \\t\\t\\t\\t f_j(E_j)\")\n",
    "print(f_i(Energy_it).to(u.s**3. / (u.m**6.)),\"\\t\\t\",f_j(Energy_jt).to(u.s**3. / (u.m**6.)))\n",
    "#PH_i(1.*u.parsec)\n",
    "#rho_i(1*u.parsec)"
   ]
  },
  {
   "cell_type": "code",
   "execution_count": 12,
   "id": "1bfe26ed",
   "metadata": {},
   "outputs": [
    {
     "name": "stdout",
     "output_type": "stream",
     "text": [
      "n_i_1 \t\t\t\t\t n_j_1\n",
      "95.2758941685541 1 / pc3 \t\t 105.8621046317268 1 / pc3\n",
      "87.09041298865294 1 / pc3 \t\t 96.76712554294772 1 / pc3\n",
      "75.49381815673054 1 / pc3 \t\t 83.88202017414505 1 / pc3\n",
      "62.60201735788754 1 / pc3 \t\t 69.55779706431949 1 / pc3\n",
      "50.147928863891316 1 / pc3 \t\t 55.71992095987924 1 / pc3\n",
      "39.17896959909298 1 / pc3 \t\t 43.532188443436645 1 / pc3\n",
      "30.10643161572556 1 / pc3 \t\t 33.45159068413951 1 / pc3\n",
      "22.913828523418456 1 / pc3 \t\t 25.459809470464954 1 / pc3\n",
      "17.367212888833066 1 / pc3 \t\t 19.296903209814516 1 / pc3\n"
     ]
    }
   ],
   "source": [
    "def n_i_1(r):\n",
    "    return (rho_i(r)/m_i)\n",
    "\n",
    "def n_j_1(r):\n",
    "    return (rho_j(r)/m_j)\n",
    "\n",
    "print(\"n_i_1 \\t\\t\\t\\t\\t n_j_1\")\n",
    "for h in r:\n",
    "    h=h*u.parsec\n",
    "    print(n_i_1(h),\"\\t\\t\",n_j_1(h))#,\"\\t\",n_i_1(h, M))"
   ]
  },
  {
   "cell_type": "code",
   "execution_count": 13,
   "id": "9335d062",
   "metadata": {},
   "outputs": [
    {
     "name": "stdout",
     "output_type": "stream",
     "text": [
      "vel_i \t\t\t\t vel_j\n",
      "15.410335130226237 km / s \t 15.410335130226233 km / s\n",
      "15.27252395995121 km / s \t 15.27252395995121 km / s\n",
      "15.055837517536794 km / s \t 15.05583751753679 km / s\n",
      "14.776535210745944 km / s \t 14.776535210745942 km / s\n",
      "14.45237028925435 km / s \t 14.452370289254349 km / s\n",
      "14.099998976470422 km / s \t 14.09999897647042 km / s\n",
      "13.733451827675042 km / s \t 13.733451827675038 km / s\n",
      "13.36360240544069 km / s \t 13.363602405440686 km / s\n",
      "12.998307084140249 km / s \t 12.998307084140245 km / s\n"
     ]
    }
   ],
   "source": [
    "alfa = ((4*24*(2**(1/2))*(R**(2.)))/(math.pi*(G**(5.))*(M**(5.))*(2**(17./2.))))\n",
    "\n",
    "def vel_i(r):\n",
    "    return (alfa**(1./2.))*(N_i**(1./2.))*((phi(r)**(3))/(n_i_1(r)**(1./2.)))\n",
    "\n",
    "def vel_j(r):\n",
    "    return (alfa**(1./2.))*(N_j**(1./2.))*((phi(r)**(3))/(n_j_1(r)**(1./2.)))\n",
    "\n",
    "print(\"vel_i \\t\\t\\t\\t vel_j\")\n",
    "for h in r:\n",
    "    h = h*u.parsec\n",
    "    print(vel_i(h).to(u.km/u.s), \"\\t\", vel_j(h).to(u.km/u.s))"
   ]
  },
  {
   "cell_type": "code",
   "execution_count": 14,
   "id": "1d1400d6",
   "metadata": {},
   "outputs": [],
   "source": [
    "betha = (3./(4*math.pi*(R**(3.))))\n",
    "etha = (G*M/R)"
   ]
  },
  {
   "cell_type": "code",
   "execution_count": 15,
   "id": "9e854d09",
   "metadata": {},
   "outputs": [],
   "source": [
    "def GAMMA(r1,r0): #Equation (11)\n",
    "    a=(r1**(2.)/((R.value)**(2.)))\n",
    "    b=(r0**(2.)/(R**(2.)))\n",
    "    return (r1**(2.))*((1.+(a))**(-9./4.))*(1./((1. + a)**(1./4.)) + 1./((1. + b)**(1./4.)))**(3./7.) - abs((1./((1. + a)**(1./4.)) - 1./((1. + b)**(1./4.))))**(3./7.)"
   ]
  },
  {
   "cell_type": "code",
   "execution_count": 16,
   "id": "3e3defab",
   "metadata": {},
   "outputs": [],
   "source": [
    "def r_star(N_ij, Mi):\n",
    "    kappa = (1-((8*24*(2**(1./2.))*N_ij*m_i)/(3*Mi*2**(17./2.))))*(1*u.M_sun)\n",
    "    r_star_quad = (4.*(kappa**(2.))*(Mi*R)**(2.))/((m_i*N_ij)**(4.)) - R**(2.)\n",
    "    r_star_value = (abs(r_star_quad))**(1./2.)\n",
    "    return r_star_value\n",
    "\n",
    "#for i,j in zip(N_i_1_array, M_i_1_value):\n",
    "#    print(r_star(i,j))\n",
    "#r_star(N_i, M_i_t)"
   ]
  },
  {
   "cell_type": "code",
   "execution_count": 17,
   "id": "e96da765",
   "metadata": {},
   "outputs": [
    {
     "name": "stdout",
     "output_type": "stream",
     "text": [
      "Primordial Black holes Masses:\t m_i =  300.0 solMass \t m_j =  30.0 solMass \n",
      "\n",
      "radius \t merger_rate \t\t\t Number_Mergers at Universe's time \t time to the first Merger\n",
      "\n",
      "0.10 \t 6.397152735675917e-12 1 / yr \t\t 0.0881968110262015 \t\t 156.31954422834974 Gyr\n",
      "0.20 \t 1.1996229414078653e-11 1 / yr \t\t 0.1653906389884975 \t\t 83.3595261879879 Gyr\n",
      "0.30 \t 1.7304960581826204e-11 1 / yr \t\t 0.23858150669743705 \t\t 57.786898460214196 Gyr\n",
      "0.40 \t 2.1229569860178706e-11 1 / yr \t\t 0.2926896446732861 \t\t 47.10411028514274 Gyr\n",
      "0.50 \t 2.3487584497267182e-11 1 / yr \t\t 0.323820633485084 \t\t 42.57568504400066 Gyr\n",
      "0.60 \t 2.427169682354188e-11 1 / yr \t\t 0.3346311001913253 \t\t 41.200250945375544 Gyr\n",
      "0.70 \t 2.3943612295682306e-11 1 / yr \t\t 0.3301078364363613 \t\t 41.76479253217475 Gyr\n",
      "0.80 \t 2.28661925978504e-11 1 / yr \t\t 0.31525357464022685 \t\t 43.732685086104276 Gyr\n",
      "0.90 \t 2.133934047114823e-11 1 / yr \t\t 0.2942030394962544 \t\t 46.86180443824148 Gyr\n"
     ]
    }
   ],
   "source": [
    "print(\"Primordial Black holes Masses:\\t\", \"m_i = \",m_i,\"\\t m_j = \", m_j, \"\\n\")\n",
    "print(\"radius \\t merger_rate \\t\\t\\t Number_Mergers at Universe's time \\t time to the first Merger\\n\")\n",
    "\n",
    "colm1 = []\n",
    "colm2 = []\n",
    "colm3 = []\n",
    "colm4 = []\n",
    "\n",
    "for h in r:\n",
    "    r0 = h*u.parsec\n",
    "    colm1.append(\"%.2f\"%r0.value)\n",
    "    I, err = quad(GAMMA, h+interval, 0., args=(r0,))\n",
    "    nash_rubi = (14*math.pi/3.)*sigma*(N_i)*(n_j_1(r0)/vel_j(r0))*(alfa**(-2./7.))*(betha**(9./7.))*(etha**(-12./7.))\n",
    "    #I = I*units\n",
    "    merger = (I*nash_rubi*(u.parsec**(3.))).to(u.yr**(-1))\n",
    "    colm2.append(merger.value)\n",
    "    colm3.append((merger*(cosmo.age(0).to(u.yr))).value)\n",
    "    colm4.append(((merger**(-1.)).to(u.Gyr)).value)\n",
    "    print(\"%.2f\"%r0.value,\"\\t\",merger,\"\\t\\t\", merger*(cosmo.age(0).to(u.yr)),\"\\t\\t\",(merger**(-1.)).to(u.Gyr))#/(cosmo.age(0).to(u.yr)))\n"
   ]
  },
  {
   "cell_type": "code",
   "execution_count": 18,
   "id": "e608256f",
   "metadata": {},
   "outputs": [
    {
     "name": "stdout",
     "output_type": "stream",
     "text": [
      "Minimum time to get 1st Generation: \n",
      " T_merger =  1e+10 yr\n"
     ]
    }
   ],
   "source": [
    "for i in colm4:\n",
    "    if i<cosmo.age(0).value:\n",
    "        delta_t_1 = (np.amin(colm4))*u.Gyr\n",
    "        delta_t_1 = round((delta_t_1/10.).to(u.yr).value)\n",
    "    else:\n",
    "        delta_t_1 = (10e9)\n",
    "        #print(\"To get mergers we need age of universe, the system going to use\")\n",
    "        #print(\"{:.2e}\".format(delta_t_1))\n",
    "            \n",
    "print(\"Minimum time to get 1st Generation: \\n T_merger = \",\"{:.1e}\".format(delta_t_1)*u.yr)"
   ]
  },
  {
   "cell_type": "code",
   "execution_count": 19,
   "id": "df162693",
   "metadata": {},
   "outputs": [
    {
     "name": "stdout",
     "output_type": "stream",
     "text": [
      "Primordial Black holes Masses:\t m_i =  300.0 solMass \t m_j =  30.0 solMass 300.0 333.3333333333333 \n",
      "\n",
      "Merger_Rate \t\t\t | Probability \t\t | Collision Number \t |\n",
      "----------------------------------------------------------------------------------\n",
      "6.397152735675917e-12 1 / yr  \t |  0.06397152735675918  \t\t | 0.21768427791153658  \t | \n",
      "1.1996229414078653e-11 1 / yr  \t |  0.11996229414078653  \t\t | 1.2645136094131917  \t | \n",
      "1.7304960581826204e-11 1 / yr  \t |  0.17304960581826204  \t\t | 3.864307983955064  \t | \n",
      "2.1229569860178706e-11 1 / yr  \t |  0.21229569860178707  \t\t | 8.105338470565039  \t | \n",
      "2.3487584497267182e-11 1 / yr  \t |  0.23487584497267183  \t\t | 13.362633568708466  \t | \n",
      "2.427169682354188e-11 1 / yr  \t |  0.2427169682354188  \t\t | 18.72224721809689  \t | \n",
      "2.3943612295682306e-11 1 / yr  \t |  0.23943612295682307  \t\t | 23.403799805373446  \t | \n",
      "2.28661925978504e-11 1 / yr  \t |  0.228661925978504  \t\t | 26.948066409762756  \t | \n",
      "2.133934047114823e-11 1 / yr  \t |  0.2133934047114823  \t\t | 29.21069402758697  \t | \n"
     ]
    }
   ],
   "source": [
    "number_col_array = []\n",
    "prob_array = []\n",
    "print(\"Primordial Black holes Masses:\\t\", \"m_i = \",m_i,\"\\t m_j = \", m_j,N_i,N_j,  \"\\n\")\n",
    "print(\"Merger_Rate \\t\\t\\t | Probability \\t\\t | Collision Number \\t |\")\n",
    "print(\"----------------------------------------------------------------------------------\")\n",
    "\n",
    "def integrand_n_i(r1):\n",
    "    a=(r1**(2.)/((R.value)**(2.)))\n",
    "    return (R.value**(2.))*((1 + a)**(-5./2.))\n",
    "\n",
    "def integrand_n_i_b(r1):\n",
    "    a=(r1**(2.)/((R.value)**(2.)))\n",
    "    return (r1**(2.))*((1 + a)**(-5./2.))\n",
    "\n",
    "#for h in r:\n",
    "#    I, err = quad(integrand_n_i, 0 , h+interval)\n",
    "#    resultado = betha*N_i*I\n",
    "#    print(resultado*u.parsec**3.)\n",
    "    \n",
    "#for h in r:\n",
    "#    I, err = quad(integrand_n_i_b, 0 , h+interval)\n",
    "#    resultado = 3*N_i*(R**(-3.))*I\n",
    "#    print(resultado*u.parsec**3.)\n",
    "\n",
    "for h,i in zip(colm2, r):\n",
    "    GAMMA_value = h*(1/u.yr)\n",
    "    Prob = GAMMA_value*(delta_t_1*u.yr) #integration dt\n",
    "    prob_array.append(Prob)\n",
    "    #I, err = quad(integrand_n_i, 0 , i+interval)\n",
    "    #N_j_r = betha*N_j*I*u.parsec**3.\n",
    "    I, err = quad(integrand_n_i_b, 0 , i+interval)\n",
    "    N_j_r = 3*N_j*(R**(-3.))*I*u.parsec**3.\n",
    "    Num_Col = N_j_r*Prob #numero de choques\n",
    "    #Num_Col = N_j*Prob\n",
    "    number_col_array.append(Num_Col)\n",
    "    print(GAMMA_value, \" \\t | \" , Prob, \" \\t\\t |\" , Num_Col, \" \\t | \")"
   ]
  },
  {
   "cell_type": "markdown",
   "id": "1b9ca70a",
   "metadata": {},
   "source": [
    "## SECOND GENERATION"
   ]
  },
  {
   "cell_type": "code",
   "execution_count": 20,
   "id": "8ead3de6",
   "metadata": {},
   "outputs": [
    {
     "name": "stdout",
     "output_type": "stream",
     "text": [
      "PBHs with mass:  m_i =  300.0 solMass  \t m_j =  30.0 solMass \t m_k =  330.0 solMass \n",
      "\n",
      "N_k = \t  124.0 PBHs with  330.0 solMass \n",
      "\n",
      "\n",
      "Total Numbers PBHs for species 2nd Generation with 300.0 solMass\n",
      "N_i_2 \t\t\t N_j_2\n",
      "176.0 \t\t 209.33333333333331\n"
     ]
    }
   ],
   "source": [
    "Ni_2_values = []\n",
    "Nj_2_values = []\n",
    "N_k_values = []\n",
    "m_k = m_i + m_j\n",
    "N_k_tot = 0.\n",
    "print(\"PBHs with mass:  m_i = \", m_i,\" \\t m_j = \", m_j, \"\\t m_k = \", m_k,\"\\n\")# \\t  Number_pbhs at cluster\")\n",
    "for h in number_col_array:\n",
    "    number_binaries = round(float(h))#Nuevos Agujeros Negros\n",
    "    N_k_tot = N_k_tot + number_binaries\n",
    "print(\"N_k = \\t \",N_k_tot, \"PBHs with \", m_k,\"\\n\\n\")\n",
    "N_i_2 = N_i - N_k_tot\n",
    "N_j_2 = N_j - N_k_tot\n",
    "print(\"Total Numbers PBHs for species 2nd Generation with\", m_i)\n",
    "print(\"N_i_2 \\t\\t\\t N_j_2\")\n",
    "print(N_i_2,\"\\t\\t\",N_j_2)\n",
    "M_i_2 = (N_i_2*m_i)\n",
    "M_j_2 = (N_j_2*m_j)\n",
    "M_k = N_k_tot*m_k\n",
    "#print(M_i_2, M_j_2, M_k)\n",
    "#print(M- (M_i_2 + M_j_2 + M_k))"
   ]
  },
  {
   "cell_type": "code",
   "execution_count": 21,
   "id": "2c54997b",
   "metadata": {},
   "outputs": [
    {
     "name": "stdout",
     "output_type": "stream",
     "text": [
      "M =\t 100000.0 solMass\n",
      "R =\t 0.9 pc\n",
      "v_rel =\t 7.084492493306903e-13 pc / s\n",
      "m_i_2 =\t 300.0 solMass\n",
      "m_j_2 =\t 30.0 solMass\n",
      "m_k = \t 330.0 solMass\n",
      "\n",
      "\n"
     ]
    }
   ],
   "source": [
    "#Ei_2_array = []\n",
    "#Ej_2_array = []\n",
    "#Ek_array=[]\n",
    "#for i,j,k in zip (Ni_2_values, Nj_2_values, N_k_values):\n",
    "#    Energy_mi2 = G*(m_i*i)**(2.)/((2*R)*(1*u.M_sun)) #According to the virial theorem, the total energy\n",
    "#    Energy_mj2 = G*((m_j)*j)**(2.)/((2*R)*(1*u.M_sun)) #According to the virial theorem, the total energy\n",
    "#    Energy_mk = G*((m_k)*k)**(2.)/((2*R)*(1*u.M_sun)) #According to the virial theorem, the total energy\n",
    "#   Ei_2_array.append(Energy_mi2.to(u.parsec**2.*u.s**(-2.)))\n",
    "#   Ej_2_array.append(Energy_mj2.to(u.parsec**2.*u.s**(-2.)))\n",
    "#Ek_array.append(Energy_mk.to(u.parsec**2.*u.s**(-2.)))\n",
    "print(\"M =\\t\", M)\n",
    "print(\"R =\\t\", R)\n",
    "print(\"v_rel =\\t\", v_rel.to(u.parsec* u.s**(-1)))\n",
    "print(\"m_i_2 =\\t\", m_i)\n",
    "print(\"m_j_2 =\\t\", m_j)\n",
    "print(\"m_k = \\t\", m_k)\n",
    "#print(\"E =\\t\", Energy.to(u.parsec**2.*u.s**(-2.)))\n",
    "#print(\"Energy to m_i = \\t\", Energy_mi.to(u.parsec**2.*u.s**(-2.)))\n",
    "#print(\"Energy to m_j_2 = \\t\", Energy_mj2.to(u.parsec**2.*u.s**(-2.)))\n",
    "print(\"\\n\")\n",
    "#print(Ei_2_array,\"\\n\",Ej_2_array,\"\\n\",Ek_array)"
   ]
  },
  {
   "cell_type": "code",
   "execution_count": 22,
   "id": "dab75b53",
   "metadata": {},
   "outputs": [],
   "source": [
    "#print(\"M_i \\t\\t\\t M_j \\t\\t\\t M_k\")# \\t\\t\\t  vel_rel_i \\t\\t\\t  vel_rel_j\")\n",
    "#Mi_array = []\n",
    "#Mj_array = []\n",
    "#Mk_array = []\n",
    "#for i,j,k in zip(Ni_2_values, Nj_2_values, N_k_values):\n",
    "#    Mi = i*u.M_sun\n",
    "#    Mj = j*u.M_sun\n",
    "#    Mk = k*u.M_sun\n",
    "#    Mi_array.append(Mi)\n",
    "#    Mj_array.append(Mj)\n",
    "#    Mk_\n",
    "#    print(Mi,\"\\t\\t\",Mj,\"\\t \")#, v_ri.to(u.km/u.s),\" \\t \",v_rj.to(u.km/u.s))"
   ]
  },
  {
   "cell_type": "code",
   "execution_count": 23,
   "id": "8822a1c9",
   "metadata": {},
   "outputs": [
    {
     "name": "stdout",
     "output_type": "stream",
     "text": [
      "300.0 solMass 30.0 solMass 330.0 solMass \n",
      "\n",
      "9.849497123693983e-23 pc(32/7) / yr(18/7)\n",
      "4.921932979162547e-22 pc(32/7) / yr(18/7)\n",
      "1.1461044468837523e-22 pc(32/7) / yr(18/7)\n"
     ]
    }
   ],
   "source": [
    "print(m_i, m_j, m_k, \"\\n\")\n",
    "\n",
    "sigma_2_ij = 2*math.pi*(85*math.pi/(6*math.sqrt(2)))**(2./7.) * (G**(2.) * (m_i+m_j)**(10./7.) * m_i**(2./7.) * m_j**(2./7.))/(c**(10./7.))\n",
    "sigma_2_ij = sigma_2_ij.to(u.parsec**(32./7)/u.yr**(18./7.))#.to(u.parsec**2)\n",
    "#print(m_i, m_j_2)\n",
    "print(sigma_2_ij)\n",
    "\n",
    "sigma_2_ik = 2*math.pi*(85*math.pi/(6*math.sqrt(2)))**(2./7.) * (G**(2.) * (m_i+m_k)**(10./7.) * m_i**(2./7.) * m_k**(2./7.))/(c**(10./7.))\n",
    "sigma_2_ik = sigma_2_ik.to(u.parsec**(32./7)/u.yr**(18./7.))#.to(u.parsec**2)\n",
    "#print(m_i, m_j_2)\n",
    "print(sigma_2_ik)\n",
    "\n",
    "sigma_2_jk = 2*math.pi*(85*math.pi/(6*math.sqrt(2)))**(2./7.) * (G**(2.) * (m_j+m_k)**(10./7.) * m_j**(2./7.) * m_k**(2./7.))/(c**(10./7.))\n",
    "sigma_2_jk = sigma_2_jk.to(u.parsec**(32./7)/u.yr**(18./7.))#.to(u.parsec**2)\n",
    "#print(m_i, m_j_2)\n",
    "print(sigma_2_jk)\n",
    "\n"
   ]
  },
  {
   "cell_type": "code",
   "execution_count": 24,
   "id": "17dec4ea",
   "metadata": {},
   "outputs": [],
   "source": [
    "def f_i2(E): ## eq. 19 shapiro\n",
    "    return (24. * (2.)**(1./2.) * Ni_2 * R**2. * E**(7./2.))/(7*(math.pi**(3.))*(G**5.)*(M**5.))\n",
    "\n",
    "def f_j2(E):\n",
    "    return (24. * (2.)**(1./2.) * Nj_2 * R**2. * E**(7./2.))/(7*(math.pi**(3.))*(G**5.)*(M**5.))\n",
    "\n",
    "def f_k(E):\n",
    "    return (24. * (2.)**(1./2.) * N_k_tot * R**2. * E**(7./2.))/(7*(math.pi**(3.))*(G**5.)*(M**5.))\n",
    "\n",
    "def rho_i2(r):## eq. 20\n",
    "    return ((3*M_i_2)/(4*(math.pi)*(R**(3.))))*((1 + r**(2.)/R**(2.))**(-5./2.))\n",
    "\n",
    "def rho_j2(r):\n",
    "    return ((3*M_j_2)/(4*(math.pi)*(R**(3.))))*((1 + r**(2.)/R**(2.))**(-5./2.))\n",
    "\n",
    "def rho_k(r):\n",
    "    return ((3*M_k)/(4*(math.pi)*(R**(3.))))*((1 + r**(2.)/R**(2.))**(-5./2.))\n",
    "\n",
    "def phi(r):## eq. 21\n",
    "    return (G*M/R)*((1 + r**(2.)/R**(2.))**(-1./2.))\n",
    "\n",
    "#def integrant(E):\n",
    "#    return E**(7./2.)*((2*(a - E))**(3./2.))"
   ]
  },
  {
   "cell_type": "code",
   "execution_count": 25,
   "id": "e73580af",
   "metadata": {},
   "outputs": [],
   "source": [
    "#print(\"N_i \\t\\t f_i2 \\t\\t\\t\\t\\t\\t N_j \\t\\t f_j2\")\n",
    "#for h,i,j,k,l in zip (r, Ni_2_values, Nj_2_values, Ei_2_array, Ej_2_array):\n",
    "#    h = h*u.parsec\n",
    "#    print(i,\"\\t\",f_i2(k, i).to(u.s**3./(u.m**6.)),\" \\t\\t \",j,\"\\t\",f_j2(l, j).to(u.s**3./(u.m**6.)))\n",
    "#print(\"\\n\")\n",
    "#print(\"M_i \\t\\t\\t rho_i2 \\t\\t\\t\\t M_j \\t\\t\\t  rho_j2\")\n",
    "#for h,k,l in zip (r, Mi_array, Mj_array):\n",
    "#    h = h*u.parsec\n",
    "#    print(k,\"\\t\",rho_i2(h,k),\"\\t\",l,\"\\t\",rho_j2(h,l))"
   ]
  },
  {
   "cell_type": "code",
   "execution_count": 26,
   "id": "b12e3248",
   "metadata": {},
   "outputs": [],
   "source": [
    "def n_i_2(r):\n",
    "    return (rho_i2(r)/m_i)\n",
    "\n",
    "def n_j_2(r):\n",
    "    return (rho_j2(r)/m_j)\n",
    "\n",
    "def n_k(r):\n",
    "    return (rho_k(r)/m_k)\n",
    "    "
   ]
  },
  {
   "cell_type": "code",
   "execution_count": 27,
   "id": "f4b8d90b",
   "metadata": {},
   "outputs": [],
   "source": [
    "alfa_2 = ((4*24*(2**(1/2))*(R**(2.)))/(math.pi*(G**(5.))*(M**(5.))*(2**(17./2.))))\n",
    "\n",
    "def vel_i2(r):\n",
    "    return (alfa_2**(1./2.))*(N_i_2**(1./2.))*((phi(r)**(3))/(n_i_2(r)**(1./2.)))\n",
    "\n",
    "def vel_j2(r):\n",
    "    return (alfa_2**(1./2.))*(N_j_2**(1./2.))*((phi(r)**(3))/(n_j_2(r)**(1./2.)))\n",
    "\n",
    "def vel_k(r):\n",
    "    return (alfa_2**(1./2.))*(N_k_tot**(1./2.))*((phi(r)**(3))/(n_k(r)**(1./2.)))\n",
    "\n",
    "\n",
    "#for h,i,j,k,l in zip(r, Ni_2_values, Nj_2_values, Mi_array, Mj_array):\n",
    "#    h = h*u.parsec\n",
    "#    print(vel_i2(h,i,k).to(u.km/u.s), \"\\t\",vel_j2(h,j,l).to(u.km/u.s))\n",
    "\n",
    "#print(\"\\n\")\n",
    "#for h in r:\n",
    "    #h = h*u.parsec\n",
    "    #print(\"r = \",\"%.2f\"%h.value)\n",
    "    #print(\"vel_rel = \")\n",
    "    #for i,j,k,l in zip(Ni_2_values, Nj_2_values, Mi_array, Mj_array):\n",
    "    #    print(vel_i2(h,i,k).to(u.km/u.s), \"\\t\", vel_j2(h,j,l).to(u.km/u.s))"
   ]
  },
  {
   "cell_type": "code",
   "execution_count": 28,
   "id": "e77539cf",
   "metadata": {},
   "outputs": [],
   "source": [
    "#CONSTANTS SECOND GENERATION\n",
    "betha_2 = (3./(4*math.pi*(R**(3.))))\n",
    "etha_2 = (G*M/R)\n",
    "#zetha2 = alfa**(-1./2.) * betha**(3./2.) * etha**(-3.) * alfa**(3./14.) * etha**(9./7.) * betha**(-3./14.)\n",
    "#print(zetha)"
   ]
  },
  {
   "cell_type": "code",
   "execution_count": 29,
   "id": "8ea22a09",
   "metadata": {},
   "outputs": [
    {
     "name": "stdout",
     "output_type": "stream",
     "text": [
      "Black holes Masses:\t 300.0 solMass 30.0 solMass \n",
      "\n",
      "radius \t merger_rate \t\t\t Number_Mergers at Universe's time \t time to the first Merger\n",
      "\n",
      "0.10 \t 2.356881658562664e-12 1 / yr \t\t 0.032494057097013855 \t\t 424.2894403997554 Gyr\n",
      "0.20 \t 4.41973081559769e-12 1 / yr \t\t 0.06093432182040317 \t\t 226.2581233388459 Gyr\n",
      "0.30 \t 6.375608943960394e-12 1 / yr \t\t 0.0878997892408492 \t\t 156.84776290228697 Gyr\n",
      "0.40 \t 7.821539658352901e-12 1 / yr \t\t 0.10783467015483164 \t\t 127.85206540915054 Gyr\n",
      "0.50 \t 8.653452464379964e-12 1 / yr \t\t 0.11930415659279982 \t\t 115.56081276418635 Gyr\n",
      "0.60 \t 8.9423403550416e-12 1 / yr \t\t 0.12328702080649132 \t\t 111.82754852718286 Gyr\n",
      "0.70 \t 8.821465266057392e-12 1 / yr \t\t 0.12162052981879583 \t\t 113.35985234196058 Gyr\n",
      "0.80 \t 8.424515118184166e-12 1 / yr \t\t 0.11614782365945185 \t\t 118.70119359647393 Gyr\n",
      "0.90 \t 7.861982078650365e-12 1 / yr \t\t 0.10839224516480844 \t\t 127.19438813216756 Gyr\n"
     ]
    }
   ],
   "source": [
    "def GAMMA_2(r1,r0): #Equation (11)\n",
    "    a=(r1**(2.)/((R.value)**(2.)))\n",
    "    b=(r0**(2.)/(R**(2.)))\n",
    "    return (r1**(2.))*((1.+(a))**(-9./4.))*(1./((1. + a)**(1./4.)) + 1./((1. + b)**(1./4.)))**(3./7.) - abs((1./((1. + a)**(1./4.)) - 1./((1. + b)**(1./4.))))**(3./7.)\n",
    "\n",
    "\n",
    "\n",
    "colm1_2gnd_ij = []\n",
    "colm2_2gnd_ij = []\n",
    "colm3_2gnd_ij = []\n",
    "colm4_2gnd_ij = []\n",
    "print(\"Black holes Masses:\\t\", m_i, m_j, \"\\n\")\n",
    "print(\"radius \\t merger_rate \\t\\t\\t Number_Mergers at Universe's time \\t time to the first Merger\\n\")\n",
    "\n",
    "for h in r :\n",
    "    r0 = h*u.parsec\n",
    "    colm1_2gnd_ij.append(\"%.2f\"%r0.value)\n",
    "    I, err = quad(GAMMA_2, h+interval, 0., args=(r0,))\n",
    "    nash_rubi = (14*math.pi/3.)*sigma_2_ij*(N_i_2)*(n_j_2(r0)/vel_j2(r0))*(alfa_2**(-2./7.))*(betha_2**(9./7.))*(etha_2**(-12./7.))\n",
    "    #I = I*units\n",
    "    merger2 = (I*nash_rubi*(u.parsec**(3.))).to(u.yr**(-1))\n",
    "    colm2_2gnd_ij.append(merger2.value)\n",
    "    colm3_2gnd_ij.append((merger2*(cosmo.age(0).to(u.yr))).value)\n",
    "    colm4_2gnd_ij.append(((merger2**(-1.)).to(u.Gyr)).value)\n",
    "    #print(\"%.2f\"%r0.value,\"\\t\",merger*u.parsec**(3))\n",
    "    print(\"%.2f\"%r0.value,\"\\t\",merger2,\"\\t\\t\", merger2*(cosmo.age(0).to(u.yr)),\"\\t\\t\",(merger2**(-1.)).to(u.Gyr))#/(cosmo.age(0).to(u.yr)))"
   ]
  },
  {
   "cell_type": "code",
   "execution_count": 30,
   "id": "c0dd200d",
   "metadata": {},
   "outputs": [
    {
     "name": "stdout",
     "output_type": "stream",
     "text": [
      "m_i and m_k\n",
      "Black holes Masses:\t 300.0 solMass 330.0 solMass \n",
      "\n",
      "radius \t merger_rate \t\t\t Number_Mergers at Universe's time \t time to the first Merger\n",
      "\n",
      "0.10 \t 6.976582124230671e-12 1 / yr \t\t 0.09618533754681952 \t\t 143.33666288064705 Gyr\n",
      "0.20 \t 1.308280154414484e-11 1 / yr \t\t 0.1803710843180804 \t\t 76.43622786952284 Gyr\n",
      "0.30 \t 1.887237707838297e-11 1 / yr \t\t 0.2601912981559431 \t\t 52.98749573764252 Gyr\n",
      "0.40 \t 2.315246230805834e-11 1 / yr \t\t 0.3192003423003033 \t\t 43.19195024245627 Gyr\n",
      "0.50 \t 2.5614999190366832e-11 1 / yr \t\t 0.3531510558486591 \t\t 39.03962645355364 Gyr\n",
      "0.60 \t 2.6470133382859893e-11 1 / yr \t\t 0.3649406928783876 \t\t 37.77842693635712 Gyr\n",
      "0.70 \t 2.6112332225551748e-11 1 / yr \t\t 0.36000772936165387 \t\t 38.296081382629936 Gyr\n",
      "0.80 \t 2.493732401255903e-11 1 / yr \t\t 0.3438080259002039 \t\t 40.10053362166591 Gyr\n",
      "0.90 \t 2.327217551702785e-11 1 / yr \t\t 0.32085081458150144 \t\t 42.96976873813612 Gyr\n"
     ]
    }
   ],
   "source": [
    "def GAMMA_2(r1,r0): #Equation (11)\n",
    "    a=(r1**(2.)/((R.value)**(2.)))\n",
    "    b=(r0**(2.)/(R**(2.)))\n",
    "    return (r1**(2.))*((1.+(a))**(-9./4.))*(1./((1. + a)**(1./4.)) + 1./((1. + b)**(1./4.)))**(3./7.) - abs((1./((1. + a)**(1./4.)) - 1./((1. + b)**(1./4.))))**(3./7.)\n",
    "\n",
    "\n",
    "\n",
    "colm1_2gnd_ik = []\n",
    "colm2_2gnd_ik = []\n",
    "colm3_2gnd_ik = []\n",
    "colm4_2gnd_ik = []\n",
    "print(\"m_i and m_k\")\n",
    "print(\"Black holes Masses:\\t\", m_i, m_k, \"\\n\")\n",
    "print(\"radius \\t merger_rate \\t\\t\\t Number_Mergers at Universe's time \\t time to the first Merger\\n\")\n",
    "\n",
    "for h in r :\n",
    "    r0 = h*u.parsec\n",
    "    colm1_2gnd_ik.append(\"%.2f\"%r0.value)\n",
    "    I, err = quad(GAMMA_2, h+interval, 0., args=(r0,))\n",
    "    nash_rubi = (14*math.pi/3.)*sigma_2_ik*(N_i_2)*(n_k(r0)/vel_k(r0))*(alfa_2**(-2./7.))*(betha_2**(9./7.))*(etha_2**(-12./7.))\n",
    "    #I = I*units\n",
    "    merger2 = (I*nash_rubi*(u.parsec**(3.))).to(u.yr**(-1))\n",
    "    colm2_2gnd_ik.append(merger2.value)\n",
    "    colm3_2gnd_ik.append((merger2*(cosmo.age(0).to(u.yr))).value)\n",
    "    colm4_2gnd_ik.append(((merger2**(-1.)).to(u.Gyr)).value)\n",
    "    #print(\"%.2f\"%r0.value,\"\\t\",merger*u.parsec**(3))\n",
    "    print(\"%.2f\"%r0.value,\"\\t\",merger2,\"\\t\\t\", merger2*(cosmo.age(0).to(u.yr)),\"\\t\\t\",(merger2**(-1.)).to(u.Gyr))#/(cosmo.age(0).to(u.yr)))"
   ]
  },
  {
   "cell_type": "code",
   "execution_count": 31,
   "id": "34679159",
   "metadata": {},
   "outputs": [
    {
     "name": "stdout",
     "output_type": "stream",
     "text": [
      "m_j and m_k\n",
      "Black holes Masses:\t 30.0 solMass 330.0 solMass \n",
      "\n",
      "radius \t merger_rate \t\t\t Number_Mergers at Universe's time \t time to the first Merger\n",
      "\n",
      "0.10 \t 1.932221605459597e-12 1 / yr \t\t 0.02663931765253652 \t\t 517.5389806088731 Gyr\n",
      "0.20 \t 3.623389125706654e-12 1 / yr \t\t 0.04995525028066688 \t\t 275.98471080717127 Gyr\n",
      "0.30 \t 5.226859526326182e-12 1 / yr \t\t 0.07206211277917586 \t\t 191.3194710826432 Gyr\n",
      "0.40 \t 6.412264213997543e-12 1 / yr \t\t 0.08840515124456555 \t\t 155.9511533877639 Gyr\n",
      "0.50 \t 7.094283988653645e-12 1 / yr \t\t 0.09780807965145175 \t\t 140.95855220898486 Gyr\n",
      "0.60 \t 7.331120412690512e-12 1 / yr \t\t 0.10107331626498617 \t\t 136.40479813548737 Gyr\n",
      "0.70 \t 7.232024449323569e-12 1 / yr \t\t 0.09970709158415397 \t\t 138.2738688187832 Gyr\n",
      "0.80 \t 6.906596293342769e-12 1 / yr \t\t 0.09522045092360215 \t\t 144.78912007118393 Gyr\n",
      "0.90 \t 6.445419768495553e-12 1 / yr \t\t 0.08886226307155416 \t\t 155.14893302805217 Gyr\n"
     ]
    }
   ],
   "source": [
    "def GAMMA_2(r1,r0): #Equation (11)\n",
    "    a=(r1**(2.)/((R.value)**(2.)))\n",
    "    b=(r0**(2.)/(R**(2.)))\n",
    "    return (r1**(2.))*((1.+(a))**(-9./4.))*(1./((1. + a)**(1./4.)) + 1./((1. + b)**(1./4.)))**(3./7.) - abs((1./((1. + a)**(1./4.)) - 1./((1. + b)**(1./4.))))**(3./7.)\n",
    "\n",
    "\n",
    "\n",
    "colm1_2gnd_jk = []\n",
    "colm2_2gnd_jk = []\n",
    "colm3_2gnd_jk = []\n",
    "colm4_2gnd_jk = []\n",
    "print(\"m_j and m_k\")\n",
    "print(\"Black holes Masses:\\t\", m_j, m_k, \"\\n\")\n",
    "print(\"radius \\t merger_rate \\t\\t\\t Number_Mergers at Universe's time \\t time to the first Merger\\n\")\n",
    "\n",
    "for h in r :\n",
    "    r0 = h*u.parsec\n",
    "    colm1_2gnd_jk.append(\"%.2f\"%r0.value)\n",
    "    I, err = quad(GAMMA_2, h+interval, 0., args=(r0,))\n",
    "    nash_rubi = (14*math.pi/3.)*sigma_2_jk*(N_j_2)*(n_k(r0)/vel_k(r0))*(alfa_2**(-2./7.))*(betha_2**(9./7.))*(etha_2**(-12./7.))\n",
    "    #I = I*units\n",
    "    merger2 = (I*nash_rubi*(u.parsec**(3.))).to(u.yr**(-1))\n",
    "    colm2_2gnd_jk.append(merger2.value)\n",
    "    colm3_2gnd_jk.append((merger2*(cosmo.age(0).to(u.yr))).value)\n",
    "    colm4_2gnd_jk.append(((merger2**(-1.)).to(u.Gyr)).value)\n",
    "    #print(\"%.2f\"%r0.value,\"\\t\",merger*u.parsec**(3))\n",
    "    print(\"%.2f\"%r0.value,\"\\t\",merger2,\"\\t\\t\", merger2*(cosmo.age(0).to(u.yr)),\"\\t\\t\",(merger2**(-1.)).to(u.Gyr))#/(cosmo.age(0).to(u.yr)))"
   ]
  },
  {
   "cell_type": "code",
   "execution_count": 37,
   "id": "0aac16e6",
   "metadata": {},
   "outputs": [
    {
     "name": "stdout",
     "output_type": "stream",
     "text": [
      "3.8e+09 yr\n",
      "Primordial Black holes Masses:\t m_i =  300.0 solMass \t m_j =  30.0 solMass \t m_j =  330.0 solMass \n",
      "\n",
      "Merger_species \t| radius      | Merger_Rate \t\t | Probability \t | Collision Number\n",
      "----------------------------------------------------------------------------------\n",
      "m_i - m_j \t|\t 0.10 |\t 2.356882e-12 1 / yr  \t |  0.0089  \t | 0.016035931567469405  \t | \n",
      "m_i - m_k \t|\t 0.10 |\t 6.976582e-12 1 / yr  \t |  0.0264  \t | 0.04746780268434035  \t | \n",
      "m_j - m_k \t|\t 0.10 |\t 1.932222e-12 1 / yr  \t |  0.0073  \t | 0.015636482844163614  \t | \n",
      "\n",
      "\n",
      "m_i - m_j \t|\t 0.20 |\t 4.419731e-12 1 / yr  \t |  0.0167  \t | 0.09315166855974871  \t | \n",
      "m_i - m_k \t|\t 0.20 |\t 1.308280e-11 1 / yr  \t |  0.0495  \t | 0.27573733426757197  \t | \n",
      "m_j - m_k \t|\t 0.20 |\t 3.623389e-12 1 / yr  \t |  0.0137  \t | 0.09083129727832724  \t | \n",
      "\n",
      "\n",
      "m_i - m_j \t|\t 0.30 |\t 6.375609e-12 1 / yr  \t |  0.0241  \t | 0.2846681394763466  \t | \n",
      "m_i - m_k \t|\t 0.30 |\t 1.887238e-11 1 / yr  \t |  0.0715  \t | 0.8426433486778644  \t | \n",
      "m_j - m_k \t|\t 0.30 |\t 5.226860e-12 1 / yr  \t |  0.0198  \t | 0.2775771685276842  \t | \n",
      "\n",
      "\n",
      "m_i - m_j \t|\t 0.40 |\t 7.821540e-12 1 / yr  \t |  0.0296  \t | 0.5970879215171367  \t | \n",
      "m_i - m_k \t|\t 0.40 |\t 2.315246e-11 1 / yr  \t |  0.0877  \t | 1.767434060474168  \t | \n",
      "m_j - m_k \t|\t 0.40 |\t 6.412264e-12 1 / yr  \t |  0.0243  \t | 0.5822146971617045  \t | \n",
      "\n",
      "\n",
      "m_i - m_j \t|\t 0.50 |\t 8.653452e-12 1 / yr  \t |  0.0328  \t | 0.9843718596712777  \t | \n",
      "m_i - m_k \t|\t 0.50 |\t 2.561500e-11 1 / yr  \t |  0.0970  \t | 2.913829421527463  \t | \n",
      "m_j - m_k \t|\t 0.50 |\t 7.094284e-12 1 / yr  \t |  0.0269  \t | 0.9598515453415817  \t | \n",
      "\n",
      "\n",
      "m_i - m_j \t|\t 0.60 |\t 8.942340e-12 1 / yr  \t |  0.0339  \t | 1.3791931969503757  \t | \n",
      "m_i - m_k \t|\t 0.60 |\t 2.647013e-11 1 / yr  \t |  0.1002  \t | 4.082536163301689  \t | \n",
      "m_j - m_k \t|\t 0.60 |\t 7.331120e-12 1 / yr  \t |  0.0278  \t | 1.3448380390104742  \t | \n",
      "\n",
      "\n",
      "m_i - m_j \t|\t 0.70 |\t 8.821465e-12 1 / yr  \t |  0.0334  \t | 1.7240644831972622  \t | \n",
      "m_i - m_k \t|\t 0.70 |\t 2.611233e-11 1 / yr  \t |  0.0989  \t | 5.103386252252597  \t | \n",
      "m_j - m_k \t|\t 0.70 |\t 7.232024e-12 1 / yr  \t |  0.0274  \t | 1.681118717694803  \t | \n",
      "\n",
      "\n",
      "m_i - m_j \t|\t 0.80 |\t 8.424515e-12 1 / yr  \t |  0.0319  \t | 1.9851564521264615  \t | \n",
      "m_i - m_k \t|\t 0.80 |\t 2.493732e-11 1 / yr  \t |  0.0944  \t | 5.876242011299278  \t | \n",
      "m_j - m_k \t|\t 0.80 |\t 6.906596e-12 1 / yr  \t |  0.0262  \t | 1.9357069887742486  \t | \n",
      "\n",
      "\n",
      "m_i - m_j \t|\t 0.90 |\t 7.861982e-12 1 / yr  \t |  0.0298  \t | 2.1518351943406335  \t | \n",
      "m_i - m_k \t|\t 0.90 |\t 2.327218e-11 1 / yr  \t |  0.0881  \t | 6.369626110240337  \t | \n",
      "m_j - m_k \t|\t 0.90 |\t 6.445420e-12 1 / yr  \t |  0.0244  \t | 2.0982338293355896  \t | \n",
      "\n",
      "\n"
     ]
    }
   ],
   "source": [
    "number_col_array_ij = []\n",
    "number_col_array_ik = []\n",
    "number_col_array_jk = []\n",
    "prob_array_ij = []\n",
    "prob_array_ik = []\n",
    "prob_array_jk = []\n",
    "\n",
    "if delta_t_1\n",
    "delta_t_2 = (cosmo.age(0).to(u.yr)-(delta_t_1*u.yr))\n",
    "print(\"{:.1e}\".format(delta_t_2))\n",
    "print(\"Primordial Black holes Masses:\\t\", \"m_i = \",m_i,\"\\t m_j = \", m_j,\"\\t m_j = \",m_k, \"\\n\")\n",
    "print(\"Merger_species \\t| radius      | Merger_Rate \\t\\t | Probability \\t | Collision Number\")\n",
    "print(\"----------------------------------------------------------------------------------\")\n",
    "\n",
    "def integrand_n_i(r1):\n",
    "    a=(r1**(2.)/((R.value)**(2.)))\n",
    "    return (r1**(2.))*((1 + a)**(-5./2.))\n",
    "\n",
    "for h,i,j,k in zip(r, colm2_2gnd_ij, colm2_2gnd_ik, colm2_2gnd_jk):\n",
    "    GAMMA_value_ij = i*(1/u.yr)\n",
    "    GAMMA_value_ik = j*(1/u.yr)\n",
    "    GAMMA_value_jk = k*(1/u.yr)\n",
    "    Prob_ij = GAMMA_value_ij*delta_t_2 #integration dt\n",
    "    Prob_ik = GAMMA_value_ik*delta_t_2 #integration dt\n",
    "    Prob_jk = GAMMA_value_jk*delta_t_2 #integration dt\n",
    "    prob_array_ij.append(Prob_ij)\n",
    "    prob_array_ik.append(Prob_ik)\n",
    "    prob_array_jk.append(Prob_jk)\n",
    "    #I, err = quad(integrand_n_i, 0 , i+interval)\n",
    "    #N_j_r = betha*N_j*I*u.parsec**3.\n",
    "    Int_res, err = quad(integrand_n_i, 0 , h+interval)\n",
    "    N_i2_r = 3*N_i_2*(R**(-3.))*Int_res*u.parsec**3.\n",
    "    N_j2_r = 3*N_j_2*(R**(-3.))*Int_res*u.parsec**3.\n",
    "    N_k_r = 3*N_k_tot*(R**(-3.))*Int_res*u.parsec**3.\n",
    "    Num_Col_ij = N_i2_r*Prob_ij #numero de choques especie i-j\n",
    "    Num_Col_ik = N_i2_r*Prob_ik #numero de choques especie i-k\n",
    "    Num_Col_jk = N_j2_r*Prob_jk #numero de choques especie j-k\n",
    "    number_col_array_ij.append(Num_Col_ij)\n",
    "    number_col_array_ik.append(Num_Col_ik)\n",
    "    number_col_array_jk.append(Num_Col_jk)\n",
    "    print(\"m_i - m_j\",\"\\t|\\t\",\"{0:.2f}\".format(h),\"|\\t\",\"{:e}\".format(GAMMA_value_ij), \" \\t | \" , \"{0:.4f}\".format(Prob_ij), \" \\t |\" , Num_Col_ij, \" \\t | \")\n",
    "    print(\"m_i - m_k\",\"\\t|\\t\",\"{0:.2f}\".format(h), \"|\\t\",\"{:e}\".format(GAMMA_value_ik), \" \\t | \" , \"{0:.4f}\".format(Prob_ik), \" \\t |\" , Num_Col_ik, \" \\t | \")\n",
    "    print(\"m_j - m_k\",\"\\t|\\t\",\"{0:.2f}\".format(h), \"|\\t\",\"{:e}\".format(GAMMA_value_jk), \" \\t | \" , \"{0:.4f}\".format(Prob_jk), \" \\t |\" , Num_Col_jk, \" \\t | \")\n",
    "    print(\"\\n\")\n",
    "\n",
    "\n"
   ]
  },
  {
   "cell_type": "code",
   "execution_count": 40,
   "id": "09b9debc",
   "metadata": {},
   "outputs": [
    {
     "data": {
      "image/png": "[encoded data removed]",
      "text/plain": [
       "<Figure size 432x288 with 1 Axes>"
      ]
     },
     "metadata": {
      "needs_background": "light"
     },
     "output_type": "display_data"
    }
   ],
   "source": [
    "pl.plot(r, number_col_array, \"black\")\n",
    "pl.plot(r, number_col_array_ij, \"red\")\n",
    "pl.plot(r, number_col_array_ik, \"green\")\n",
    "pl.plot(r, number_col_array_jk, \"blue\")\n",
    "#pl.axhline(N_i, color=\"orange\", linestyle=\"dashed\")\n",
    "#pl.axhline(N_j, color=\"purple\", linestyle=\"dashed\")\n",
    "#pl.axhline(N_i_2, color=\"orange\", linestyle=\"dashed\")\n",
    "#pl.axhline(N_j_2, color=\"orange\", linestyle=\"dashed\")\n",
    "pl.xscale(\"log\")\n",
    "pl.yscale(\"log\")\n",
    "pl.show()"
   ]
  },
  {
   "cell_type": "code",
   "execution_count": null,
   "id": "1c841bae",
   "metadata": {},
   "outputs": [],
   "source": []
  },
  {
   "cell_type": "code",
   "execution_count": null,
   "id": "2462c4d2",
   "metadata": {},
   "outputs": [],
   "source": []
  }
 ],
 "metadata": {
  "kernelspec": {
   "display_name": "Python 3 (ipykernel)",
   "language": "python",
   "name": "python3"
  },
  "language_info": {
   "codemirror_mode": {
    "name": "ipython",
    "version": 3
   },
   "file_extension": ".py",
   "mimetype": "text/x-python",
   "name": "python",
   "nbconvert_exporter": "python",
   "pygments_lexer": "ipython3",
   "version": "3.8.10"
  }
 },
 "nbformat": 4,
 "nbformat_minor": 5
}
