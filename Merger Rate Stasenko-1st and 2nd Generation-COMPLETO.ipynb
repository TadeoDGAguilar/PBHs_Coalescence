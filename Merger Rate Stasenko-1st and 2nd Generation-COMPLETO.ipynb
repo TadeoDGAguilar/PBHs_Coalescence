{
 "cells": [
  {
   "cell_type": "markdown",
   "id": "38fc868d",
   "metadata": {},
   "source": [
    "### Merger Rate of Black Holes in a Primordial Black Hole Cluster\n",
    "\n",
    "###### Code Writed by Tadeo D.\n",
    "###### Dedicated to the Moon of my life.\n",
    "**References:** [arXiv:2105.14523](https://arxiv.org/pdf/2105.14523.pdf)."
   ]
  },
  {
   "cell_type": "code",
   "execution_count": 1,
   "id": "5aae6648",
   "metadata": {},
   "outputs": [],
   "source": [
    "import numpy as np\n",
    "import matplotlib.pyplot as pl\n",
    "import matplotlib as mpl\n",
    "import math\n",
    "import seaborn as sns\n",
    "from scipy import stats\n",
    "from astropy import constants as const\n",
    "import csv\n",
    "from scipy import constants\n",
    "from scipy.integrate import odeint\n",
    "from tqdm import tqdm\n",
    "from scipy import integrate\n",
    "from scipy.integrate import quad, dblquad\n",
    "from astropy.cosmology import Planck18 as cosmo# WMAP9 as cosmo #\n",
    "import astropy.units as u\n",
    "from sklearn import linear_model\n",
    "from sklearn.linear_model import LinearRegression\n",
    "from sklearn.metrics import mean_squared_error, r2_score\n",
    "from sympy import *\n",
    "from sympy import simplify\n",
    "import pandas as pd"
   ]
  },
  {
   "cell_type": "code",
   "execution_count": 2,
   "id": "0d6c8254",
   "metadata": {},
   "outputs": [],
   "source": [
    "H0 = cosmo.H(0)  #cosmo.H(0)  <Quantity 67.66 km / (Mpc s)>\n",
    "G = const.G\n",
    "c = const.c\n",
    "z_r = 5000 #3450\n",
    "z_eq = 3411\n",
    "z_0 = 0\n",
    "z_init = 6.900e9\n",
    "rho_c0 = (3*(H0**2))/(8*math.pi*G)\n",
    "rho_eq = cosmo.critical_density(3411)\n",
    "rho_crit = cosmo.critical_density(0)\n",
    "Omega_DM = cosmo.Odm(0)\n",
    "Omega_M = cosmo.Om(0)\n",
    "Omega_R = 8.4e-5\n",
    "Omega_lmb = 1-Omega_M - Omega_R\n",
    "result_i=0\n",
    "result_j=0"
   ]
  },
  {
   "cell_type": "markdown",
   "id": "7161fe4d",
   "metadata": {},
   "source": [
    "$$\\rho_{i}(r) = \\rho_{0,i}\\left(\\frac{r}{r_{0}}\\right)^{-1} \\left(1 + \\frac{r^{2}}{r^{2}_{0}}\\right)^{-2}$$"
   ]
  },
  {
   "cell_type": "code",
   "execution_count": 3,
   "id": "288ba2eb",
   "metadata": {},
   "outputs": [
    {
     "name": "stdout",
     "output_type": "stream",
     "text": [
      "Cluster Propierities\n",
      "\n",
      "M =\t 1000000.0 solMass\n",
      "R =\t 0.9 pc\n",
      "m_i =\t 10.0 solMass \t\t N_i =\t 33333.333333333336\n",
      "m_j =\t 30.0 solMass \t\t N_j =\t 22222.222222222226\n",
      "\t\t\t\t N_total =\t 55555.55555555556\n",
      "v_rel =\t 2.2403132345214995e-12 pc / s\n"
     ]
    }
   ],
   "source": [
    "M = 10**6 * u.M_sun#M is the total mass of the cluster\n",
    "R = 0.9*u.parsec #Scale factor that determines the core radius\n",
    "v_rel = (G*M/R)**(1./2.)#The characteristic velocity of the PBHs\n",
    "m_i = 10.*u.M_sun\n",
    "m_j = 30.*u.M_sun\n",
    "#error=1\n",
    "\n",
    "if m_i==m_j:\n",
    "    N_i = M/(2*m_i)\n",
    "    N_j = M/(2*m_j) \n",
    "if m_j>m_i:\n",
    "    zetha = (m_j/m_i)\n",
    "    N_i = (M/(zetha*m_i))\n",
    "    N_j =  N_i - (M/(zetha*m_j))\n",
    "if m_i>m_j:\n",
    "    zetha = (m_i/m_j)\n",
    "    N_j = (M/(zetha*m_j))\n",
    "    N_i = N_j - (M/(zetha*m_i))\n",
    "\n",
    "M_i_t = (N_i*m_i)\n",
    "M_j_t = (N_j*m_j)\n",
    "    \n",
    "print(\"Cluster Propierities\\n\")\n",
    "print(\"M =\\t\", M)\n",
    "print(\"R =\\t\", R)\n",
    "print(\"m_i =\\t\", m_i, \"\\t\\t N_i =\\t\", N_i)\n",
    "print(\"m_j =\\t\", m_j, \"\\t\\t N_j =\\t\", N_j)\n",
    "#print(\"M_t = \", (M_i_t + M_j_t))\n",
    "print(\"\\t\\t\\t\\t N_total =\\t\",N_i + N_j)\n",
    "print(\"v_rel =\\t\", v_rel.to(u.parsec* u.s**(-1)))"
   ]
  },
  {
   "cell_type": "code",
   "execution_count": 4,
   "id": "d291bf03",
   "metadata": {},
   "outputs": [
    {
     "name": "stdout",
     "output_type": "stream",
     "text": [
      "Numbers of PBHs into Cluster by spherical regions\n",
      "Primordial Black holes Masses:\t m_i =  10.0 solMass \t m_j =  30.0 solMass \n",
      "\n",
      "radius \t\t n_pbh_mi(r) \t\t n_pbh_mj(r) \t\t total n_pbh(r)\n",
      "0.10  \t\t  46  \t\t  30  \t\t  76\n",
      "0.20  \t\t  365  \t\t  244  \t\t  609\n",
      "0.30  \t\t  1219  \t\t  813  \t\t  2032\n",
      "0.40  \t\t  2783  \t\t  1855  \t\t  4638\n",
      "0.50  \t\t  4959  \t\t  3306  \t\t  8265\n",
      "0.60  \t\t  7100  \t\t  4733  \t\t  11833\n",
      "0.70  \t\t  7933  \t\t  5289  \t\t  13222\n",
      "0.80  \t\t  6271  \t\t  4180  \t\t  10451\n",
      "0.90  \t\t  2657  \t\t  1772  \t\t  4429\n",
      "\n",
      " Total numbers of PBHs into Cluster =  55555\n"
     ]
    }
   ],
   "source": [
    "interval = 0.1\n",
    "r = np.arange(.1, R.value+interval, interval)\n",
    "N_i_1_array = []\n",
    "N_j_1_array = []\n",
    "#N_total_casc = []\n",
    "def V(radius):\n",
    "    return (4/3)*math.pi*(radius**3.)\n",
    "\n",
    "print(\"Numbers of PBHs into Cluster by spherical regions\")\n",
    "print(\"Primordial Black holes Masses:\\t\", \"m_i = \",m_i,\"\\t m_j = \", m_j, \"\\n\")\n",
    "print(\"radius \\t\\t n_pbh_mi(r) \\t\\t n_pbh_mj(r) \\t\\t total n_pbh(r)\")\n",
    "\n",
    "if m_i==m_j:\n",
    "    for i in r:\n",
    "        i=i*u.parsec\n",
    "        Ni_casc = round(float(N_i*(V(i)/V(R))))\n",
    "        Nj_casc = round(float(N_j*(V(i)/V(R))))\n",
    "        N_i = N_i - Ni_casc\n",
    "        N_j = N_j - Nj_casc\n",
    "        N_i_1_array.append(Ni_casc)\n",
    "        N_j_1_array.append(Nj_casc)\n",
    "        result_i = result_i + Ni_casc\n",
    "        result_j = result_j + Nj_casc\n",
    "        print(\"%.2f\" %i.value,\" \\t\\t \",Ni_casc,\" \\t\\t \",Nj_casc, \" \\t\\t \", Ni_casc + Nj_casc)\n",
    "        #N_total_casc.append(Ni_casc + Nj_casc)\n",
    "    print(\"\\n Total numbers of PBHs into Cluster = \",result_i + result_j)\n",
    "    N_i = M/(2*m_i)\n",
    "    N_j = M/(2*m_j) \n",
    "\n",
    "    \n",
    "if m_j>m_i:\n",
    "    for i in r:\n",
    "        i=i*u.parsec\n",
    "        Ni_casc = round(float(N_i*(V(i)/V(R))))\n",
    "        Nj_casc = round(float(N_j*(V(i)/V(R))))\n",
    "        N_i = N_i - Ni_casc\n",
    "        N_j = N_j - Nj_casc\n",
    "        N_i_1_array.append(Ni_casc)\n",
    "        N_j_1_array.append(Nj_casc)\n",
    "        result_i = result_i + Ni_casc\n",
    "        result_j = result_j + Nj_casc\n",
    "        print(\"%.2f\" %i.value,\" \\t\\t \",Ni_casc,\" \\t\\t \",Nj_casc, \" \\t\\t \", Ni_casc + Nj_casc)\n",
    "        #N_total_casc.append(Ni_casc + Nj_casc)\n",
    "    print(\"\\n Total numbers of PBHs into Cluster = \",result_i + result_j)\n",
    "    zetha = (m_j/m_i)\n",
    "    N_i = (M/(zetha*m_i))\n",
    "    N_j =  N_i - (M/(zetha*m_j))\n",
    "    \n",
    "if m_i>m_j:\n",
    "    for i in r:\n",
    "        i=i*u.parsec\n",
    "        Ni_casc = round(float(N_i*(V(i)/V(R))))\n",
    "        Nj_casc = round(float(N_j*(V(i)/V(R))))\n",
    "        N_i = N_i - Ni_casc\n",
    "        N_j = N_j - Nj_casc\n",
    "        N_i_1_array.append(Ni_casc)\n",
    "        N_j_1_array.append(Nj_casc)\n",
    "        result_i = result_i + Ni_casc\n",
    "        result_j = result_j + Nj_casc\n",
    "        print(\"%.2f\" %i.value,\" \\t\\t \",Ni_casc,\" \\t\\t \",Nj_casc, \" \\t\\t \", Ni_casc + Nj_casc)\n",
    "        #N_total_casc.append(Ni_casc + Nj_casc)\n",
    "    print(\"\\n Total numbers of PBHs into Cluster = \",result_i + result_j)\n",
    "    zetha = (m_i/m_j)\n",
    "    N_j = (M/(zetha*m_j))\n",
    "    N_i = N_j - (M/(zetha*m_i))\n",
    "    \n",
    "result_i=0\n",
    "result_j=0\n",
    "\n",
    "#print(N_i_1_array)"
   ]
  },
  {
   "cell_type": "code",
   "execution_count": 5,
   "id": "05fcbbcb",
   "metadata": {},
   "outputs": [
    {
     "name": "stdout",
     "output_type": "stream",
     "text": [
      "Primordial Black holes Masses:\t m_i =  10.0 solMass \t m_j =  30.0 solMass \n",
      "\n",
      "radius \t\t  Mass_mi(r) \t\t Mass_mj(r)\n",
      "0.10  \t\t  460.00 solMass  \t 900.00 solMass\n",
      "0.20  \t\t  3650.00 solMass  \t 7320.00 solMass\n",
      "0.30  \t\t  12190.00 solMass  \t 24390.00 solMass\n",
      "0.40  \t\t  27830.00 solMass  \t 55650.00 solMass\n",
      "0.50  \t\t  49590.00 solMass  \t 99180.00 solMass\n",
      "0.60  \t\t  71000.00 solMass  \t 141990.00 solMass\n",
      "0.70  \t\t  79330.00 solMass  \t 158670.00 solMass\n",
      "0.80  \t\t  62710.00 solMass  \t 125400.00 solMass\n",
      "0.90  \t\t  26570.00 solMass  \t 53160.00 solMass\n"
     ]
    }
   ],
   "source": [
    "#Masas en cada cascaron (se podría decir que la masa es función del radio)\n",
    "M_i_1_value = []\n",
    "M_j_1_value = []\n",
    "print(\"Primordial Black holes Masses:\\t\", \"m_i = \",m_i,\"\\t m_j = \", m_j, \"\\n\")\n",
    "print(\"radius \\t\\t  Mass_mi(r) \\t\\t Mass_mj(r)\")\n",
    "for h, i, j in zip(r, N_i_1_array, N_j_1_array):\n",
    "    M_i_1 = i*m_i\n",
    "    M_i_1_value.append(M_i_1)\n",
    "    M_j_1 = j*m_j\n",
    "    M_j_1_value.append(M_j_1)\n",
    "    print(\"{0:.2f}\".format(h), \" \\t\\t \",\"{0:.2f}\".format(M_i_1),\" \\t\",\"{0:.2f}\".format(M_j_1))"
   ]
  },
  {
   "cell_type": "code",
   "execution_count": 6,
   "id": "9d9949e5",
   "metadata": {},
   "outputs": [
    {
     "name": "stdout",
     "output_type": "stream",
     "text": [
      "E_i =\t 2.788335215984547e-19 pc2 / s2\n",
      "E_j =\t 1.1153340863938187e-18 pc2 / s2\n"
     ]
    }
   ],
   "source": [
    "Energy_it = G*((m_i*N_i)**(2.))/((2*R)*(1*u.M_sun))#According to the virial theorem, the total energy\n",
    "print(\"E_i =\\t\", Energy_it.to(u.parsec**2.*u.s**(-2.)))\n",
    "\n",
    "Energy_jt = G*((m_j*N_j)**(2.))/((2*R)*(1*u.M_sun))#According to the virial theorem, the total energy\n",
    "print(\"E_j =\\t\", Energy_jt.to(u.parsec**2.*u.s**(-2.)))"
   ]
  },
  {
   "cell_type": "code",
   "execution_count": 7,
   "id": "b75d0796",
   "metadata": {},
   "outputs": [],
   "source": [
    "#Ei_array = []\n",
    "#Ej_array = []\n",
    "#for i, j in zip(N_i_1_array, N_j_1_array):\n",
    "    #Energy_i1 = G*((m_i*i)**(2.))/((2*R)*(1*u.M_sun))#According to the virial theorem, the total energy\n",
    "   # Ei_array.append(Energy_i1.to(u.parsec**2.*u.s**(-2.)))\n",
    "    #print(\"Ei =\\t\", Energy_i1.to(u.parsec**2.*u.s**(-2.)))\n",
    "  #  Energy_j1 = G*((m_j*j)**(2.))/((2*R)*(1*u.M_sun))#According to the virial theorem, the total energy\n",
    " #   Ej_array.append(Energy_j1.to(u.parsec**2.*u.s**(-2.)))\n",
    "    #print(\"Ej =\\t\", Energy_j1.to(u.parsec**2.*u.s**(-2.)))\n",
    "#print(Ei_array,\"\\n\",Ej_array)"
   ]
  },
  {
   "cell_type": "code",
   "execution_count": 8,
   "id": "db750d78",
   "metadata": {},
   "outputs": [
    {
     "data": {
      "text/plain": [
       "[<matplotlib.lines.Line2D at 0x7fa018b6cdc0>]"
      ]
     },
     "execution_count": 8,
     "metadata": {},
     "output_type": "execute_result"
    },
    {
     "data": {
      "image/png": "[encoded data removed]",
      "text/plain": [
       "<Figure size 432x288 with 1 Axes>"
      ]
     },
     "metadata": {
      "needs_background": "light"
     },
     "output_type": "display_data"
    }
   ],
   "source": [
    "pl.plot(r, N_i_1_array,\"--\")\n",
    "pl.plot(r, N_j_1_array, \"-.\")\n",
    "#pl.plot(r, N_total_casc, \"blue\")"
   ]
  },
  {
   "cell_type": "code",
   "execution_count": 9,
   "id": "e8eb2cea",
   "metadata": {},
   "outputs": [
    {
     "name": "stdout",
     "output_type": "stream",
     "text": [
      "2.283691800897856e+32 m(32/7) / s(18/7)\n"
     ]
    }
   ],
   "source": [
    "sigma = 2*math.pi*(85*math.pi/(6*math.sqrt(2)))**(2./7.) * (G**(2.) * (m_i+m_j)**(10./7.) * m_i**(2./7.) * m_j**(2./7.))/(c**(10./7.))\n",
    "sigma = sigma.to(u.m**(32./7)/u.s**(18./7.))#.to(u.parsec**2)\n",
    "print(sigma)\n",
    "#print(sigma)\n",
    "#sigma.to(u.AU**2)\n",
    "#sigma.to(u.parsec**2.)"
   ]
  },
  {
   "cell_type": "code",
   "execution_count": 10,
   "id": "ac72b1fa",
   "metadata": {},
   "outputs": [],
   "source": [
    "def f_i(E_i): ## eq. 19 shapiro\n",
    "    return (24. * (2.)**(1./2.) * N_i * R**2. * E_i**(7./2.))/(7*(math.pi**(3.))*(G**5.)*(M**5.))\n",
    "\n",
    "def f_j(E_j):\n",
    "    return (24. * (2.)**(1./2.) * N_j * R**2. * E_j**(7./2.))/(7*(math.pi**(3.))*(G**5.)*(M**5.))\n",
    "\n",
    "def rho_i(r):## eq. 20\n",
    "    return ((3*M_i_t)/(4*(math.pi)*(R**(3.))))*((1 + r**(2.)/R**(2.))**(-5./2.))\n",
    "\n",
    "def rho_j(r):\n",
    "    return ((3*M_j_t)/(4*(math.pi)*(R**(3.))))*((1 + r**(2.)/R**(2.))**(-5./2.))\n",
    "\n",
    "def phi(r):## eq. 21\n",
    "    return (G*M/R)*((1 + r**(2.)/R**(2.))**(-1./2.))\n",
    "\n",
    "def integrant(E):\n",
    "    return E**(7./2.)*((2*(a - E))**(3./2.))"
   ]
  },
  {
   "cell_type": "code",
   "execution_count": 11,
   "id": "e2edbc34",
   "metadata": {},
   "outputs": [
    {
     "name": "stdout",
     "output_type": "stream",
     "text": [
      "f_i(E_i) \t\t\t\t f_j(E_j)\n",
      "2.9774640455122414e-44 s3 / m6 \t\t 2.5407693188371135e-42 s3 / m6\n"
     ]
    }
   ],
   "source": [
    "print(\"f_i(E_i) \\t\\t\\t\\t f_j(E_j)\")\n",
    "print(f_i(Energy_it).to(u.s**3. / (u.m**6.)),\"\\t\\t\",f_j(Energy_jt).to(u.s**3. / (u.m**6.)))\n",
    "#PH_i(1.*u.parsec)\n",
    "#rho_i(1*u.parsec)"
   ]
  },
  {
   "cell_type": "code",
   "execution_count": 12,
   "id": "1bfe26ed",
   "metadata": {},
   "outputs": [
    {
     "name": "stdout",
     "output_type": "stream",
     "text": [
      "n_i_1 \t\t\t\t\t n_j_1\n",
      "10586.21046317268 1 / pc3 \t\t 7057.47364211512 1 / pc3\n",
      "9676.712554294772 1 / pc3 \t\t 6451.141702863182 1 / pc3\n",
      "8388.202017414505 1 / pc3 \t\t 5592.134678276338 1 / pc3\n",
      "6955.77970643195 1 / pc3 \t\t 4637.1864709546335 1 / pc3\n",
      "5571.992095987925 1 / pc3 \t\t 3714.661397325283 1 / pc3\n",
      "4353.218844343665 1 / pc3 \t\t 2902.14589622911 1 / pc3\n",
      "3345.159068413952 1 / pc3 \t\t 2230.1060456093014 1 / pc3\n",
      "2545.9809470464957 1 / pc3 \t\t 1697.3206313643304 1 / pc3\n",
      "1929.6903209814523 1 / pc3 \t\t 1286.4602139876347 1 / pc3\n"
     ]
    }
   ],
   "source": [
    "def n_i_1(r):\n",
    "    return (rho_i(r)/m_i)\n",
    "\n",
    "def n_j_1(r):\n",
    "    return (rho_j(r)/m_j)\n",
    "\n",
    "print(\"n_i_1 \\t\\t\\t\\t\\t n_j_1\")\n",
    "for h in r:\n",
    "    h=h*u.parsec\n",
    "    print(n_i_1(h),\"\\t\\t\",n_j_1(h))#,\"\\t\",n_i_1(h, M))"
   ]
  },
  {
   "cell_type": "code",
   "execution_count": 13,
   "id": "9335d062",
   "metadata": {},
   "outputs": [
    {
     "name": "stdout",
     "output_type": "stream",
     "text": [
      "vel_i \t\t\t\t vel_j\n",
      "48.73175851802236 km / s \t 48.73175851802236 km / s\n",
      "48.29596133294002 km / s \t 48.29596133294002 km / s\n",
      "47.610738636831556 km / s \t 47.610738636831556 km / s\n",
      "46.72750719163334 km / s \t 46.727507191633336 km / s\n",
      "45.70240770219025 km / s \t 45.70240770219024 km / s\n",
      "44.58811177168943 km / s \t 44.58811177168942 km / s\n",
      "43.428987911655355 km / s \t 43.428987911655355 km / s\n",
      "42.25942134609748 km / s \t 42.259421346097476 km / s\n",
      "41.10425611218507 km / s \t 41.10425611218507 km / s\n"
     ]
    }
   ],
   "source": [
    "alfa = ((4*24*(2**(1/2))*(R**(2.)))/(math.pi*(G**(5.))*(M**(5.))*(2**(17./2.))))\n",
    "\n",
    "def vel_i(r):\n",
    "    return (alfa**(1./2.))*(N_i**(1./2.))*((phi(r)**(3))/(n_i_1(r)**(1./2.)))\n",
    "\n",
    "def vel_j(r):\n",
    "    return (alfa**(1./2.))*(N_j**(1./2.))*((phi(r)**(3))/(n_j_1(r)**(1./2.)))\n",
    "\n",
    "print(\"vel_i \\t\\t\\t\\t vel_j\")\n",
    "for h in r:\n",
    "    h = h*u.parsec\n",
    "    print(vel_i(h).to(u.km/u.s), \"\\t\", vel_j(h).to(u.km/u.s))"
   ]
  },
  {
   "cell_type": "code",
   "execution_count": 14,
   "id": "1d1400d6",
   "metadata": {},
   "outputs": [],
   "source": [
    "betha = (3./(4*math.pi*(R**(3.))))\n",
    "etha = (G*M/R)"
   ]
  },
  {
   "cell_type": "code",
   "execution_count": 15,
   "id": "9e854d09",
   "metadata": {},
   "outputs": [],
   "source": [
    "def GAMMA(r1,r0): #Equation (11)\n",
    "    a=(r1**(2.)/((R.value)**(2.)))\n",
    "    b=(r0**(2.)/(R**(2.)))\n",
    "    return (r1**(2.))*((1.+(a))**(-9./4.))*(1./((1. + a)**(1./4.)) + 1./((1. + b)**(1./4.)))**(3./7.) - abs((1./((1. + a)**(1./4.)) - 1./((1. + b)**(1./4.))))**(3./7.)"
   ]
  },
  {
   "cell_type": "code",
   "execution_count": 16,
   "id": "3e3defab",
   "metadata": {},
   "outputs": [],
   "source": [
    "def r_star(N_ij, Mi):\n",
    "    kappa = (1-((8*24*(2**(1./2.))*N_ij*m_i)/(3*Mi*2**(17./2.))))*(1*u.M_sun)\n",
    "    r_star_quad = (4.*(kappa**(2.))*(Mi*R)**(2.))/((m_i*N_ij)**(4.)) - R**(2.)\n",
    "    r_star_value = (abs(r_star_quad))**(1./2.)\n",
    "    return r_star_value\n",
    "\n",
    "#for i,j in zip(N_i_1_array, M_i_1_value):\n",
    "#    print(r_star(i,j))\n",
    "#r_star(N_i, M_i_t)"
   ]
  },
  {
   "cell_type": "code",
   "execution_count": 17,
   "id": "e96da765",
   "metadata": {},
   "outputs": [
    {
     "name": "stdout",
     "output_type": "stream",
     "text": [
      "Primordial Black holes Masses:\t m_i =  10.0 solMass \t m_j =  30.0 solMass \n",
      "\n",
      "radius \t merger_rate \t\t\t Number_Mergers at Universe's time \t time to the first Merger\n",
      "\n",
      "0.10 \t 1.4410667407719385e-10 1 / yr \t\t 1.9867821867563673 \t\t 6.939303862250879 Gyr\n",
      "0.20 \t 2.7023533652541767e-10 1 / yr \t\t 3.7257035892259283 \t\t 3.700478304790249 Gyr\n",
      "0.30 \t 3.8982347577487144e-10 1 / yr \t\t 5.374451548538913 \t\t 2.565263669696266 Gyr\n",
      "0.40 \t 4.78231930836734e-10 1 / yr \t\t 6.5933287782046905 \t\t 2.0910356158158647 Gyr\n",
      "0.50 \t 5.29097525705802e-10 1 / yr \t\t 7.294606900483025 \t\t 1.890010728487204 Gyr\n",
      "0.60 \t 5.467609807007434e-10 1 / yr \t\t 7.538130928535493 \t\t 1.8289527513802712 Gyr\n",
      "0.70 \t 5.393703223751483e-10 1 / yr \t\t 7.43623676989417 \t\t 1.854013761076884 Gyr\n",
      "0.80 \t 5.150996232602229e-10 1 / yr \t\t 7.1016194249971045 \t\t 1.941372027552058 Gyr\n",
      "0.90 \t 4.807046993185653e-10 1 / yr \t\t 6.627420553642124 \t\t 2.0802792263474323 Gyr\n"
     ]
    }
   ],
   "source": [
    "print(\"Primordial Black holes Masses:\\t\", \"m_i = \",m_i,\"\\t m_j = \", m_j, \"\\n\")\n",
    "print(\"radius \\t merger_rate \\t\\t\\t Number_Mergers at Universe's time \\t time to the first Merger\\n\")\n",
    "\n",
    "colm1 = []\n",
    "colm2 = []\n",
    "colm3 = []\n",
    "colm4 = []\n",
    "\n",
    "for h in r:\n",
    "    r0 = h*u.parsec\n",
    "    colm1.append(\"%.2f\"%r0.value)\n",
    "    I, err = quad(GAMMA, h+interval, 0., args=(r0,))\n",
    "    nash_rubi = (14*math.pi/3.)*sigma*(N_i)*(n_j_1(r0)/vel_j(r0))*(alfa**(-2./7.))*(betha**(9./7.))*(etha**(-12./7.))\n",
    "    #I = I*units\n",
    "    merger = (I*nash_rubi*(u.parsec**(3.))).to(u.yr**(-1))\n",
    "    colm2.append(merger.value)\n",
    "    colm3.append((merger*(cosmo.age(0).to(u.yr))).value)\n",
    "    colm4.append(((merger**(-1.)).to(u.Gyr)).value)\n",
    "    print(\"%.2f\"%r0.value,\"\\t\",merger,\"\\t\\t\", merger*(cosmo.age(0).to(u.yr)),\"\\t\\t\",(merger**(-1.)).to(u.Gyr))#/(cosmo.age(0).to(u.yr)))\n"
   ]
  },
  {
   "cell_type": "code",
   "execution_count": 18,
   "id": "7e7c97e9",
   "metadata": {},
   "outputs": [
    {
     "name": "stdout",
     "output_type": "stream",
     "text": [
      "Minimum time to get 1st Generation: \n",
      " T_merger =  1.8e+08 yr\n"
     ]
    }
   ],
   "source": [
    "for i in colm4:\n",
    "    if i<cosmo.age(0).value:\n",
    "        delta_t_1 = (np.amin(colm4))*u.Gyr\n",
    "        delta_t_1 = round((delta_t_1/10.).to(u.yr).value)\n",
    "    else:\n",
    "        print(\"To get mergers we need age of universe\")\n",
    "            \n",
    "print(\"Minimum time to get 1st Generation: \\n T_merger = \",\"{:.1e}\".format(delta_t_1)*u.yr)"
   ]
  },
  {
   "cell_type": "code",
   "execution_count": 19,
   "id": "df162693",
   "metadata": {},
   "outputs": [
    {
     "name": "stdout",
     "output_type": "stream",
     "text": [
      "Primordial Black holes Masses:\t m_i =  10.0 solMass \t m_j =  30.0 solMass 33333.333333333336 22222.222222222226 \n",
      "\n",
      "Merger_Rate \t\t\t | Probability \t\t | Collision Number \t |\n",
      "----------------------------------------------------------------------------------\n",
      "1.4410667407719385e-10 1 / yr  \t |  0.026356429784683742  \t\t | 5.979097913366496  \t | \n",
      "2.7023533652541767e-10 1 / yr  \t |  0.04942476618853381  \t\t | 34.732185328232454  \t | \n",
      "3.8982347577487144e-10 1 / yr  \t |  0.07129687180330095  \t\t | 106.14030569934282  \t | \n",
      "4.78231930836734e-10 1 / yr  \t |  0.08746636050416544  \t\t | 222.62798582164493  \t | \n",
      "5.29097525705802e-10 1 / yr  \t |  0.09676943746578222  \t\t | 367.0292372709364  \t | \n",
      "5.467609807007434e-10 1 / yr  \t |  0.09999999992453215  \t\t | 514.2408553765478  \t | \n",
      "5.393703223751483e-10 1 / yr  \t |  0.0986482834376414  \t\t | 642.828282886017  \t | \n",
      "5.150996232602229e-10 1 / yr  \t |  0.09420928724857486  \t\t | 740.1780651579849  \t | \n",
      "4.807046993185653e-10 1 / yr  \t |  0.08791861817566131  \t\t | 802.3252822112803  \t | \n"
     ]
    }
   ],
   "source": [
    "number_col_array = []\n",
    "prob_array = []\n",
    "print(\"Primordial Black holes Masses:\\t\", \"m_i = \",m_i,\"\\t m_j = \", m_j,N_i,N_j,  \"\\n\")\n",
    "print(\"Merger_Rate \\t\\t\\t | Probability \\t\\t | Collision Number \\t |\")\n",
    "print(\"----------------------------------------------------------------------------------\")\n",
    "\n",
    "def integrand_n_i(r1):\n",
    "    a=(r1**(2.)/((R.value)**(2.)))\n",
    "    return (R.value**(2.))*((1 + a)**(-5./2.))\n",
    "\n",
    "def integrand_n_i_b(r1):\n",
    "    a=(r1**(2.)/((R.value)**(2.)))\n",
    "    return (r1**(2.))*((1 + a)**(-5./2.))\n",
    "\n",
    "#for h in r:\n",
    "#    I, err = quad(integrand_n_i, 0 , h+interval)\n",
    "#    resultado = betha*N_i*I\n",
    "#    print(resultado*u.parsec**3.)\n",
    "    \n",
    "#for h in r:\n",
    "#    I, err = quad(integrand_n_i_b, 0 , h+interval)\n",
    "#    resultado = 3*N_i*(R**(-3.))*I\n",
    "#    print(resultado*u.parsec**3.)\n",
    "\n",
    "for h,i in zip(colm2, r):\n",
    "    GAMMA_value = h*(1/u.yr)\n",
    "    Prob = GAMMA_value*(delta_t_1*u.yr) #integration dt\n",
    "    prob_array.append(Prob)\n",
    "    #I, err = quad(integrand_n_i, 0 , i+interval)\n",
    "    #N_j_r = betha*N_j*I*u.parsec**3.\n",
    "    I, err = quad(integrand_n_i_b, 0 , i+interval)\n",
    "    N_j_r = 3*N_j*(R**(-3.))*I*u.parsec**3.\n",
    "    Num_Col = N_j_r*Prob #numero de choques\n",
    "    #Num_Col = N_j*Prob\n",
    "    number_col_array.append(Num_Col)\n",
    "    print(GAMMA_value, \" \\t | \" , Prob, \" \\t\\t |\" , Num_Col, \" \\t | \")"
   ]
  },
  {
   "cell_type": "markdown",
   "id": "1b9ca70a",
   "metadata": {},
   "source": [
    "## SECOND GENERATION"
   ]
  },
  {
   "cell_type": "code",
   "execution_count": 20,
   "id": "8ead3de6",
   "metadata": {},
   "outputs": [
    {
     "name": "stdout",
     "output_type": "stream",
     "text": [
      "PBHs with mass:  m_i =  10.0 solMass  \t m_j =  30.0 solMass \t m_k =  40.0 solMass \n",
      "\n",
      "N_k = \t  3436.0 PBHs with  40.0 solMass \n",
      "\n",
      "\n",
      "Total Numbers PBHs for species 2nd Generation with 10.0 solMass\n",
      "N_i_2 \t\t\t N_j_2\n",
      "29897.333333333336 \t\t 18786.222222222226\n"
     ]
    }
   ],
   "source": [
    "Ni_2_values = []\n",
    "Nj_2_values = []\n",
    "N_k_values = []\n",
    "m_k = m_i + m_j\n",
    "N_k_tot = 0.\n",
    "print(\"PBHs with mass:  m_i = \", m_i,\" \\t m_j = \", m_j, \"\\t m_k = \", m_k,\"\\n\")# \\t  Number_pbhs at cluster\")\n",
    "for h in number_col_array:\n",
    "    number_binaries = round(float(h))#Nuevos Agujeros Negros\n",
    "    N_k_tot = N_k_tot + number_binaries\n",
    "print(\"N_k = \\t \",N_k_tot, \"PBHs with \", m_k,\"\\n\\n\")\n",
    "N_i_2 = N_i - N_k_tot\n",
    "N_j_2 = N_j - N_k_tot\n",
    "print(\"Total Numbers PBHs for species 2nd Generation with\", m_i)\n",
    "print(\"N_i_2 \\t\\t\\t N_j_2\")\n",
    "print(N_i_2,\"\\t\\t\",N_j_2)\n",
    "M_i_2 = (N_i_2*m_i)\n",
    "M_j_2 = (N_j_2*m_j)\n",
    "M_k = N_k_tot*m_k\n",
    "#print(M_i_2, M_j_2, M_k)\n",
    "#print(M- (M_i_2 + M_j_2 + M_k))"
   ]
  },
  {
   "cell_type": "code",
   "execution_count": 21,
   "id": "2c54997b",
   "metadata": {},
   "outputs": [
    {
     "name": "stdout",
     "output_type": "stream",
     "text": [
      "M =\t 1000000.0 solMass\n",
      "R =\t 0.9 pc\n",
      "v_rel =\t 2.2403132345214995e-12 pc / s\n",
      "m_i_2 =\t 10.0 solMass\n",
      "m_j_2 =\t 30.0 solMass\n",
      "m_k = \t 40.0 solMass\n",
      "\n",
      "\n"
     ]
    }
   ],
   "source": [
    "#Ei_2_array = []\n",
    "#Ej_2_array = []\n",
    "#Ek_array=[]\n",
    "#for i,j,k in zip (Ni_2_values, Nj_2_values, N_k_values):\n",
    "#    Energy_mi2 = G*(m_i*i)**(2.)/((2*R)*(1*u.M_sun)) #According to the virial theorem, the total energy\n",
    "#    Energy_mj2 = G*((m_j)*j)**(2.)/((2*R)*(1*u.M_sun)) #According to the virial theorem, the total energy\n",
    "#    Energy_mk = G*((m_k)*k)**(2.)/((2*R)*(1*u.M_sun)) #According to the virial theorem, the total energy\n",
    "#   Ei_2_array.append(Energy_mi2.to(u.parsec**2.*u.s**(-2.)))\n",
    "#   Ej_2_array.append(Energy_mj2.to(u.parsec**2.*u.s**(-2.)))\n",
    "#Ek_array.append(Energy_mk.to(u.parsec**2.*u.s**(-2.)))\n",
    "print(\"M =\\t\", M)\n",
    "print(\"R =\\t\", R)\n",
    "print(\"v_rel =\\t\", v_rel.to(u.parsec* u.s**(-1)))\n",
    "print(\"m_i_2 =\\t\", m_i)\n",
    "print(\"m_j_2 =\\t\", m_j)\n",
    "print(\"m_k = \\t\", m_k)\n",
    "#print(\"E =\\t\", Energy.to(u.parsec**2.*u.s**(-2.)))\n",
    "#print(\"Energy to m_i = \\t\", Energy_mi.to(u.parsec**2.*u.s**(-2.)))\n",
    "#print(\"Energy to m_j_2 = \\t\", Energy_mj2.to(u.parsec**2.*u.s**(-2.)))\n",
    "print(\"\\n\")\n",
    "#print(Ei_2_array,\"\\n\",Ej_2_array,\"\\n\",Ek_array)"
   ]
  },
  {
   "cell_type": "code",
   "execution_count": 22,
   "id": "dab75b53",
   "metadata": {},
   "outputs": [],
   "source": [
    "#print(\"M_i \\t\\t\\t M_j \\t\\t\\t M_k\")# \\t\\t\\t  vel_rel_i \\t\\t\\t  vel_rel_j\")\n",
    "#Mi_array = []\n",
    "#Mj_array = []\n",
    "#Mk_array = []\n",
    "#for i,j,k in zip(Ni_2_values, Nj_2_values, N_k_values):\n",
    "#    Mi = i*u.M_sun\n",
    "#    Mj = j*u.M_sun\n",
    "#    Mk = k*u.M_sun\n",
    "#    Mi_array.append(Mi)\n",
    "#    Mj_array.append(Mj)\n",
    "#    Mk_\n",
    "#    print(Mi,\"\\t\\t\",Mj,\"\\t \")#, v_ri.to(u.km/u.s),\" \\t \",v_rj.to(u.km/u.s))"
   ]
  },
  {
   "cell_type": "code",
   "execution_count": 23,
   "id": "8822a1c9",
   "metadata": {},
   "outputs": [
    {
     "name": "stdout",
     "output_type": "stream",
     "text": [
      "10.0 solMass 30.0 solMass 40.0 solMass \n",
      "\n",
      "1.82877167704502e-24 pc(32/7) / yr(18/7)\n",
      "2.730858166433343e-24 pc(32/7) / yr(18/7)\n",
      "2.730858166433343e-24 pc(32/7) / yr(18/7)\n"
     ]
    }
   ],
   "source": [
    "print(m_i, m_j, m_k, \"\\n\")\n",
    "\n",
    "sigma_2_ij = 2*math.pi*(85*math.pi/(6*math.sqrt(2)))**(2./7.) * (G**(2.) * (m_i+m_j)**(10./7.) * m_i**(2./7.) * m_j**(2./7.))/(c**(10./7.))\n",
    "sigma_2_ij = sigma_2_ij.to(u.parsec**(32./7)/u.yr**(18./7.))#.to(u.parsec**2)\n",
    "#print(m_i, m_j_2)\n",
    "print(sigma_2_ij)\n",
    "\n",
    "sigma_2_ik = 2*math.pi*(85*math.pi/(6*math.sqrt(2)))**(2./7.) * (G**(2.) * (m_i+m_k)**(10./7.) * m_i**(2./7.) * m_k**(2./7.))/(c**(10./7.))\n",
    "sigma_2_ik = sigma_2_ik.to(u.parsec**(32./7)/u.yr**(18./7.))#.to(u.parsec**2)\n",
    "#print(m_i, m_j_2)\n",
    "print(sigma_2_ik)\n",
    "\n",
    "sigma_2_jk = 2*math.pi*(85*math.pi/(6*math.sqrt(2)))**(2./7.) * (G**(2.) * (m_i+m_k)**(10./7.) * m_i**(2./7.) * m_k**(2./7.))/(c**(10./7.))\n",
    "sigma_2_jk = sigma_2_jk.to(u.parsec**(32./7)/u.yr**(18./7.))#.to(u.parsec**2)\n",
    "#print(m_i, m_j_2)\n",
    "print(sigma_2_jk)\n",
    "\n"
   ]
  },
  {
   "cell_type": "code",
   "execution_count": 24,
   "id": "17dec4ea",
   "metadata": {},
   "outputs": [],
   "source": [
    "def f_i2(E): ## eq. 19 shapiro\n",
    "    return (24. * (2.)**(1./2.) * Ni_2 * R**2. * E**(7./2.))/(7*(math.pi**(3.))*(G**5.)*(M**5.))\n",
    "\n",
    "def f_j2(E):\n",
    "    return (24. * (2.)**(1./2.) * Nj_2 * R**2. * E**(7./2.))/(7*(math.pi**(3.))*(G**5.)*(M**5.))\n",
    "\n",
    "def f_k(E):\n",
    "    return (24. * (2.)**(1./2.) * N_k_tot * R**2. * E**(7./2.))/(7*(math.pi**(3.))*(G**5.)*(M**5.))\n",
    "\n",
    "def rho_i2(r):## eq. 20\n",
    "    return ((3*M_i_2)/(4*(math.pi)*(R**(3.))))*((1 + r**(2.)/R**(2.))**(-5./2.))\n",
    "\n",
    "def rho_j2(r):\n",
    "    return ((3*M_j_2)/(4*(math.pi)*(R**(3.))))*((1 + r**(2.)/R**(2.))**(-5./2.))\n",
    "\n",
    "def rho_k(r):\n",
    "    return ((3*M_k)/(4*(math.pi)*(R**(3.))))*((1 + r**(2.)/R**(2.))**(-5./2.))\n",
    "\n",
    "def phi(r):## eq. 21\n",
    "    return (G*M/R)*((1 + r**(2.)/R**(2.))**(-1./2.))\n",
    "\n",
    "#def integrant(E):\n",
    "#    return E**(7./2.)*((2*(a - E))**(3./2.))"
   ]
  },
  {
   "cell_type": "code",
   "execution_count": 25,
   "id": "e73580af",
   "metadata": {},
   "outputs": [],
   "source": [
    "#print(\"N_i \\t\\t f_i2 \\t\\t\\t\\t\\t\\t N_j \\t\\t f_j2\")\n",
    "#for h,i,j,k,l in zip (r, Ni_2_values, Nj_2_values, Ei_2_array, Ej_2_array):\n",
    "#    h = h*u.parsec\n",
    "#    print(i,\"\\t\",f_i2(k, i).to(u.s**3./(u.m**6.)),\" \\t\\t \",j,\"\\t\",f_j2(l, j).to(u.s**3./(u.m**6.)))\n",
    "#print(\"\\n\")\n",
    "#print(\"M_i \\t\\t\\t rho_i2 \\t\\t\\t\\t M_j \\t\\t\\t  rho_j2\")\n",
    "#for h,k,l in zip (r, Mi_array, Mj_array):\n",
    "#    h = h*u.parsec\n",
    "#    print(k,\"\\t\",rho_i2(h,k),\"\\t\",l,\"\\t\",rho_j2(h,l))"
   ]
  },
  {
   "cell_type": "code",
   "execution_count": 26,
   "id": "b12e3248",
   "metadata": {},
   "outputs": [],
   "source": [
    "def n_i_2(r):\n",
    "    return (rho_i2(r)/m_i)\n",
    "\n",
    "def n_j_2(r):\n",
    "    return (rho_j2(r)/m_j)\n",
    "\n",
    "def n_k(r):\n",
    "    return (rho_k(r)/m_k)\n",
    "    "
   ]
  },
  {
   "cell_type": "code",
   "execution_count": 27,
   "id": "f4b8d90b",
   "metadata": {},
   "outputs": [],
   "source": [
    "alfa_2 = ((4*24*(2**(1/2))*(R**(2.)))/(math.pi*(G**(5.))*(M**(5.))*(2**(17./2.))))\n",
    "\n",
    "def vel_i2(r):\n",
    "    return (alfa_2**(1./2.))*(N_i_2**(1./2.))*((phi(r)**(3))/(n_i_2(r)**(1./2.)))\n",
    "\n",
    "def vel_j2(r):\n",
    "    return (alfa_2**(1./2.))*(N_j_2**(1./2.))*((phi(r)**(3))/(n_j_2(r)**(1./2.)))\n",
    "\n",
    "def vel_k(r):\n",
    "    return (alfa_2**(1./2.))*(N_k_tot**(1./2.))*((phi(r)**(3))/(n_k(r)**(1./2.)))\n",
    "\n",
    "\n",
    "#for h,i,j,k,l in zip(r, Ni_2_values, Nj_2_values, Mi_array, Mj_array):\n",
    "#    h = h*u.parsec\n",
    "#    print(vel_i2(h,i,k).to(u.km/u.s), \"\\t\",vel_j2(h,j,l).to(u.km/u.s))\n",
    "\n",
    "#print(\"\\n\")\n",
    "#for h in r:\n",
    "    #h = h*u.parsec\n",
    "    #print(\"r = \",\"%.2f\"%h.value)\n",
    "    #print(\"vel_rel = \")\n",
    "    #for i,j,k,l in zip(Ni_2_values, Nj_2_values, Mi_array, Mj_array):\n",
    "    #    print(vel_i2(h,i,k).to(u.km/u.s), \"\\t\", vel_j2(h,j,l).to(u.km/u.s))"
   ]
  },
  {
   "cell_type": "code",
   "execution_count": 28,
   "id": "e77539cf",
   "metadata": {},
   "outputs": [],
   "source": [
    "#CONSTANTS SECOND GENERATION\n",
    "betha_2 = (3./(4*math.pi*(R**(3.))))\n",
    "etha_2 = (G*M/R)\n",
    "#zetha2 = alfa**(-1./2.) * betha**(3./2.) * etha**(-3.) * alfa**(3./14.) * etha**(9./7.) * betha**(-3./14.)\n",
    "#print(zetha)"
   ]
  },
  {
   "cell_type": "code",
   "execution_count": 29,
   "id": "8ea22a09",
   "metadata": {},
   "outputs": [
    {
     "name": "stdout",
     "output_type": "stream",
     "text": [
      "Black holes Masses:\t 10.0 solMass 30.0 solMass \n",
      "\n",
      "radius \t merger_rate \t\t\t Number_Mergers at Universe's time \t time to the first Merger\n",
      "\n",
      "0.10 \t 1.0926718942583749e-10 1 / yr \t\t 1.5064542078869896 \t\t 9.151878118716748 Gyr\n",
      "0.20 \t 2.0490276314239628e-10 1 / yr \t\t 2.82497089350908 \t\t 4.880363664520495 Gyr\n",
      "0.30 \t 2.95579062128062e-10 1 / yr \t\t 4.075114627235193 \t\t 3.3831895696547747 Gyr\n",
      "0.40 \t 3.626137325758407e-10 1 / yr \t\t 4.999313939956737 \t\t 2.7577554575676473 Gyr\n",
      "0.50 \t 4.011819711769146e-10 1 / yr \t\t 5.531049821850286 \t\t 2.492634444829069 Gyr\n",
      "0.60 \t 4.1457507802089856e-10 1 / yr \t\t 5.715699049745854 \t\t 2.4121083321597796 Gyr\n",
      "0.70 \t 4.0897119833652035e-10 1 / yr \t\t 5.63843900329107 \t\t 2.4451599625290825 Gyr\n",
      "0.80 \t 3.9056822640846476e-10 1 / yr \t\t 5.384719340102863 \t\t 2.5603721254943514 Gyr\n",
      "0.90 \t 3.644886801717154e-10 1 / yr \t\t 5.02516362740834 \t\t 2.743569428627761 Gyr\n"
     ]
    }
   ],
   "source": [
    "def GAMMA_2(r1,r0): #Equation (11)\n",
    "    a=(r1**(2.)/((R.value)**(2.)))\n",
    "    b=(r0**(2.)/(R**(2.)))\n",
    "    return (r1**(2.))*((1.+(a))**(-9./4.))*(1./((1. + a)**(1./4.)) + 1./((1. + b)**(1./4.)))**(3./7.) - abs((1./((1. + a)**(1./4.)) - 1./((1. + b)**(1./4.))))**(3./7.)\n",
    "\n",
    "\n",
    "\n",
    "colm1_2gnd_ij = []\n",
    "colm2_2gnd_ij = []\n",
    "colm3_2gnd_ij = []\n",
    "colm4_2gnd_ij = []\n",
    "print(\"Black holes Masses:\\t\", m_i, m_j, \"\\n\")\n",
    "print(\"radius \\t merger_rate \\t\\t\\t Number_Mergers at Universe's time \\t time to the first Merger\\n\")\n",
    "\n",
    "for h in r :\n",
    "    r0 = h*u.parsec\n",
    "    colm1_2gnd_ij.append(\"%.2f\"%r0.value)\n",
    "    I, err = quad(GAMMA_2, h+interval, 0., args=(r0,))\n",
    "    nash_rubi = (14*math.pi/3.)*sigma_2_ij*(N_i_2)*(n_j_2(r0)/vel_j2(r0))*(alfa_2**(-2./7.))*(betha_2**(9./7.))*(etha_2**(-12./7.))\n",
    "    #I = I*units\n",
    "    merger2 = (I*nash_rubi*(u.parsec**(3.))).to(u.yr**(-1))\n",
    "    colm2_2gnd_ij.append(merger2.value)\n",
    "    colm3_2gnd_ij.append((merger2*(cosmo.age(0).to(u.yr))).value)\n",
    "    colm4_2gnd_ij.append(((merger2**(-1.)).to(u.Gyr)).value)\n",
    "    #print(\"%.2f\"%r0.value,\"\\t\",merger*u.parsec**(3))\n",
    "    print(\"%.2f\"%r0.value,\"\\t\",merger2,\"\\t\\t\", merger2*(cosmo.age(0).to(u.yr)),\"\\t\\t\",(merger2**(-1.)).to(u.Gyr))#/(cosmo.age(0).to(u.yr)))"
   ]
  },
  {
   "cell_type": "code",
   "execution_count": 30,
   "id": "c0dd200d",
   "metadata": {},
   "outputs": [
    {
     "name": "stdout",
     "output_type": "stream",
     "text": [
      "m_i and m_k\n",
      "Black holes Masses:\t 10.0 solMass 40.0 solMass \n",
      "\n",
      "radius \t merger_rate \t\t\t Number_Mergers at Universe's time \t time to the first Merger\n",
      "\n",
      "0.10 \t 2.9843044722952356e-11 1 / yr \t\t 0.4114426346580902 \t\t 33.50864529016698 Gyr\n",
      "0.20 \t 5.596302381755142e-11 1 / yr \t\t 0.7715557905262189 \t\t 17.868941522176552 Gyr\n",
      "0.30 \t 8.072852625392273e-11 1 / yr \t\t 1.112994932063112 \t\t 12.387195040011132 Gyr\n",
      "0.40 \t 9.90370292791537e-11 1 / yr \t\t 1.3654121633234693 \t\t 10.097233401269742 Gyr\n",
      "0.50 \t 1.0957078305744181e-10 1 / yr \t\t 1.5106398184643388 \t\t 9.126520520308377 Gyr\n",
      "0.60 \t 1.1322870716644963e-10 1 / yr \t\t 1.5610711985986858 \t\t 8.831682574366672 Gyr\n",
      "0.70 \t 1.1169817606263236e-10 1 / yr \t\t 1.5399699418191988 \t\t 8.952697664814789 Gyr\n",
      "0.80 \t 1.0667195806279119e-10 1 / yr \t\t 1.4706740507524918 \t\t 9.37453495895671 Gyr\n",
      "0.90 \t 9.954911479403603e-11 1 / yr \t\t 1.3724722275819725 \t\t 10.045292738855274 Gyr\n"
     ]
    }
   ],
   "source": [
    "def GAMMA_2(r1,r0): #Equation (11)\n",
    "    a=(r1**(2.)/((R.value)**(2.)))\n",
    "    b=(r0**(2.)/(R**(2.)))\n",
    "    return (r1**(2.))*((1.+(a))**(-9./4.))*(1./((1. + a)**(1./4.)) + 1./((1. + b)**(1./4.)))**(3./7.) - abs((1./((1. + a)**(1./4.)) - 1./((1. + b)**(1./4.))))**(3./7.)\n",
    "\n",
    "\n",
    "\n",
    "colm1_2gnd_ik = []\n",
    "colm2_2gnd_ik = []\n",
    "colm3_2gnd_ik = []\n",
    "colm4_2gnd_ik = []\n",
    "print(\"m_i and m_k\")\n",
    "print(\"Black holes Masses:\\t\", m_i, m_k, \"\\n\")\n",
    "print(\"radius \\t merger_rate \\t\\t\\t Number_Mergers at Universe's time \\t time to the first Merger\\n\")\n",
    "\n",
    "for h in r :\n",
    "    r0 = h*u.parsec\n",
    "    colm1_2gnd_ik.append(\"%.2f\"%r0.value)\n",
    "    I, err = quad(GAMMA_2, h+interval, 0., args=(r0,))\n",
    "    nash_rubi = (14*math.pi/3.)*sigma_2_ik*(N_i_2)*(n_k(r0)/vel_k(r0))*(alfa_2**(-2./7.))*(betha_2**(9./7.))*(etha_2**(-12./7.))\n",
    "    #I = I*units\n",
    "    merger2 = (I*nash_rubi*(u.parsec**(3.))).to(u.yr**(-1))\n",
    "    colm2_2gnd_ik.append(merger2.value)\n",
    "    colm3_2gnd_ik.append((merger2*(cosmo.age(0).to(u.yr))).value)\n",
    "    colm4_2gnd_ik.append(((merger2**(-1.)).to(u.Gyr)).value)\n",
    "    #print(\"%.2f\"%r0.value,\"\\t\",merger*u.parsec**(3))\n",
    "    print(\"%.2f\"%r0.value,\"\\t\",merger2,\"\\t\\t\", merger2*(cosmo.age(0).to(u.yr)),\"\\t\\t\",(merger2**(-1.)).to(u.Gyr))#/(cosmo.age(0).to(u.yr)))"
   ]
  },
  {
   "cell_type": "code",
   "execution_count": 31,
   "id": "2e304513",
   "metadata": {},
   "outputs": [
    {
     "name": "stdout",
     "output_type": "stream",
     "text": [
      "m_j and m_k\n",
      "Black holes Masses:\t 30.0 solMass 40.0 solMass \n",
      "\n",
      "radius \t merger_rate \t\t\t Number_Mergers at Universe's time \t time to the first Merger\n",
      "\n",
      "0.10 \t 1.8752109551122705e-11 1 / yr \t\t 0.2585331835520495 \t\t 53.32733350739886 Gyr\n",
      "0.20 \t 3.516480182170215e-11 1 / yr \t\t 0.48481308938370954 \t\t 28.437526964330697 Gyr\n",
      "0.30 \t 5.0726398136244916e-11 1 / yr \t\t 0.6993590328884877 \t\t 19.713601531772905 Gyr\n",
      "0.40 \t 6.223068858761909e-11 1 / yr \t\t 0.8579673658225889 \t\t 16.06924208450671 Gyr\n",
      "0.50 \t 6.884965480466496e-11 1 / yr \t\t 0.9492222938748774 \t\t 14.524401071249008 Gyr\n",
      "0.60 \t 7.114813990424504e-11 1 / yr \t\t 0.9809112443111663 \t\t 14.055181222528846 Gyr\n",
      "0.70 \t 7.018641876631742e-11 1 / yr \t\t 0.96765210529004 \t\t 14.247770688079354 Gyr\n",
      "0.80 \t 6.70281555449928e-11 1 / yr \t\t 0.9241094925040817 \t\t 14.91910364934252 Gyr\n",
      "0.90 \t 6.255246150870549e-11 1 / yr \t\t 0.8624036121788997 \t\t 15.986581117368644 Gyr\n"
     ]
    }
   ],
   "source": [
    "def GAMMA_2(r1,r0): #Equation (11)\n",
    "    a=(r1**(2.)/((R.value)**(2.)))\n",
    "    b=(r0**(2.)/(R**(2.)))\n",
    "    return (r1**(2.))*((1.+(a))**(-9./4.))*(1./((1. + a)**(1./4.)) + 1./((1. + b)**(1./4.)))**(3./7.) - abs((1./((1. + a)**(1./4.)) - 1./((1. + b)**(1./4.))))**(3./7.)\n",
    "\n",
    "\n",
    "\n",
    "colm1_2gnd_jk = []\n",
    "colm2_2gnd_jk = []\n",
    "colm3_2gnd_jk = []\n",
    "colm4_2gnd_jk = []\n",
    "print(\"m_j and m_k\")\n",
    "print(\"Black holes Masses:\\t\", m_j, m_k, \"\\n\")\n",
    "print(\"radius \\t merger_rate \\t\\t\\t Number_Mergers at Universe's time \\t time to the first Merger\\n\")\n",
    "\n",
    "for h in r :\n",
    "    r0 = h*u.parsec\n",
    "    colm1_2gnd_jk.append(\"%.2f\"%r0.value)\n",
    "    I, err = quad(GAMMA_2, h+interval, 0., args=(r0,))\n",
    "    nash_rubi = (14*math.pi/3.)*sigma_2_jk*(N_j_2)*(n_k(r0)/vel_k(r0))*(alfa_2**(-2./7.))*(betha_2**(9./7.))*(etha_2**(-12./7.))\n",
    "    #I = I*units\n",
    "    merger2 = (I*nash_rubi*(u.parsec**(3.))).to(u.yr**(-1))\n",
    "    colm2_2gnd_jk.append(merger2.value)\n",
    "    colm3_2gnd_jk.append((merger2*(cosmo.age(0).to(u.yr))).value)\n",
    "    colm4_2gnd_jk.append(((merger2**(-1.)).to(u.Gyr)).value)\n",
    "    #print(\"%.2f\"%r0.value,\"\\t\",merger*u.parsec**(3))\n",
    "    print(\"%.2f\"%r0.value,\"\\t\",merger2,\"\\t\\t\", merger2*(cosmo.age(0).to(u.yr)),\"\\t\\t\",(merger2**(-1.)).to(u.Gyr))#/(cosmo.age(0).to(u.yr)))"
   ]
  },
  {
   "cell_type": "code",
   "execution_count": 32,
   "id": "1b452408",
   "metadata": {},
   "outputs": [
    {
     "name": "stdout",
     "output_type": "stream",
     "text": [
      "1.4e+09 yr\n",
      "Primordial Black holes Masses:\t m_i =  10.0 solMass \t m_j =  30.0 solMass \t m_j =  40.0 solMass \n",
      "\n",
      "Merger_species \t| radius      | Merger_Rate \t\t | Probability \t | Collision Number\n",
      "----------------------------------------------------------------------------------\n",
      "m_i - m_j \t|\t 0.10 |\t 1.092672e-10 1 / yr  \t |  0.1486  \t | 45.36805169301961  \t | \n",
      "m_i - m_k \t|\t 0.10 |\t 2.984304e-11 1 / yr  \t |  0.0406  \t | 12.390918104349524  \t | \n",
      "m_j - m_k \t|\t 0.10 |\t 1.875211e-11 1 / yr  \t |  0.0255  \t | 4.892349674559904  \t | \n",
      "\n",
      "\n",
      "m_i - m_j \t|\t 0.20 |\t 2.049028e-10 1 / yr  \t |  0.2787  \t | 263.5400192828722  \t | \n",
      "m_i - m_k \t|\t 0.20 |\t 5.596302e-11 1 / yr  \t |  0.0761  \t | 71.97802581976865  \t | \n",
      "m_j - m_k \t|\t 0.20 |\t 3.516480e-11 1 / yr  \t |  0.0478  \t | 28.419336503499203  \t | \n",
      "\n",
      "\n",
      "m_i - m_j \t|\t 0.30 |\t 2.955791e-10 1 / yr  \t |  0.4021  \t | 805.3687939974579  \t | \n",
      "m_i - m_k \t|\t 0.30 |\t 8.072853e-11 1 / yr  \t |  0.1098  \t | 219.96225091933292  \t | \n",
      "m_j - m_k \t|\t 0.30 |\t 5.072640e-11 1 / yr  \t |  0.0690  \t | 86.84846737247925  \t | \n",
      "\n",
      "\n",
      "m_i - m_j \t|\t 0.40 |\t 3.626137e-10 1 / yr  \t |  0.4933  \t | 1689.2511404588065  \t | \n",
      "m_i - m_k \t|\t 0.40 |\t 9.903703e-11 1 / yr  \t |  0.1347  \t | 461.3681160640326  \t | \n",
      "m_j - m_k \t|\t 0.40 |\t 6.223069e-11 1 / yr  \t |  0.0847  \t | 182.16359219466244  \t | \n",
      "\n",
      "\n",
      "m_i - m_j \t|\t 0.50 |\t 4.011820e-10 1 / yr  \t |  0.5458  \t | 2784.9353950422164  \t | \n",
      "m_i - m_k \t|\t 0.50 |\t 1.095708e-10 1 / yr  \t |  0.1491  \t | 760.6212988683798  \t | \n",
      "m_j - m_k \t|\t 0.50 |\t 6.884965e-11 1 / yr  \t |  0.0937  \t | 300.3187764331849  \t | \n",
      "\n",
      "\n",
      "m_i - m_j \t|\t 0.60 |\t 4.145751e-10 1 / yr  \t |  0.5640  \t | 3901.944080432357  \t | \n",
      "m_i - m_k \t|\t 0.60 |\t 1.132287e-10 1 / yr  \t |  0.1540  \t | 1065.6986082527262  \t | \n",
      "m_j - m_k \t|\t 0.60 |\t 7.114814e-11 1 / yr  \t |  0.0968  \t | 420.7735210060022  \t | \n",
      "\n",
      "\n",
      "m_i - m_j \t|\t 0.70 |\t 4.089712e-10 1 / yr  \t |  0.5564  \t | 4877.636591719118  \t | \n",
      "m_i - m_k \t|\t 0.70 |\t 1.116982e-10 1 / yr  \t |  0.1520  \t | 1332.1796571676289  \t | \n",
      "m_j - m_k \t|\t 0.70 |\t 7.018642e-11 1 / yr  \t |  0.0955  \t | 525.9891686243628  \t | \n",
      "\n",
      "\n",
      "m_i - m_j \t|\t 0.80 |\t 3.905682e-10 1 / yr  \t |  0.5313  \t | 5616.304868842569  \t | \n",
      "m_i - m_k \t|\t 0.80 |\t 1.066720e-10 1 / yr  \t |  0.1451  \t | 1533.9246690550558  \t | \n",
      "m_j - m_k \t|\t 0.80 |\t 6.702816e-11 1 / yr  \t |  0.0912  \t | 605.6448595860418  \t | \n",
      "\n",
      "\n",
      "m_i - m_j \t|\t 0.90 |\t 3.644887e-10 1 / yr  \t |  0.4959  \t | 6087.863989750782  \t | \n",
      "m_i - m_k \t|\t 0.90 |\t 9.954911e-11 1 / yr  \t |  0.1354  \t | 1662.7168527721208  \t | \n",
      "m_j - m_k \t|\t 0.90 |\t 6.255246e-11 1 / yr  \t |  0.0851  \t | 656.4963294115798  \t | \n",
      "\n",
      "\n"
     ]
    }
   ],
   "source": [
    "number_col_array_ij = []\n",
    "number_col_array_ik = []\n",
    "number_col_array_jk = []\n",
    "prob_array_ij = []\n",
    "prob_array_ik = []\n",
    "prob_array_jk = []\n",
    "\n",
    "delta_t_2 = (cosmo.age(0).to(u.yr)-(delta_t_1*u.yr))/10.\n",
    "print(\"{:.1e}\".format(delta_t_2))\n",
    "print(\"Primordial Black holes Masses:\\t\", \"m_i = \",m_i,\"\\t m_j = \", m_j,\"\\t m_j = \",m_k, \"\\n\")\n",
    "print(\"Merger_species \\t| radius      | Merger_Rate \\t\\t | Probability \\t | Collision Number\")\n",
    "print(\"----------------------------------------------------------------------------------\")\n",
    "\n",
    "def integrand_n_i(r1):\n",
    "    a=(r1**(2.)/((R.value)**(2.)))\n",
    "    return (r1**(2.))*((1 + a)**(-5./2.))\n",
    "\n",
    "for h,i,j,k in zip(r, colm2_2gnd_ij, colm2_2gnd_ik, colm2_2gnd_jk):\n",
    "    GAMMA_value_ij = i*(1/u.yr)\n",
    "    GAMMA_value_ik = j*(1/u.yr)\n",
    "    GAMMA_value_jk = k*(1/u.yr)\n",
    "    Prob_ij = GAMMA_value_ij*delta_t_2 #integration dt\n",
    "    Prob_ik = GAMMA_value_ik*delta_t_2 #integration dt\n",
    "    Prob_jk = GAMMA_value_jk*delta_t_2 #integration dt\n",
    "    prob_array_ij.append(Prob_ij)\n",
    "    prob_array_ik.append(Prob_ik)\n",
    "    prob_array_jk.append(Prob_jk)\n",
    "    #I, err = quad(integrand_n_i, 0 , i+interval)\n",
    "    #N_j_r = betha*N_j*I*u.parsec**3.\n",
    "    Int_res, err = quad(integrand_n_i, 0 , h+interval)\n",
    "    N_i2_r = 3*N_i_2*(R**(-3.))*Int_res*u.parsec**3.\n",
    "    N_j2_r = 3*N_j_2*(R**(-3.))*Int_res*u.parsec**3.\n",
    "    N_k_r = 3*N_k_tot*(R**(-3.))*Int_res*u.parsec**3.\n",
    "    Num_Col_ij = N_i2_r*Prob_ij #numero de choques especie i-j\n",
    "    Num_Col_ik = N_i2_r*Prob_ik #numero de choques especie i-k\n",
    "    Num_Col_jk = N_j2_r*Prob_jk #numero de choques especie j-k\n",
    "    number_col_array_ij.append(Num_Col_ij)\n",
    "    number_col_array_ik.append(Num_Col_ik)\n",
    "    number_col_array_jk.append(Num_Col_jk)\n",
    "    print(\"m_i - m_j\",\"\\t|\\t\",\"{0:.2f}\".format(h),\"|\\t\",\"{:e}\".format(GAMMA_value_ij), \" \\t | \" , \"{0:.4f}\".format(Prob_ij), \" \\t |\" , Num_Col_ij, \" \\t | \")\n",
    "    print(\"m_i - m_k\",\"\\t|\\t\",\"{0:.2f}\".format(h), \"|\\t\",\"{:e}\".format(GAMMA_value_ik), \" \\t | \" , \"{0:.4f}\".format(Prob_ik), \" \\t |\" , Num_Col_ik, \" \\t | \")\n",
    "    print(\"m_j - m_k\",\"\\t|\\t\",\"{0:.2f}\".format(h), \"|\\t\",\"{:e}\".format(GAMMA_value_jk), \" \\t | \" , \"{0:.4f}\".format(Prob_jk), \" \\t |\" , Num_Col_jk, \" \\t | \")\n",
    "    print(\"\\n\")\n",
    "\n",
    "\n"
   ]
  },
  {
   "cell_type": "code",
   "execution_count": null,
   "id": "07353599",
   "metadata": {},
   "outputs": [],
   "source": []
  },
  {
   "cell_type": "code",
   "execution_count": null,
   "id": "1c841bae",
   "metadata": {},
   "outputs": [],
   "source": []
  },
  {
   "cell_type": "code",
   "execution_count": null,
   "id": "2462c4d2",
   "metadata": {},
   "outputs": [],
   "source": []
  }
 ],
 "metadata": {
  "kernelspec": {
   "display_name": "Python 3 (ipykernel)",
   "language": "python",
   "name": "python3"
  },
  "language_info": {
   "codemirror_mode": {
    "name": "ipython",
    "version": 3
   },
   "file_extension": ".py",
   "mimetype": "text/x-python",
   "name": "python",
   "nbconvert_exporter": "python",
   "pygments_lexer": "ipython3",
   "version": "3.8.10"
  }
 },
 "nbformat": 4,
 "nbformat_minor": 5
}
