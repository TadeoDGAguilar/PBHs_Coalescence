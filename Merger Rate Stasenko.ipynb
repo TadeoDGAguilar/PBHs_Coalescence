{
 "cells": [
  {
   "cell_type": "markdown",
   "id": "dbdbd693",
   "metadata": {},
   "source": [
    "### Merger Rate of Black Holes in a Primordial Black Hole Cluster\n",
    "\n",
    "###### Code Writed by Tadeo D.\n",
    "###### Dedicated to the Moon of my life.\n",
    "**References:** [arXiv:2105.14523](https://arxiv.org/pdf/2105.14523.pdf)."
   ]
  },
  {
   "cell_type": "code",
   "execution_count": null,
   "id": "0338008c",
   "metadata": {},
   "outputs": [],
   "source": [
    "import numpy as np\n",
    "import matplotlib.pyplot as pl\n",
    "import matplotlib as mpl\n",
    "import math\n",
    "import seaborn as sns\n",
    "from scipy import stats\n",
    "import csv\n",
    "from scipy import constants\n",
    "from scipy.integrate import odeint\n",
    "from tqdm import tqdm\n",
    "from scipy import integrate\n",
    "from scipy.integrate import quad, dblquad\n",
    "from astropy.cosmology import Planck18 as cosmo# WMAP9 as cosmo #\n",
    "from astropy import constants as const\n",
    "import astropy.units as u\n",
    "#from astropy.cosmology import WMAP9, z_at_value\n",
    "import pandas as pd\n",
    "#from mpl_toolkits.mplot3d import Axes3D\n",
    "#from matplotlib import cm\n",
    "#pl.rcParams['figure.figsize'] = (16, 9)\n",
    "#pl.style.use('ggplot')\n",
    "from sklearn import linear_model\n",
    "from sklearn.linear_model import LinearRegression\n",
    "from sklearn.metrics import mean_squared_error, r2_score\n",
    "#\n",
    "#from mlxtend.plotting import plot_linear_regression\n",
    "from sympy import *\n",
    "from sympy import simplify"
   ]
  },
  {
   "cell_type": "code",
   "execution_count": 2,
   "id": "0d6c8254",
   "metadata": {},
   "outputs": [],
   "source": [
    "H0 = cosmo.H(0)  #cosmo.H(0)  <Quantity 67.66 km / (Mpc s)>\n",
    "G = const.G\n",
    "c = const.c\n",
    "z_r = 5000 #3450\n",
    "z_eq = 3411\n",
    "z_0 = 0\n",
    "z_init = 6.900e9\n",
    "rho_c0 = (3*(H0**2))/(8*math.pi*G)\n",
    "rho_eq = cosmo.critical_density(3411)\n",
    "rho_crit = cosmo.critical_density(0)\n",
    "Omega_DM = cosmo.Odm(0)\n",
    "Omega_M = cosmo.Om(0)\n",
    "Omega_R = 8.4e-5\n",
    "Omega_lmb = 1-Omega_M - Omega_R"
   ]
  },
  {
   "cell_type": "markdown",
   "id": "7161fe4d",
   "metadata": {},
   "source": [
    "$$\\rho_{i}(r) = \\rho_{0,i}\\left(\\frac{r}{r_{0}}\\right)^{-1} \\left(1 + \\frac{r^{2}}{r^{2}_{0}}\\right)^{-2}$$"
   ]
  },
  {
   "cell_type": "code",
   "execution_count": 3,
   "id": "288ba2eb",
   "metadata": {},
   "outputs": [
    {
     "name": "stdout",
     "output_type": "stream",
     "text": [
      "N_i =\t 10000\n",
      "M =\t 100000.0 solMass\n",
      "R =\t 1.0 pc\n",
      "v_rel =\t 6.7209397035645e-13 pc / s\n",
      "m_i =\t 1.0 solMass\n",
      "m_j =\t 1.0 solMass\n",
      "E =\t 2.258551524947482e-22 pc2 / s2\n"
     ]
    }
   ],
   "source": [
    "N_i = 10**4 #M_i/m_i is the number of stars of mass m_i\n",
    "M = 10**5 * u.M_sun#M is the total mass of the cluster\n",
    "R = 1.*u.parsec #Scale factor that determines the core radius\n",
    "v_rel = (G*M/R)**(1./2.)#The characteristic velocity of the PBHs\n",
    "m_i = 1*u.M_sun\n",
    "m_j = m_i\n",
    "Energy = G*(m_i*N_i)**(2.)/((2*R)*(1*u.M_sun)) #According to the virial theorem, the total energy\n",
    "\n",
    "print(\"N_i =\\t\", N_i)\n",
    "print(\"M =\\t\", M)\n",
    "print(\"R =\\t\", R)\n",
    "print(\"v_rel =\\t\", v_rel.to(u.parsec* u.s**(-1)))\n",
    "print(\"m_i =\\t\", m_i)\n",
    "print(\"m_j =\\t\", m_j)\n",
    "print(\"E =\\t\", Energy.to(u.parsec**2.*u.s**(-2.)))"
   ]
  },
  {
   "cell_type": "code",
   "execution_count": 4,
   "id": "e8eb2cea",
   "metadata": {},
   "outputs": [],
   "source": [
    "sigma = 2*math.pi*(85*math.pi/(6*math.sqrt(2)))**(2./7.) * (G**(2.) * (m_i+m_j)**(10./7.) * m_i**(2./7.) * m_j**(2./7.))/(c**(10./7.))#v_rel**(18./7.))\n",
    "sigma = sigma.to(u.m**(32./7)/u.s**(18./7.))#.to(u.parsec**2)\n",
    "#sigma.to(u.AU**2)"
   ]
  },
  {
   "cell_type": "code",
   "execution_count": 5,
   "id": "ac72b1fa",
   "metadata": {},
   "outputs": [],
   "source": [
    "def f_i(E): ## eq. 19 shapiro\n",
    "    return (24. * (2.)**(1./2.) * N_i * R**2. * E**(7./2.))/(7*(math.pi**(3.))*(G**5.)*(M**5.))\n",
    "\n",
    "def rho_i(r):## eq. 20\n",
    "    return ((3*M)/(4*(math.pi)*(R**(3.))))*((1 + r**(2.)/R**(2.))**(-5./2.))\n",
    "\n",
    "def phi(r):## eq. 21\n",
    "    return (G*M/R)*((1 + r**(2.)/R**(2.))**(-1./2.))\n",
    "\n",
    "def integrant(E):\n",
    "    return E**(7./2.)*((2*(a - E))**(3./2.))"
   ]
  },
  {
   "cell_type": "code",
   "execution_count": 6,
   "id": "e2edbc34",
   "metadata": {},
   "outputs": [
    {
     "data": {
      "text/latex": [
       "$2.5349244 \\times 10^{20} \\; \\mathrm{\\frac{s^{3}\\,kg^{3/2}}{pc^{3/2}\\,M_{\\odot}^{3/2}\\,m^{9/2}}}$"
      ],
      "text/plain": [
       "<Quantity 2.5349244e+20 kg(3/2) s3 / (m(9/2) pc(3/2) solMass(3/2))>"
      ]
     },
     "execution_count": 6,
     "metadata": {},
     "output_type": "execute_result"
    }
   ],
   "source": [
    "f_i(Energy)\n",
    "#PH_i(1.*u.parsec)"
   ]
  },
  {
   "cell_type": "code",
   "execution_count": 7,
   "id": "cd09a8d3",
   "metadata": {},
   "outputs": [
    {
     "name": "stdout",
     "output_type": "stream",
     "text": [
      "2387.32414637843 1 / pc3\n"
     ]
    }
   ],
   "source": [
    "n = (3.*N_i)/(4*math.pi*(R**(3.)))\n",
    "print(n)"
   ]
  },
  {
   "cell_type": "code",
   "execution_count": 8,
   "id": "6d7fa94d",
   "metadata": {},
   "outputs": [
    {
     "name": "stdout",
     "output_type": "stream",
     "text": [
      "r(pc)\t\t phi(r) \t\t\t\t\t\t v_i²(r)\n",
      "0.10 \t 4.494685526656458e-25 pc2 / s2 \t 4.625782138541091 km / s \t 4.625782439600092 km / s\n",
      "0.20 \t 4.429383960831521e-25 pc2 / s2 \t 4.592056082945187 km / s \t 4.5920563818092015 km / s\n",
      "0.30 \t 4.326600034242027e-25 pc2 / s2 \t 4.538463988829716 km / s \t 4.538464284205806 km / s\n",
      "0.40 \t 4.194024892154189e-25 pc2 / s2 \t 4.468389483283585 km / s \t 4.468389774099028 km / s\n",
      "0.50 \t 4.0402197923747064e-25 pc2 / s2 \t 4.3856908531227345 km / s \t 4.385691138555916 km / s\n",
      "0.60 \t 3.8733839099994897e-25 pc2 / s2 \t 4.294185401842412 km / s \t 4.29418568132016 km / s\n",
      "0.70 \t 3.7005550067478666e-25 pc2 / s2 \t 4.197289754408988 km / s \t 4.197290027580491 km / s\n",
      "0.80 \t 3.527264880702962e-25 pc2 / s2 \t 4.097835837982706 km / s \t 4.097836104681468 km / s\n",
      "0.90 \t 3.357536254982149e-25 pc2 / s2 \t 3.9980283979679823 km / s \t 3.998028658170993 km / s\n",
      "1.00 \t 3.1940741978991656e-25 pc2 / s2 \t 3.8994918714520987 km / s \t 3.8994921252420736 km / s\n",
      "\n",
      "\n"
     ]
    }
   ],
   "source": [
    "r = np.linspace(.1, 1., 10)\n",
    "print(\"r(pc)\\t\\t phi(r) \\t\\t\\t\\t\\t\\t v_i²(r)\")\n",
    "phi_array=[]\n",
    "for i in r:\n",
    "    i=i*u.parsec\n",
    "    rho_value = rho_i(i)\n",
    "    phi_value = phi(i).to(u.parsec**(2.)/u.s**2)\n",
    "    #print(rho_i(i), \"\\t\", phi_value)\n",
    "    phi_array.append(phi_value.value)\n",
    "    a = phi_value.value\n",
    "    I, err = quad(integrant, 0, a)\n",
    "    constant = ((4.*math.pi*m_i)/rho_value)\n",
    "    constant2 = (24. * (2.**(1./2.)) * N_i * R**(2.))/(7.*(math.pi**(3.))*(G**5.)*(M**5.))\n",
    "    const = (constant*constant2).to(u.s**(10)/u.m**(10))\n",
    "    vel = (I*const*(u.parsec**(12.)/(u.s**(12.)))).to(u.km**(2.)/(u.s**(2.)))\n",
    "    result = ((7*math.pi*(phi_value**6.))/(2.**(17./2.)))\n",
    "    vel2 = (result*const).to(u.km**(2.)/(u.s**(2.)))\n",
    "    print(\"%.2f\" %i.value,\"\\t\",phi_value,\"\\t\",(vel**(1./2.)),\"\\t\", (vel2**(1./2.)))\n",
    "print(\"\\n\")\n",
    "#print(phi_array)"
   ]
  },
  {
   "cell_type": "code",
   "execution_count": 11,
   "id": "d86d424a",
   "metadata": {},
   "outputs": [],
   "source": [
    "def n_i(r):\n",
    "    return (rho_i(r)/m_i)\n",
    "\n",
    "def n_j(r2):\n",
    "    return (rho_i(r2)/m_j)\n",
    "\n",
    "def vel_j(r):\n",
    "    constant = ((4.*math.pi*m_j)/rho_i(r))\n",
    "    constant2 = (24. * (2.**(1./2.)) * N_i * R**(2.))/(7.*(math.pi**(3.))*(G**5.)*(M**5.))\n",
    "    const = (constant*constant2).to(u.s**(10)/u.m**(10))\n",
    "    result = ((7*math.pi*(phi(r)**6.))/(2.**(17./2.)))\n",
    "    return ((result*const).to(u.km**(2.)/(u.s**(2.))))**(1./2.)"
   ]
  },
  {
   "cell_type": "code",
   "execution_count": 18,
   "id": "03754802",
   "metadata": {},
   "outputs": [],
   "source": [
    "def GAMMA(r1):\n",
    "    a=(r1**(2.)/((R.value)**(2.)))\n",
    "    b=(r0**(2.)/((R.value)**(2.)))\n",
    "    return r1**(2.)*((1.+(a))**(-9./4.))*(1./((1. + b)**(1./4.)) + 1./((1. + a)**(1./4.)))**(3./7.) - abs((1./((1. + b)**(1./4.)) - 1./((1. + a)**(1./4.))))**(3./7.)"
   ]
  },
  {
   "cell_type": "code",
   "execution_count": 31,
   "id": "79029a8f",
   "metadata": {},
   "outputs": [],
   "source": [
    "#CONSTANTS\n",
    "#sigma = 2*math.pi*(85.*math.pi/(6.*math.sqrt(2)))**(2./7.) * (G**(2.) * (m_i+m_j)**(10./7.) * m_i**(2./7.) * m_j**(2./7.))/(c**(10./7.))\n",
    "alfa = ((4*24*(2**(1/2))*N_i*(R**(2.)))/(math.pi*(G**(5.))*(M**(5.))*(2**(17./2.))))\n",
    "betha = ((3.*M)/(m_i*4*math.pi*(R**(3.))))\n",
    "etha = (G*M/R)\n",
    "zetha = alfa**(-1./2.) * betha**(3./2.) * etha**(-3.) * alfa**(3./14.) * etha**(9./7.) * betha**(-3./14.)\n",
    "#print(zetha)"
   ]
  },
  {
   "cell_type": "code",
   "execution_count": 19,
   "id": "8fe02a8d",
   "metadata": {},
   "outputs": [
    {
     "name": "stdout",
     "output_type": "stream",
     "text": [
      "0.10 \t -0.010762505505623694\n",
      "0.20 \t -0.008672081755758903\n",
      "0.30 \t -0.0021532899709860117\n",
      "0.40 \t 0.006036504926768599\n",
      "0.50 \t 0.01387967497409903\n",
      "0.60 \t 0.02012870918596568\n",
      "0.70 \t 0.024270834711567477\n",
      "0.80 \t 0.02633219142923157\n",
      "0.90 \t 0.02664021087714669\n",
      "1.00 \t 0.02563121938631204\n"
     ]
    }
   ],
   "source": [
    "r = np.linspace(.1, 1., 10)\n",
    "for i in r:\n",
    "    r0 = i\n",
    "    I, err = quad(GAMMA, i-0.1, i+0.1)\n",
    "    print(\"%.2f\"%r0,\"\\t\",I)"
   ]
  },
  {
   "cell_type": "code",
   "execution_count": 36,
   "id": "b85a135b",
   "metadata": {},
   "outputs": [
    {
     "name": "stdout",
     "output_type": "stream",
     "text": [
      "0.10 \t -3.214533439379688e-18 1 / (pc3 s)\n",
      "0.20 \t -2.425079622661047e-18 1 / (pc3 s)\n",
      "0.30 \t -5.417769819662549e-19 1 / (pc3 s)\n",
      "0.40 \t 1.320330743884343e-18 1 / (pc3 s)\n",
      "0.50 \t 2.566016349646108e-18 1 / (pc3 s)\n",
      "0.60 \t 3.078088014125738e-18 1 / (pc3 s)\n",
      "0.70 \t 3.0223395965269048e-18 1 / (pc3 s)\n",
      "0.80 \t 2.642506095838464e-18 1 / (pc3 s)\n",
      "0.90 \t 2.141354236965777e-18 1 / (pc3 s)\n",
      "1.00 \t 1.6458089887969776e-18 1 / (pc3 s)\n"
     ]
    }
   ],
   "source": [
    "def GAMMA(r1,r0): #Equation (11)\n",
    "    a=(r1**(2.)/((R.value)**(2.)))\n",
    "    b=(r0**(2.)/(R**(2.)))\n",
    "    return (r1**(2.))*((1.+(a))**(-9./4.))*(1./((1. + a)**(1./4.)) + 1./((1. + b)**(1./4.)))**(3./7.) - abs((1./((1. + a)**(1./4.)) - 1./((1. + b)**(1./4.))))**(3./7.)\n",
    "\n",
    "r = np.linspace(.1, 1., 10)\n",
    "for i in r:\n",
    "    r0 = i*u.parsec\n",
    "    I, err = quad(GAMMA, i-0.1, i+0.1, args=(r0,))\n",
    "    nash_rubi = (14*math.pi/3.)*sigma*(n_j(r0)/vel_j(r0))*zetha\n",
    "    #I = I*units\n",
    "    merger = (I*nash_rubi).to((u.parsec**(-3.)*(u.s**(-1))))\n",
    "    print(\"%.2f\"%r0.value,\"\\t\",merger)"
   ]
  },
  {
   "cell_type": "code",
   "execution_count": null,
   "id": "b7c16871",
   "metadata": {},
   "outputs": [],
   "source": []
  }
 ],
 "metadata": {
  "kernelspec": {
   "display_name": "Python 3 (ipykernel)",
   "language": "python",
   "name": "python3"
  },
  "language_info": {
   "codemirror_mode": {
    "name": "ipython",
    "version": 3
   },
   "file_extension": ".py",
   "mimetype": "text/x-python",
   "name": "python",
   "nbconvert_exporter": "python",
   "pygments_lexer": "ipython3",
   "version": "3.8.10"
  }
 },
 "nbformat": 4,
 "nbformat_minor": 5
}
