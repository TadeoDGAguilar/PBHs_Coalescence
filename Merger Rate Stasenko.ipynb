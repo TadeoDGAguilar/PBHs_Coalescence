{
 "cells": [
  {
   "cell_type": "markdown",
   "id": "38fc868d",
   "metadata": {},
   "source": [
    "### Merger Rate of Black Holes in a Primordial Black Hole Cluster\n",
    "\n",
    "###### Code Writed by Tadeo D.\n",
    "###### Dedicated to the Moon of my life.\n",
    "**References:** [arXiv:2105.14523](https://arxiv.org/pdf/2105.14523.pdf)."
   ]
  },
  {
   "cell_type": "code",
   "execution_count": 2,
   "id": "5aae6648",
   "metadata": {},
   "outputs": [],
   "source": [
    "import numpy as np\n",
    "import matplotlib.pyplot as pl\n",
    "import matplotlib as mpl\n",
    "import math\n",
    "import seaborn as sns\n",
    "from scipy import stats\n",
    "import csv\n",
    "from scipy import constants\n",
    "from scipy.integrate import odeint\n",
    "from tqdm import tqdm\n",
    "from scipy import integrate\n",
    "from scipy.integrate import quad, dblquad\n",
    "from astropy.cosmology import Planck18 as cosmo# WMAP9 as cosmo #\n",
    "from astropy import constants as const\n",
    "import astropy.units as u\n",
    "#from astropy.cosmology import WMAP9, z_at_value\n",
    "import pandas as pd\n",
    "#from mpl_toolkits.mplot3d import Axes3D\n",
    "#from matplotlib import cm\n",
    "#pl.rcParams['figure.figsize'] = (16, 9)\n",
    "#pl.style.use('ggplot')\n",
    "from sklearn import linear_model\n",
    "from sklearn.linear_model import LinearRegression\n",
    "from sklearn.metrics import mean_squared_error, r2_score\n",
    "#\n",
    "#from mlxtend.plotting import plot_linear_regression\n",
    "from sympy import *\n",
    "from sympy import simplify"
   ]
  },
  {
   "cell_type": "code",
   "execution_count": 3,
   "id": "0d6c8254",
   "metadata": {},
   "outputs": [],
   "source": [
    "H0 = cosmo.H(0)  #cosmo.H(0)  <Quantity 67.66 km / (Mpc s)>\n",
    "G = const.G\n",
    "c = const.c\n",
    "z_r = 5000 #3450\n",
    "z_eq = 3411\n",
    "z_0 = 0\n",
    "z_init = 6.900e9\n",
    "rho_c0 = (3*(H0**2))/(8*math.pi*G)\n",
    "rho_eq = cosmo.critical_density(3411)\n",
    "rho_crit = cosmo.critical_density(0)\n",
    "Omega_DM = cosmo.Odm(0)\n",
    "Omega_M = cosmo.Om(0)\n",
    "Omega_R = 8.4e-5\n",
    "Omega_lmb = 1-Omega_M - Omega_R"
   ]
  },
  {
   "cell_type": "markdown",
   "id": "7161fe4d",
   "metadata": {},
   "source": [
    "$$\\rho_{i}(r) = \\rho_{0,i}\\left(\\frac{r}{r_{0}}\\right)^{-1} \\left(1 + \\frac{r^{2}}{r^{2}_{0}}\\right)^{-2}$$"
   ]
  },
  {
   "cell_type": "code",
   "execution_count": 4,
   "id": "288ba2eb",
   "metadata": {},
   "outputs": [
    {
     "name": "stdout",
     "output_type": "stream",
     "text": [
      "N_i =\t 10000\n",
      "M =\t 100000.0 solMass\n",
      "R =\t 1.0 pc\n",
      "v_rel =\t 6.7209397035645e-13 pc / s\n",
      "m_i =\t 10.0 solMass\n",
      "m_j =\t 10.0 solMass\n",
      "E =\t 2.2585515249474822e-20 pc2 / s2\n"
     ]
    }
   ],
   "source": [
    "N_i = 10**4 #M_i/m_i is the number of stars of mass m_i\n",
    "M = 10**5 * u.M_sun#M is the total mass of the cluster\n",
    "R = 1.*u.parsec #Scale factor that determines the core radius\n",
    "v_rel = (G*M/R)**(1./2.)#The characteristic velocity of the PBHs\n",
    "m_i = 10*u.M_sun\n",
    "m_j = m_i\n",
    "Energy = G*(m_i*N_i)**(2.)/((2*R)*(1*u.M_sun)) #According to the virial theorem, the total energy\n",
    "\n",
    "print(\"N_i =\\t\", N_i)\n",
    "print(\"M =\\t\", M)\n",
    "print(\"R =\\t\", R)\n",
    "print(\"v_rel =\\t\", v_rel.to(u.parsec* u.s**(-1)))\n",
    "print(\"m_i =\\t\", m_i)\n",
    "print(\"m_j =\\t\", m_j)\n",
    "print(\"E =\\t\", Energy.to(u.parsec**2.*u.s**(-2.)))"
   ]
  },
  {
   "cell_type": "code",
   "execution_count": 14,
   "id": "e8eb2cea",
   "metadata": {},
   "outputs": [
    {
     "data": {
      "text/latex": [
       "$5.1674986 \\times 10^{-13} \\; \\mathrm{pc^{2}}$"
      ],
      "text/plain": [
       "<Quantity 5.16749856e-13 pc2>"
      ]
     },
     "execution_count": 14,
     "metadata": {},
     "output_type": "execute_result"
    }
   ],
   "source": [
    "sigma = 2*math.pi*(85*math.pi/(6*math.sqrt(2)))**(2./7.) * (G**(2.) * (m_i+m_j)**(10./7.) * m_i**(2./7.) * m_j**(2./7.))/(c**(10./7.)*v_rel**(18./7.))\n",
    "#sigma = sigma.to(u.m**(32./7)/u.s**(18./7.))#.to(u.parsec**2)\n",
    "#sigma.to(u.AU**2)\n",
    "sigma.to(u.parsec**2.)"
   ]
  },
  {
   "cell_type": "code",
   "execution_count": 6,
   "id": "ac72b1fa",
   "metadata": {},
   "outputs": [],
   "source": [
    "def f_i(E): ## eq. 19 shapiro\n",
    "    return (24. * (2.)**(1./2.) * N_i * R**2. * E**(7./2.))/(7*(math.pi**(3.))*(G**5.)*(M**5.))\n",
    "\n",
    "def rho_i(r):## eq. 20\n",
    "    return ((3*M)/(4*(math.pi)*(R**(3.))))*((1 + r**(2.)/R**(2.))**(-5./2.))\n",
    "\n",
    "def phi(r):## eq. 21\n",
    "    return (G*M/R)*((1 + r**(2.)/R**(2.))**(-1./2.))\n",
    "\n",
    "def integrant(E):\n",
    "    return E**(7./2.)*((2*(a - E))**(3./2.))"
   ]
  },
  {
   "cell_type": "code",
   "execution_count": 7,
   "id": "e2edbc34",
   "metadata": {},
   "outputs": [
    {
     "data": {
      "text/latex": [
       "$2.5349244 \\times 10^{27} \\; \\mathrm{\\frac{s^{3}\\,kg^{3/2}}{pc^{3/2}\\,M_{\\odot}^{3/2}\\,m^{9/2}}}$"
      ],
      "text/plain": [
       "<Quantity 2.5349244e+27 kg(3/2) s3 / (m(9/2) pc(3/2) solMass(3/2))>"
      ]
     },
     "execution_count": 7,
     "metadata": {},
     "output_type": "execute_result"
    }
   ],
   "source": [
    "f_i(Energy)\n",
    "#PH_i(1.*u.parsec)"
   ]
  },
  {
   "cell_type": "code",
   "execution_count": 8,
   "id": "cd09a8d3",
   "metadata": {},
   "outputs": [
    {
     "name": "stdout",
     "output_type": "stream",
     "text": [
      "2387.32414637843 1 / pc3\n"
     ]
    }
   ],
   "source": [
    "n = (3.*N_i)/(4*math.pi*(R**(3.)))\n",
    "print(n)"
   ]
  },
  {
   "cell_type": "code",
   "execution_count": 10,
   "id": "6d7fa94d",
   "metadata": {},
   "outputs": [
    {
     "name": "stdout",
     "output_type": "stream",
     "text": [
      "r(pc)\t\t phi(r) \t\t\t\t\t\t v_i(r)\n",
      "0.10 \t 4.494685526656458e-25 pc2 / s2 \t 14.628007517514401 km / s \t 14.628008469546558 km / s\n",
      "0.20 \t 4.429383960831521e-25 pc2 / s2 \t 14.521356365337876 km / s \t 14.521357310428876 km / s\n",
      "0.30 \t 4.326600034242027e-25 pc2 / s2 \t 14.351883283354884 km / s \t 14.351884217416094 km / s\n",
      "0.40 \t 4.194024892154189e-25 pc2 / s2 \t 14.130288239919008 km / s \t 14.130289159558185 km / s\n",
      "0.50 \t 4.0402197923747064e-25 pc2 / s2 \t 13.868772209234823 km / s \t 13.868773111853798 km / s\n",
      "0.60 \t 3.8733839099994897e-25 pc2 / s2 \t 13.579406564867433 km / s \t 13.57940744865367 km / s\n",
      "0.70 \t 3.7005550067478666e-25 pc2 / s2 \t 13.272995623621165 km / s \t 13.272996487465312 km / s\n",
      "0.80 \t 3.527264880702962e-25 pc2 / s2 \t 12.958494725490082 km / s \t 12.958495568865619 km / s\n",
      "0.90 \t 3.357536254982149e-25 pc2 / s2 \t 12.642875887612925 km / s \t 12.642876710447092 km / s\n",
      "1.00 \t 3.1940741978991656e-25 pc2 / s2 \t 12.331276031101156 km / s \t 12.331276833655526 km / s\n",
      "\n",
      "\n"
     ]
    }
   ],
   "source": [
    "r = np.linspace(.1, 1., 10)\n",
    "print(\"r(pc)\\t\\t phi(r) \\t\\t\\t\\t\\t\\t v_i(r)\")\n",
    "phi_array=[]\n",
    "for i in r:\n",
    "    i=i*u.parsec\n",
    "    rho_value = rho_i(i)\n",
    "    phi_value = phi(i).to(u.parsec**(2.)/u.s**2)\n",
    "    #print(rho_i(i), \"\\t\", phi_value)\n",
    "    phi_array.append(phi_value.value)\n",
    "    a = phi_value.value\n",
    "    I, err = quad(integrant, 0, a)\n",
    "    constant = ((4.*math.pi*m_i)/rho_value)\n",
    "    constant2 = (24. * (2.**(1./2.)) * N_i * R**(2.))/(7.*(math.pi**(3.))*(G**5.)*(M**5.))\n",
    "    const = (constant*constant2).to(u.s**(10)/u.m**(10))\n",
    "    vel = (I*const*(u.parsec**(12.)/(u.s**(12.)))).to(u.km**(2.)/(u.s**(2.)))\n",
    "    result = ((7*math.pi*(phi_value**6.))/(2.**(17./2.)))\n",
    "    vel2 = (result*const).to(u.km**(2.)/(u.s**(2.)))\n",
    "    print(\"%.2f\" %i.value,\"\\t\",phi_value,\"\\t\",(vel**(1./2.)),\"\\t\", (vel2**(1./2.)))\n",
    "print(\"\\n\")\n",
    "#print(phi_array)"
   ]
  },
  {
   "cell_type": "code",
   "execution_count": 80,
   "id": "d86d424a",
   "metadata": {},
   "outputs": [
    {
     "name": "stdout",
     "output_type": "stream",
     "text": [
      "42202.32731986435 1 / pc3\n"
     ]
    }
   ],
   "source": [
    "def n_i(r):\n",
    "    return (rho_i(r)/m_i)\n",
    "\n",
    "def n_j(r2):\n",
    "    return (rho_i(r2)/m_j)\n",
    "\n",
    "def vel_j(r):\n",
    "    constant = ((4.*math.pi*m_j)/rho_i(r))\n",
    "    constant2 = (24. * (2.**(1./2.)) * N_i * R**(2.))/(7.*(math.pi**(3.))*(G**5.)*(M**5.))\n",
    "    const = (constant*constant2).to(u.s**(10)/u.m**(10))\n",
    "    result = ((7*math.pi*(phi(r)**6.))/(2.**(17./2.)))\n",
    "    return ((result*const).to(u.km**(2.)/(u.s**(2.))))**(1./2.)\n",
    "print(n_i(1*u.parsec))"
   ]
  },
  {
   "cell_type": "code",
   "execution_count": 81,
   "id": "03754802",
   "metadata": {},
   "outputs": [],
   "source": [
    "def GAMMA(r1):\n",
    "    a=(r1**(2.)/((R.value)**(2.)))\n",
    "    b=(r0**(2.)/((R.value)**(2.)))\n",
    "    return r1**(2.)*((1.+(a))**(-9./4.))*(1./((1. + b)**(1./4.)) + 1./((1. + a)**(1./4.)))**(3./7.) - abs((1./((1. + b)**(1./4.)) - 1./((1. + a)**(1./4.))))**(3./7.)"
   ]
  },
  {
   "cell_type": "code",
   "execution_count": 82,
   "id": "79029a8f",
   "metadata": {},
   "outputs": [],
   "source": [
    "#CONSTANTS\n",
    "#sigma = 2*math.pi*(85.*math.pi/(6.*math.sqrt(2)))**(2./7.) * (G**(2.) * (m_i+m_j)**(10./7.) * m_i**(2./7.) * m_j**(2./7.))/(c**(10./7.))\n",
    "alfa = ((4*24*(2**(1/2))*N_i*(R**(2.)))/(math.pi*(G**(5.))*(M**(5.))*(2**(17./2.))))\n",
    "betha = ((3.*M)/(m_i*4*math.pi*(R**(3.))))\n",
    "etha = (G*M/R)\n",
    "zetha = alfa**(-1./2.) * betha**(3./2.) * etha**(-3.) * alfa**(3./14.) * etha**(9./7.) * betha**(-3./14.)\n",
    "#print(zetha)"
   ]
  },
  {
   "cell_type": "code",
   "execution_count": 83,
   "id": "8fe02a8d",
   "metadata": {},
   "outputs": [
    {
     "name": "stdout",
     "output_type": "stream",
     "text": [
      "0.10 \t -0.010762505505623694\n",
      "0.20 \t -0.008672081755758903\n",
      "0.30 \t -0.0021532899709860117\n",
      "0.40 \t 0.006036504926768599\n",
      "0.50 \t 0.01387967497409903\n",
      "0.60 \t 0.02012870918596568\n",
      "0.70 \t 0.024270834711567477\n",
      "0.80 \t 0.02633219142923157\n",
      "0.90 \t 0.02664021087714669\n",
      "1.00 \t 0.02563121938631204\n"
     ]
    }
   ],
   "source": [
    "r = np.linspace(.1, 1., 10)\n",
    "for i in r:\n",
    "    r0 = i\n",
    "    I, err = quad(GAMMA, i-0.1, i+0.1)\n",
    "    print(\"%.2f\"%r0,\"\\t\",I)"
   ]
  },
  {
   "cell_type": "code",
   "execution_count": 84,
   "id": "b85a135b",
   "metadata": {},
   "outputs": [
    {
     "name": "stdout",
     "output_type": "stream",
     "text": [
      "0.01 \t -7.40866213587862e-11 1 / (pc3 yr)\n",
      "0.12 \t -8.22129240574852e-10 1 / (pc3 yr)\n",
      "0.23 \t -2.2681366524064596e-09 1 / (pc3 yr)\n",
      "0.34 \t -3.731875935894959e-09 1 / (pc3 yr)\n",
      "0.45 \t -4.782038152749052e-09 1 / (pc3 yr)\n",
      "0.56 \t -5.3195141039395515e-09 1 / (pc3 yr)\n",
      "0.67 \t -5.435188430287096e-09 1 / (pc3 yr)\n",
      "0.78 \t -5.272715184860336e-09 1 / (pc3 yr)\n",
      "0.89 \t -4.9553773014764494e-09 1 / (pc3 yr)\n",
      "1.00 \t -4.56701940144206e-09 1 / (pc3 yr)\n"
     ]
    }
   ],
   "source": [
    "def GAMMA(r1,r0): #Equation (11)\n",
    "    a=(r1**(2.)/((R.value)**(2.)))\n",
    "    b=(r0**(2.)/(R**(2.)))\n",
    "    return (r1**(2.))*((1.+(a))**(-9./4.))*(1./((1. + a)**(1./4.)) + 1./((1. + b)**(1./4.)))**(3./7.) - abs((1./((1. + a)**(1./4.)) - 1./((1. + b)**(1./4.))))**(3./7.)\n",
    "\n",
    "r = np.linspace(.01, 1., 10)\n",
    "for i in r:\n",
    "    r0 = i*u.parsec\n",
    "    I, err = quad(GAMMA, 0.1-i, i+0.1, args=(r0,))\n",
    "    nash_rubi = (14*math.pi/3.)*sigma*(n_j(r0)/vel_j(r0))*zetha\n",
    "    #I = I*units\n",
    "    merger = (I*nash_rubi).to((u.parsec**(-3.)*(u.yr**(-1))))\n",
    "    print(\"%.2f\"%r0.value,\"\\t\",merger)"
   ]
  },
  {
   "cell_type": "code",
   "execution_count": 85,
   "id": "85ebac66",
   "metadata": {},
   "outputs": [
    {
     "name": "stdout",
     "output_type": "stream",
     "text": [
      "0.9798978263063961 pc\n"
     ]
    }
   ],
   "source": [
    "kappa = (1-((8*24*(2**(1./2.))*N_i*m_i)/(3*M*2**(17./2.))))*(1*u.M_sun)\n",
    "r_star_quad = (4.*(kappa**(2.))*(M*R)**(2.))/((m_i*N_i)**(4.)) - R**(2.)\n",
    "r_star = (abs(r_star_quad))**(1./2.)\n",
    "print(r_star)"
   ]
  },
  {
   "cell_type": "code",
   "execution_count": 86,
   "id": "6c0eb326",
   "metadata": {},
   "outputs": [
    {
     "name": "stdout",
     "output_type": "stream",
     "text": [
      "3.2182719349274315e-25 pc2 / s2\n"
     ]
    }
   ],
   "source": [
    "E_value = phi(r_star) - ((1./2.)*vel_j(r_star)**(2.))\n",
    "print(E_value.to(u.parsec**2./u.s**2.))"
   ]
  },
  {
   "cell_type": "code",
   "execution_count": 87,
   "id": "b7c16871",
   "metadata": {},
   "outputs": [
    {
     "name": "stdout",
     "output_type": "stream",
     "text": [
      "radius \t merger_rate \t\t\t Number_Mergers at Universe's time \t time to the first Merger\n",
      "0.10 \t 5.267248732429633e-09 1 / yr \t\t 72.61895413116338 \t\t\t 0.18985243545518465 Gyr\n",
      "0.15 \t 4.905542609592048e-09 1 / yr \t\t 67.63215330256695 \t\t\t 0.2038510475975993 Gyr\n",
      "0.19 \t 4.51838483084413e-09 1 / yr \t\t 62.294453413188556 \t\t\t 0.2213180234613126 Gyr\n",
      "0.24 \t 4.133238723658609e-09 1 / yr \t\t 56.98448820890625 \t\t\t 0.24194102176484797 Gyr\n",
      "0.29 \t 3.769912685003538e-09 1 / yr \t\t 51.97535378673524 \t\t\t 0.26525813289467776 Gyr\n",
      "0.34 \t 3.441591329873097e-09 1 / yr \t\t 47.448824921351445 \t\t\t 0.2905632610472881 Gyr\n",
      "0.38 \t 3.1557329276767907e-09 1 / yr \t\t 43.50772791765521 \t\t\t 0.31688359659009135 Gyr\n",
      "0.43 \t 2.9150801914777876e-09 1 / yr \t\t 40.189876246064756 \t\t\t 0.3430437361289379 Gyr\n",
      "0.48 \t 2.718764719279115e-09 1 / yr \t\t 37.48329734785178 \t\t\t 0.36781410061299885 Gyr\n",
      "0.53 \t 2.563399399136006e-09 1 / yr \t\t 35.34129349912872 \t\t\t 0.39010698072920286 Gyr\n",
      "0.57 \t 2.4440756102651893e-09 1 / yr \t\t 33.696190108165545 \t\t\t 0.40915264478724417 Gyr\n",
      "0.62 \t 2.355195374547408e-09 1 / yr \t\t 32.47080849270891 \t\t\t 0.4245932251765599 Gyr\n",
      "0.67 \t 2.291114311365779e-09 1 / yr \t\t 31.587330224592954 \t\t\t 0.43646883747318577 Gyr\n",
      "0.72 \t 2.2466006885804043e-09 1 / yr \t\t 30.973626012874067 \t\t\t 0.445116929360458 Gyr\n",
      "0.76 \t 2.2171394416575823e-09 1 / yr \t\t 30.567447180694934 \t\t\t 0.45103162264452706 Gyr\n",
      "0.81 \t 2.199130111753923e-09 1 / yr \t\t 30.31915461494713 \t\t\t 0.45472525461553837 Gyr\n",
      "0.86 \t 2.1900513529426002e-09 1 / yr \t\t 30.193986808530813 \t\t\t 0.456610297587944 Gyr\n",
      "0.91 \t 2.1887396013879598e-09 1 / yr \t\t 30.17590184030225 \t\t\t 0.4568839524655484 Gyr\n",
      "0.95 \t 2.196290172485404e-09 1 / yr \t\t 30.280000697987386 \t\t\t 0.45531324254315747 Gyr\n",
      "1.00 \t 2.222938766637545e-09 1 / yr \t\t 30.64740180902276 \t\t\t 0.4498549465276621 Gyr\n"
     ]
    }
   ],
   "source": [
    "def GAMMA(r1,r0): #Equation (11)\n",
    "    a=(r1**(2.)/((R.value)**(2.)))\n",
    "    b=(r0**(2.)/(R**(2.)))\n",
    "    return (r1**(2.))*((1.+(a))**(-9./4.))*(1./((1. + a)**(1./4.)) + 1./((1. + b)**(1./4.)))**(3./7.) - abs((1./((1. + a)**(1./4.)) - 1./((1. + b)**(1./4.))))**(3./7.)\n",
    "\n",
    "\n",
    "\n",
    "print(\"radius \\t merger_rate \\t\\t\\t Number_Mergers at Universe's time \\t time to the first Merger\")\n",
    "r = np.linspace(.1, 1., 20)\n",
    "colm1 = []\n",
    "colm2 = []\n",
    "colm3 = []\n",
    "colm4 = []\n",
    "for i in r:\n",
    "    r0 = i*u.parsec\n",
    "    colm1.append(\"%.2f\"%r0.value)\n",
    "    I, err = quad(GAMMA, 1., 0.01, args=(r0,))\n",
    "    nash_rubi = (14*math.pi/3.)*sigma*(n_j(r0)/vel_j(r0))*zetha*u.parsec**(3)\n",
    "    #I = I*units\n",
    "    merger = (I*nash_rubi).to((u.yr**(-1)))\n",
    "    colm2.append(merger.value)\n",
    "    colm3.append((merger*(cosmo.age(0).to(u.yr))).value)\n",
    "    colm4.append(((merger**(-1.)).to(u.Gyr)).value)\n",
    "    print(\"%.2f\"%r0.value,\"\\t\",merger,\"\\t\\t\", merger*(cosmo.age(0).to(u.yr)),\"\\t\\t\\t\",(merger**(-1.)).to(u.Gyr))#/(cosmo.age(0).to(u.yr)))"
   ]
  },
  {
   "cell_type": "code",
   "execution_count": 88,
   "id": "7f73072b",
   "metadata": {},
   "outputs": [
    {
     "name": "stdout",
     "output_type": "stream",
     "text": [
      "['0.10', '0.15', '0.19', '0.24', '0.29', '0.34', '0.38', '0.43', '0.48', '0.53', '0.57', '0.62', '0.67', '0.72', '0.76', '0.81', '0.86', '0.91', '0.95', '1.00']\n"
     ]
    }
   ],
   "source": [
    "print(colm1)"
   ]
  },
  {
   "cell_type": "code",
   "execution_count": 89,
   "id": "6adf255b",
   "metadata": {},
   "outputs": [],
   "source": [
    "f = open(\"MR_T0.1.txt\", \"w\")\n",
    "f.write(\"Mpbh = 0.1 u.Solar Mass\")\n",
    "f.write(\"\\n\")\n",
    "f.write(\"radius \\t merger_rate \\t Number_Mergers at Universe's time \\t time to the first Merger\")\n",
    "f.write(\"\\n\")\n",
    "for i in range(len(r)):\n",
    "    print(colm1[i],\"\\t \",colm2[i],\"\\t \",colm3[i],\"\\t \",colm4[i], file=f)\n",
    "f.close()"
   ]
  },
  {
   "cell_type": "code",
   "execution_count": 90,
   "id": "0eae4250",
   "metadata": {},
   "outputs": [],
   "source": [
    "read_file = pd.read_csv (r\"MR_T0.1.txt\")\n",
    "read_file.to_csv (r\"MR_T0.1.csv\", index=None)"
   ]
  },
  {
   "cell_type": "code",
   "execution_count": null,
   "id": "1c841bae",
   "metadata": {},
   "outputs": [],
   "source": []
  },
  {
   "cell_type": "code",
   "execution_count": null,
   "id": "2462c4d2",
   "metadata": {},
   "outputs": [],
   "source": []
  }
 ],
 "metadata": {
  "kernelspec": {
   "display_name": "Python 3 (ipykernel)",
   "language": "python",
   "name": "python3"
  },
  "language_info": {
   "codemirror_mode": {
    "name": "ipython",
    "version": 3
   },
   "file_extension": ".py",
   "mimetype": "text/x-python",
   "name": "python",
   "nbconvert_exporter": "python",
   "pygments_lexer": "ipython3",
   "version": "3.8.10"
  }
 },
 "nbformat": 4,
 "nbformat_minor": 5
}
