{
 "cells": [
  {
   "cell_type": "markdown",
   "id": "38fc868d",
   "metadata": {},
   "source": [
    "### Merger Rate of Black Holes in a Primordial Black Hole Cluster\n",
    "\n",
    "###### Code Writed by Tadeo D.\n",
    "###### Dedicated to the Moon of my life.\n",
    "**References:** [arXiv:2105.14523](https://arxiv.org/pdf/2105.14523.pdf)."
   ]
  },
  {
   "cell_type": "code",
   "execution_count": 1,
   "id": "5aae6648",
   "metadata": {},
   "outputs": [],
   "source": [
    "import numpy as np\n",
    "import matplotlib.pyplot as pl\n",
    "import matplotlib as mpl\n",
    "import math\n",
    "import seaborn as sns\n",
    "from scipy import stats\n",
    "from astropy import constants as const\n",
    "import csv\n",
    "from scipy import constants\n",
    "from scipy.integrate import odeint\n",
    "from tqdm import tqdm\n",
    "from scipy import integrate\n",
    "from scipy.integrate import quad, dblquad\n",
    "from astropy.cosmology import Planck18 as cosmo# WMAP9 as cosmo #\n",
    "import astropy.units as u\n",
    "from sklearn import linear_model\n",
    "from sklearn.linear_model import LinearRegression\n",
    "from sklearn.metrics import mean_squared_error, r2_score\n",
    "from sympy import *\n",
    "from sympy import simplify\n",
    "import pandas as pd"
   ]
  },
  {
   "cell_type": "code",
   "execution_count": 2,
   "id": "0d6c8254",
   "metadata": {},
   "outputs": [],
   "source": [
    "H0 = cosmo.H(0)  #cosmo.H(0)  <Quantity 67.66 km / (Mpc s)>\n",
    "G = const.G\n",
    "c = const.c\n",
    "z_r = 5000 #3450\n",
    "z_eq = 3411\n",
    "z_0 = 0\n",
    "z_init = 6.900e9\n",
    "rho_c0 = (3*(H0**2))/(8*math.pi*G)\n",
    "rho_eq = cosmo.critical_density(3411)\n",
    "rho_crit = cosmo.critical_density(0)\n",
    "Omega_DM = cosmo.Odm(0)\n",
    "Omega_M = cosmo.Om(0)\n",
    "Omega_R = 8.4e-5\n",
    "Omega_lmb = 1-Omega_M - Omega_R\n",
    "result_i=0\n",
    "result_j=0"
   ]
  },
  {
   "cell_type": "markdown",
   "id": "7161fe4d",
   "metadata": {},
   "source": [
    "$$\\rho_{i}(r) = \\rho_{0,i}\\left(\\frac{r}{r_{0}}\\right)^{-1} \\left(1 + \\frac{r^{2}}{r^{2}_{0}}\\right)^{-2}$$"
   ]
  },
  {
   "cell_type": "code",
   "execution_count": 3,
   "id": "288ba2eb",
   "metadata": {},
   "outputs": [
    {
     "name": "stdout",
     "output_type": "stream",
     "text": [
      "Cluster Propierities\n",
      "\n",
      "M =\t 1000000.0 solMass\n",
      "R =\t 0.8 pc\n",
      "m_i =\t 0.01 solMass \t\t N_i =\t 50000000.0\n",
      "m_j =\t 0.01 solMass \t\t N_j =\t 50000000.0\n",
      "M_t =  1000000.0 solMass\n",
      "v_rel =\t 2.376211020168181e-12 pc / s\n"
     ]
    }
   ],
   "source": [
    "M = 10**6 * u.M_sun#M is the total mass of the cluster\n",
    "R = 0.8*u.parsec #Scale factor that determines the core radius\n",
    "v_rel = (G*M/R)**(1./2.)#The characteristic velocity of the PBHs\n",
    "m_i = 0.01*u.M_sun\n",
    "m_j = 0.01*u.M_sun\n",
    "error=1\n",
    "\n",
    "if m_i==m_j:\n",
    "    N_i = M/(2*m_i)\n",
    "    N_j = M/(2*m_j) \n",
    "if m_j>m_i:\n",
    "    zetha = (m_j/m_i)\n",
    "    N_i = (M/(zetha*m_i))\n",
    "    N_j =  N_i - (M/(zetha*m_j))\n",
    "if m_i>m_j:\n",
    "    zetha = (m_i/m_j)\n",
    "    N_j = (M/(zetha*m_j))\n",
    "    N_i = N_j - (M/(zetha*m_i))\n",
    "\n",
    "\n",
    "print(\"Cluster Propierities\\n\")\n",
    "print(\"M =\\t\", M)\n",
    "print(\"R =\\t\", R)\n",
    "print(\"m_i =\\t\", m_i, \"\\t\\t N_i =\\t\", N_i)\n",
    "print(\"m_j =\\t\", m_j, \"\\t\\t N_j =\\t\", N_j)\n",
    "print(\"M_t = \", (N_i*m_i + N_j*m_j))\n",
    "print(\"v_rel =\\t\", v_rel.to(u.parsec* u.s**(-1)))"
   ]
  },
  {
   "cell_type": "code",
   "execution_count": 4,
   "id": "d291bf03",
   "metadata": {},
   "outputs": [
    {
     "name": "stdout",
     "output_type": "stream",
     "text": [
      "Numbers of PBHs into Cluster by spherical regions\n",
      "Primordial Black holes Masses:\t m_i =  0.01 solMass \t m_j =  0.01 solMass \n",
      "\n",
      "radius \t\t n_pbh_mi(r) \t\t n_pbh_mj(r) \t\t total n_pbh(r)\n",
      "0.10  \t\t  97656  \t\t  97656  \t\t  195312\n",
      "0.20  \t\t  779724  \t\t  779724  \t\t  1559448\n",
      "0.30  \t\t  2590451  \t\t  2590451  \t\t  5180902\n",
      "0.40  \t\t  5816521  \t\t  5816521  \t\t  11633042\n",
      "0.50  \t\t  9940344  \t\t  9940344  \t\t  19880688\n",
      "0.60  \t\t  12983331  \t\t  12983331  \t\t  25966662\n",
      "0.70  \t\t  11919232  \t\t  11919232  \t\t  23838464\n",
      "0.80  \t\t  5872741  \t\t  5872741  \t\t  11745482\n",
      "\n",
      " Total numbers of PBHs into Cluster =  100000000\n"
     ]
    }
   ],
   "source": [
    "interval = 0.1\n",
    "r = np.arange(.1, R.value+interval, interval)\n",
    "N_i_1_array = []\n",
    "N_j_1_array = []\n",
    "N_total_casc = []\n",
    "def V(radius):\n",
    "    return (4/3)*math.pi*(radius**3.)\n",
    "\n",
    "print(\"Numbers of PBHs into Cluster by spherical regions\")\n",
    "print(\"Primordial Black holes Masses:\\t\", \"m_i = \",m_i,\"\\t m_j = \", m_j, \"\\n\")\n",
    "print(\"radius \\t\\t n_pbh_mi(r) \\t\\t n_pbh_mj(r) \\t\\t total n_pbh(r)\")\n",
    "\n",
    "if m_i==m_j:\n",
    "    for i in r:\n",
    "        i=i*u.parsec\n",
    "        Ni_casc = round(float(N_i*(V(i)/V(R))))\n",
    "        Nj_casc = round(float(N_j*(V(i)/V(R))))\n",
    "        N_i = N_i - Ni_casc\n",
    "        N_j = N_j - Nj_casc\n",
    "        N_i_1_array.append(Ni_casc)\n",
    "        N_j_1_array.append(Nj_casc)\n",
    "        result_i = result_i + Ni_casc\n",
    "        result_j = result_j + Nj_casc\n",
    "        print(\"%.2f\" %i.value,\" \\t\\t \",Ni_casc,\" \\t\\t \",Nj_casc, \" \\t\\t \", Ni_casc + Nj_casc)\n",
    "        N_total_casc.append(Ni_casc + Nj_casc)\n",
    "    print(\"\\n Total numbers of PBHs into Cluster = \",result_i + result_j)\n",
    "    N_i = M/(2*m_i)\n",
    "    N_j = M/(2*m_j) \n",
    "\n",
    "    \n",
    "if m_j>m_i:\n",
    "    for i in r:\n",
    "        i=i*u.parsec\n",
    "        Ni_casc = round(float(N_i*(V(i)/V(R))))\n",
    "        Nj_casc = round(float(N_j*(V(i)/V(R))))\n",
    "        N_i = N_i - Ni_casc\n",
    "        N_j = N_j - Nj_casc\n",
    "        N_i_1_array.append(Ni_casc)\n",
    "        N_j_1_array.append(Nj_casc)\n",
    "        result_i = result_i + Ni_casc\n",
    "        result_j = result_j + Nj_casc\n",
    "        print(\"%.2f\" %i.value,\" \\t\\t \",Ni_casc,\" \\t\\t \",Nj_casc, \" \\t\\t \", Ni_casc + Nj_casc)\n",
    "        N_total_casc.append(Ni_casc + Nj_casc)\n",
    "    print(\"\\n Total numbers of PBHs into Cluster = \",result_i + result_j)\n",
    "    zetha = (m_j/m_i)\n",
    "    N_i = (M/(zetha*m_i))\n",
    "    N_j =  N_i - (M/(zetha*m_j))\n",
    "    \n",
    "if m_i>m_j:\n",
    "    for i in r:\n",
    "        i=i*u.parsec\n",
    "        Ni_casc = round(float(N_i*(V(i)/V(R))))\n",
    "        Nj_casc = round(float(N_j*(V(i)/V(R))))\n",
    "        N_i = N_i - Ni_casc\n",
    "        N_j = N_j - Nj_casc\n",
    "        N_i_1_array.append(Ni_casc)\n",
    "        N_j_1_array.append(Nj_casc)\n",
    "        result_i = result_i + Ni_casc\n",
    "        result_j = result_j + Nj_casc\n",
    "        print(\"%.2f\" %i.value,\" \\t\\t \",Ni_casc,\" \\t\\t \",Nj_casc, \" \\t\\t \", Ni_casc + Nj_casc)\n",
    "        N_total_casc.append(Ni_casc + Nj_casc)\n",
    "    print(\"\\n Total numbers of PBHs into Cluster = \",result_i + result_j)\n",
    "    zetha = (m_i/m_j)\n",
    "    N_j = (M/(zetha*m_j))\n",
    "    N_i = N_j - (M/(zetha*m_i))\n",
    "    \n",
    "result_i=0\n",
    "result_j=0\n",
    "\n",
    "#print(N_i_1_array)"
   ]
  },
  {
   "cell_type": "code",
   "execution_count": 5,
   "id": "05fcbbcb",
   "metadata": {},
   "outputs": [
    {
     "name": "stdout",
     "output_type": "stream",
     "text": [
      "Primordial Black holes Masses:\t m_i =  0.01 solMass \t m_j =  0.01 solMass \n",
      "\n",
      "radius \t\t  Mass_mi(r) \t\t Mass_mj(r)\n",
      "0.10  \t\t  976.56 solMass  \t 976.56 solMass\n",
      "0.20  \t\t  7797.24 solMass  \t 7797.24 solMass\n",
      "0.30  \t\t  25904.51 solMass  \t 25904.51 solMass\n",
      "0.40  \t\t  58165.21 solMass  \t 58165.21 solMass\n",
      "0.50  \t\t  99403.44 solMass  \t 99403.44 solMass\n",
      "0.60  \t\t  129833.31 solMass  \t 129833.31 solMass\n",
      "0.70  \t\t  119192.32 solMass  \t 119192.32 solMass\n",
      "0.80  \t\t  58727.41 solMass  \t 58727.41 solMass\n"
     ]
    }
   ],
   "source": [
    "#Masas en cada cascaron (se podría decir que la masa es función del radio)\n",
    "M_i_1_value = []\n",
    "M_j_1_value = []\n",
    "print(\"Primordial Black holes Masses:\\t\", \"m_i = \",m_i,\"\\t m_j = \", m_j, \"\\n\")\n",
    "print(\"radius \\t\\t  Mass_mi(r) \\t\\t Mass_mj(r)\")\n",
    "for h, i, j in zip(r, N_i_1_array, N_j_1_array):\n",
    "    M_i_1 = i*m_i\n",
    "    M_i_1_value.append(M_i_1)\n",
    "    M_j_1 = j*m_j\n",
    "    M_j_1_value.append(M_j_1)\n",
    "    print(\"{0:.2f}\".format(h), \" \\t\\t \",\"{0:.2f}\".format(M_i_1),\" \\t\",\"{0:.2f}\".format(M_j_1))"
   ]
  },
  {
   "cell_type": "code",
   "execution_count": 6,
   "id": "9d9949e5",
   "metadata": {},
   "outputs": [
    {
     "name": "stdout",
     "output_type": "stream",
     "text": [
      "E_i =\t 7.057973515460882e-19 pc2 / s2\n",
      "E_j =\t 7.057973515460882e-19 pc2 / s2\n"
     ]
    }
   ],
   "source": [
    "Energy_it = G*((m_i*N_i)**(2.))/((2*R)*(1*u.M_sun))#According to the virial theorem, the total energy\n",
    "print(\"E_i =\\t\", Energy_it.to(u.parsec**2.*u.s**(-2.)))\n",
    "\n",
    "Energy_jt = G*((m_j*N_j)**(2.))/((2*R)*(1*u.M_sun))#According to the virial theorem, the total energy\n",
    "print(\"E_j =\\t\", Energy_jt.to(u.parsec**2.*u.s**(-2.)))"
   ]
  },
  {
   "cell_type": "code",
   "execution_count": 7,
   "id": "b75d0796",
   "metadata": {},
   "outputs": [
    {
     "name": "stdout",
     "output_type": "stream",
     "text": [
      "[<Quantity 2.69238944e-24 pc2 / s2>, <Quantity 1.7164131e-22 pc2 / s2>, <Quantity 1.89448329e-21 pc2 / s2>, <Quantity 9.55139084e-21 pc2 / s2>, <Quantity 2.78960584e-20 pc2 / s2>, <Quantity 4.75896241e-20 pc2 / s2>, <Quantity 4.01085131e-20 pc2 / s2>, <Quantity 9.73692246e-21 pc2 / s2>] \n",
      " [<Quantity 2.69238944e-24 pc2 / s2>, <Quantity 1.7164131e-22 pc2 / s2>, <Quantity 1.89448329e-21 pc2 / s2>, <Quantity 9.55139084e-21 pc2 / s2>, <Quantity 2.78960584e-20 pc2 / s2>, <Quantity 4.75896241e-20 pc2 / s2>, <Quantity 4.01085131e-20 pc2 / s2>, <Quantity 9.73692246e-21 pc2 / s2>]\n"
     ]
    }
   ],
   "source": [
    "Ei_array = []\n",
    "Ej_array = []\n",
    "for i, j in zip(N_i_1_array, N_j_1_array):\n",
    "    Energy_i1 = G*((m_i*i)**(2.))/((2*R)*(1*u.M_sun))#According to the virial theorem, the total energy\n",
    "    Ei_array.append(Energy_i1.to(u.parsec**2.*u.s**(-2.)))\n",
    "    #print(\"Ei =\\t\", Energy_i1.to(u.parsec**2.*u.s**(-2.)))\n",
    "    Energy_j1 = G*((m_j*j)**(2.))/((2*R)*(1*u.M_sun))#According to the virial theorem, the total energy\n",
    "    Ej_array.append(Energy_j1.to(u.parsec**2.*u.s**(-2.)))\n",
    "    #print(\"Ej =\\t\", Energy_j1.to(u.parsec**2.*u.s**(-2.)))\n",
    "print(Ei_array,\"\\n\",Ej_array)"
   ]
  },
  {
   "cell_type": "code",
   "execution_count": 8,
   "id": "db750d78",
   "metadata": {},
   "outputs": [
    {
     "data": {
      "text/plain": [
       "[<matplotlib.lines.Line2D at 0x7f1b4fdd6550>]"
      ]
     },
     "execution_count": 8,
     "metadata": {},
     "output_type": "execute_result"
    },
    {
     "data": {
      "image/png": "[encoded data removed]",
      "text/plain": [
       "<Figure size 432x288 with 1 Axes>"
      ]
     },
     "metadata": {
      "needs_background": "light"
     },
     "output_type": "display_data"
    }
   ],
   "source": [
    "pl.plot(r, N_i_1_array)\n",
    "pl.plot(r, N_j_1_array, \"-.\")\n",
    "pl.plot(r, N_total_casc, \"blue\")"
   ]
  },
  {
   "cell_type": "code",
   "execution_count": 9,
   "id": "e8eb2cea",
   "metadata": {},
   "outputs": [
    {
     "name": "stdout",
     "output_type": "stream",
     "text": [
      "6.19832413121049e+25 m(32/7) / s(18/7)\n"
     ]
    }
   ],
   "source": [
    "sigma = 2*math.pi*(85*math.pi/(6*math.sqrt(2)))**(2./7.) * (G**(2.) * (m_i+m_j)**(10./7.) * m_i**(2./7.) * m_j**(2./7.))/(c**(10./7.))\n",
    "sigma = sigma.to(u.m**(32./7)/u.s**(18./7.))#.to(u.parsec**2)\n",
    "print(sigma)\n",
    "#print(sigma)\n",
    "#sigma.to(u.AU**2)\n",
    "#sigma.to(u.parsec**2.)"
   ]
  },
  {
   "cell_type": "code",
   "execution_count": 10,
   "id": "ac72b1fa",
   "metadata": {},
   "outputs": [],
   "source": [
    "def f_ij(E_ij, N_1): ## eq. 19 shapiro\n",
    "    return (24. * (2.)**(1./2.) * N_1 * R**2. * E_ij**(7./2.))/(7*(math.pi**(3.))*(G**5.)*(M**5.))\n",
    "\n",
    "def rho_i1(r, M_i):## eq. 20\n",
    "    return ((3*M_i)/(4*(math.pi)*(R**(3.))))*((1 + r**(2.)/R**(2.))**(-5./2.))\n",
    "\n",
    "def rho_j1(r, M_j):## eq. 20\n",
    "    return ((3*M_j)/(4*(math.pi)*(R**(3.))))*((1 + r**(2.)/R**(2.))**(-5./2.))\n",
    "\n",
    "def phi(r):## eq. 21\n",
    "    return (G*M/R)*((1 + r**(2.)/R**(2.))**(-1./2.))\n",
    "\n",
    "def integrant(E):\n",
    "    return E**(7./2.)*((2*(a - E))**(3./2.))"
   ]
  },
  {
   "cell_type": "code",
   "execution_count": 11,
   "id": "e2edbc34",
   "metadata": {},
   "outputs": [
    {
     "name": "stdout",
     "output_type": "stream",
     "text": [
      "2.3632596753295013e-58 kg5 pc9 s3 / (m15 solMass5) 2.3632596753295013e-58 kg5 pc9 s3 / (m15 solMass5)\n",
      "3.90343730720215e-51 kg5 pc9 s3 / (m15 solMass5) 3.90343730720215e-51 kg5 pc9 s3 / (m15 solMass5)\n",
      "5.793260348326518e-47 kg5 pc9 s3 / (m15 solMass5) 5.793260348326518e-47 kg5 pc9 s3 / (m15 solMass5)\n",
      "3.743056609430708e-44 kg5 pc9 s3 / (m15 solMass5) 3.743056609430708e-44 kg5 pc9 s3 / (m15 solMass5)\n",
      "2.7235246131646448e-42 kg5 pc9 s3 / (m15 solMass5) 2.7235246131646448e-42 kg5 pc9 s3 / (m15 solMass5)\n",
      "2.306795130581951e-41 kg5 pc9 s3 / (m15 solMass5) 2.306795130581951e-41 kg5 pc9 s3 / (m15 solMass5)\n",
      "1.1638745640535423e-41 kg5 pc9 s3 / (m15 solMass5) 1.1638745640535423e-41 kg5 pc9 s3 / (m15 solMass5)\n",
      "4.0424697238670753e-44 kg5 pc9 s3 / (m15 solMass5) 4.0424697238670753e-44 kg5 pc9 s3 / (m15 solMass5)\n"
     ]
    }
   ],
   "source": [
    "for h, i, k, j in zip (N_i_1_array, Ei_array, N_j_1_array, Ej_array):\n",
    "    print(f_ij(i, h), f_ij(j, k))\n",
    "#PH_i(1.*u.parsec)\n",
    "#rho_i(1*u.parsec)"
   ]
  },
  {
   "cell_type": "code",
   "execution_count": 12,
   "id": "1bfe26ed",
   "metadata": {},
   "outputs": [
    {
     "name": "stdout",
     "output_type": "stream",
     "text": [
      "n_i1 \t\t\t\t\t n_j1\n",
      "43803.30751923047 1 / pc3 \t\t 43803.30751923047 1 / pc3\n",
      "312435.22010127874 1 / pc3 \t\t 312435.22010127874 1 / pc3\n",
      "869279.8167341163 1 / pc3 \t\t 869279.8167341163 1 / pc3\n",
      "1552493.1677997832 1 / pc3 \t\t 1552493.1677997832 1 / pc3\n",
      "2032440.133565685 1 / pc3 \t\t 2032440.133565685 1 / pc3\n",
      "1983706.8541903107 1 / pc3 \t\t 1983706.8541903107 1 / pc3\n",
      "1341663.26566497 1 / pc3 \t\t 1341663.26566497 1 / pc3\n",
      "484069.0194273193 1 / pc3 \t\t 484069.0194273193 1 / pc3\n"
     ]
    }
   ],
   "source": [
    "def n_i_1(r, M_i):\n",
    "    return (rho_i1(r, M_i)/m_i)\n",
    "\n",
    "def n_j_1(r, M_j):\n",
    "    return (rho_j1(r, M_j)/m_j)\n",
    "\n",
    "print(\"n_i1 \\t\\t\\t\\t\\t n_j1\")\n",
    "for h,i,j in zip(r, M_i_1_value, M_j_1_value):\n",
    "    h=h*u.parsec\n",
    "    print(n_i_1(h, i),\"\\t\\t\",n_j_1(h, j))#,\"\\t\",n_i_1(h, M))"
   ]
  },
  {
   "cell_type": "code",
   "execution_count": 13,
   "id": "9335d062",
   "metadata": {},
   "outputs": [
    {
     "name": "stdout",
     "output_type": "stream",
     "text": [
      "vel_i \t\t\t\t vel_j\n",
      "51.64606142190773 km / s \t 51.64606142190773 km / s\n",
      "51.066761653687436 km / s \t 51.066761653687436 km / s\n",
      "50.1689291933113 km / s \t 50.1689291933113 km / s\n",
      "49.03351757064738 km / s \t 49.03351757064738 km / s\n",
      "47.743916828854765 km / s \t 47.743916828854765 km / s\n",
      "46.37303780234956 km / s \t 46.37303780234956 km / s\n",
      "44.97756456898562 km / s \t 44.97756456898562 km / s\n",
      "43.59764734883201 km / s \t 43.59764734883201 km / s\n"
     ]
    }
   ],
   "source": [
    "alfa = ((4*24*(2**(1/2))*(R**(2.)))/(math.pi*(G**(5.))*(M**(5.))*(2**(17./2.))))\n",
    "\n",
    "def vel_i(r, N_i_1, M_i):\n",
    "    return (alfa**(1./2.))*(N_i_1**(1./2.))*((phi(r)**(3))/(n_i_1(r, M_i)**(1./2.)))\n",
    "\n",
    "def vel_j(r, N_j_1, M_j):\n",
    "    return (alfa**(1./2.))*(N_j_1**(1./2.))*((phi(r)**(3))/(n_j_1(r, M_j)**(1./2.)))\n",
    "\n",
    "print(\"vel_i \\t\\t\\t\\t vel_j\")\n",
    "for h,i,j,k,l in zip(r, N_i_1_array, N_j_1_array, M_i_1_value, M_j_1_value):\n",
    "    h = h*u.parsec\n",
    "    print(vel_i(h,i,k).to(u.km/u.s), \"\\t\", vel_j(h,j,l).to(u.km/u.s))"
   ]
  },
  {
   "cell_type": "code",
   "execution_count": 14,
   "id": "1d1400d6",
   "metadata": {},
   "outputs": [],
   "source": [
    "betha = (3./(4*math.pi*(R**(3.))))\n",
    "etha = (G*M/R)"
   ]
  },
  {
   "cell_type": "code",
   "execution_count": 15,
   "id": "9e854d09",
   "metadata": {},
   "outputs": [],
   "source": [
    "def GAMMA(r1,r0): #Equation (11)\n",
    "    a=(r1**(2.)/((R.value)**(2.)))\n",
    "    b=(r0**(2.)/(R**(2.)))\n",
    "    return (r1**(2.))*((1.+(a))**(-9./4.))*(1./((1. + a)**(1./4.)) + 1./((1. + b)**(1./4.)))**(3./7.) - abs((1./((1. + a)**(1./4.)) - 1./((1. + b)**(1./4.))))**(3./7.)"
   ]
  },
  {
   "cell_type": "code",
   "execution_count": 16,
   "id": "3e3defab",
   "metadata": {},
   "outputs": [
    {
     "name": "stdout",
     "output_type": "stream",
     "text": [
      "0.7999990562762116 pc\n",
      "0.7999999851966262 pc\n",
      "0.7999999986588057 pc\n",
      "0.7999999997339791 pc\n",
      "0.7999999999089166 pc\n",
      "0.7999999999466089 pc\n",
      "0.7999999999366502 pc\n",
      "0.799999999739048 pc\n"
     ]
    }
   ],
   "source": [
    "def r_star(N_ij, Mi):\n",
    "    kappa = (1-((8*24*(2**(1./2.))*N_ij*m_i)/(3*Mi*2**(17./2.))))*(1*u.M_sun)\n",
    "    r_star_quad = (4.*(kappa**(2.))*(Mi*R)**(2.))/((m_i*N_ij)**(4.)) - R**(2.)\n",
    "    r_star_value = (abs(r_star_quad))**(1./2.)\n",
    "    return r_star_value\n",
    "\n",
    "for i,j in zip(N_i_1_array, M_i_1_value):\n",
    "    print(r_star(i,j))"
   ]
  },
  {
   "cell_type": "code",
   "execution_count": 17,
   "id": "e96da765",
   "metadata": {},
   "outputs": [
    {
     "name": "stdout",
     "output_type": "stream",
     "text": [
      "Primordial Black holes Masses:\t m_i =  0.01 solMass \t m_j =  0.01 solMass \n",
      "\n",
      "radius \t merger_rate \t\t\t Number_Mergers at Universe's time \t time to the first Merger\n",
      "\n",
      "0.10 \t 1.0507111559651467e-15 1 / yr \t\t 1.4486034192833511e-05 \t\t 951736.3495407401 Gyr\n",
      "0.20 \t 1.252595359335207e-13 1 / yr \t\t 0.0017269388548984135 \t\t 7983.424116553749 Gyr\n",
      "0.30 \t 1.969357915388783e-12 1 / yr \t\t 0.02715131169807009 \t\t 507.7797144875943 Gyr\n",
      "0.40 \t 1.1938206835234598e-11 1 / yr \t\t 0.16459068834904772 \t\t 83.76467369023842 Gyr\n",
      "0.50 \t 3.758709440665142e-11 1 / yr \t\t 0.5182089594203139 \t\t 26.604876375414637 Gyr\n",
      "0.60 \t 6.428591735979147e-11 1 / yr \t\t 0.8863025691739198 \t\t 15.55550641679828 Gyr\n",
      "0.70 \t 5.171168054959789e-11 1 / yr \t\t 0.7129430085114725 \t\t 19.337990747387845 Gyr\n",
      "0.80 \t 1.1585791695585293e-11 1 / yr \t\t 0.159731981240011 \t\t 86.3126168910015 Gyr\n"
     ]
    }
   ],
   "source": [
    "print(\"Primordial Black holes Masses:\\t\", \"m_i = \",m_i,\"\\t m_j = \", m_j, \"\\n\")\n",
    "print(\"radius \\t merger_rate \\t\\t\\t Number_Mergers at Universe's time \\t time to the first Merger\\n\")\n",
    "\n",
    "colm1 = []\n",
    "colm2 = []\n",
    "colm3 = []\n",
    "colm4 = []\n",
    "\n",
    "for h,i,j,k in zip(r, N_i_1_array, N_j_1_array, M_j_1_value) :\n",
    "    r0 = h*u.parsec\n",
    "    colm1.append(\"%.2f\"%r0.value)\n",
    "    I, err = quad(GAMMA, h+interval, 0., args=(r0,))\n",
    "    nash_rubi = (14*math.pi/3.)*sigma*(i)*(n_j_1(r0, k)/vel_j(r0, j, k))*(alfa**(-2./7.))*(betha**(9./7.))*(etha**(-12./7.))\n",
    "    #I = I*units\n",
    "    merger = (I*nash_rubi*(u.parsec**(3.))).to(u.yr**(-1))\n",
    "    colm2.append(merger.value)\n",
    "    colm3.append((merger*(cosmo.age(0).to(u.yr))).value)\n",
    "    colm4.append(((merger**(-1.)).to(u.Gyr)).value)\n",
    "    print(\"%.2f\"%r0.value,\"\\t\",merger,\"\\t\\t\", merger*(cosmo.age(0).to(u.yr)),\"\\t\\t\",(merger**(-1.)).to(u.Gyr))#/(cosmo.age(0).to(u.yr)))\n"
   ]
  },
  {
   "cell_type": "code",
   "execution_count": 18,
   "id": "df162693",
   "metadata": {},
   "outputs": [
    {
     "name": "stdout",
     "output_type": "stream",
     "text": [
      "Primordial Black holes Masses:\t m_i =  0.01 solMass \t m_j =  0.01 solMass \n",
      "\n",
      "Merger_Rate \t\t\t | Probability \t\t | Collision Number \t |\n",
      "----------------------------------------------------------------------------------\n",
      "1.0507111559651467e-15 1 / yr  \t |  0.0000  \t\t | 0.10260824864693237  \t | \n",
      "1.252595359335207e-13 1 / yr  \t |  0.0001  \t\t | 97.66786639622849  \t | \n",
      "1.969357915388783e-12 1 / yr  \t |  0.0020  \t\t | 5101.525181276787  \t | \n",
      "1.1938206835234598e-11 1 / yr  \t |  0.0119  \t\t | 69438.83075948559  \t | \n",
      "3.758709440665142e-11 1 / yr  \t |  0.0376  \t\t | 373628.64836259105  \t | \n",
      "6.428591735979147e-11 1 / yr  \t |  0.0643  \t\t | 834645.3437208188  \t | \n",
      "5.171168054959789e-11 1 / yr  \t |  0.0517  \t\t | 616363.5175805448  \t | \n",
      "1.1585791695585293e-11 1 / yr  \t |  0.0116  \t\t | 68040.35390812326  \t | \n"
     ]
    }
   ],
   "source": [
    "number_col_array = []\n",
    "prob_array = []\n",
    "print(\"Primordial Black holes Masses:\\t\", \"m_i = \",m_i,\"\\t m_j = \", m_j, \"\\n\")\n",
    "print(\"Merger_Rate \\t\\t\\t | Probability \\t\\t | Collision Number \\t |\")\n",
    "print(\"----------------------------------------------------------------------------------\")\n",
    "for i,j in zip(colm2, N_j_1_array):\n",
    "    GAMMA_value = i*(1/u.yr)\n",
    "    Prob = GAMMA_value*(1e9*u.yr) #integration dt\n",
    "    prob_array.append(Prob)\n",
    "    Num_Col = j*Prob #numero de choques\n",
    "    number_col_array.append(Num_Col)\n",
    "    print(GAMMA_value, \" \\t | \" , \"%.4f\" %Prob, \" \\t\\t |\" , Num_Col, \" \\t | \")"
   ]
  },
  {
   "cell_type": "code",
   "execution_count": 19,
   "id": "73acc8e5",
   "metadata": {},
   "outputs": [
    {
     "name": "stdout",
     "output_type": "stream",
     "text": [
      "1\n"
     ]
    }
   ],
   "source": [
    "print(error)"
   ]
  },
  {
   "cell_type": "markdown",
   "id": "1b9ca70a",
   "metadata": {},
   "source": [
    "## SECOND GENERATION"
   ]
  },
  {
   "cell_type": "code",
   "execution_count": 20,
   "id": "8ead3de6",
   "metadata": {},
   "outputs": [
    {
     "name": "stdout",
     "output_type": "stream",
     "text": [
      "PBHs con 0.02 solMass  \t PBHs con 0.01 solMass\n",
      "0 \t\t\t 195312\n",
      "98 \t\t\t 1559252\n",
      "5102 \t\t\t 5170698\n",
      "69439 \t\t\t 11494164\n",
      "373629 \t\t\t 19133430\n",
      "834645 \t\t\t 24297372\n",
      "616364 \t\t\t 22605736\n",
      "68040 \t\t\t 11609402\n"
     ]
    }
   ],
   "source": [
    "Ni_2_values = []\n",
    "Nj_2_values = []\n",
    "print(\"PBHs con\", 2*m_i,\" \\t PBHs con\", m_i)# \\t  Number_pbhs at cluster\")\n",
    "for h, i, j in zip(number_col_array, N_i_1_array, N_j_1_array):\n",
    "    number_binarys = round(float(h))\n",
    "    N_j_2 = number_binarys #PBHs de (m_i+m_j) masas solares\n",
    "    N_i_2 = i + (j - 2*round(float(h))) #PBHs\n",
    "    Ni_2_values.append(N_i_2)\n",
    "    Nj_2_values.append(N_j_2)\n",
    "        #Nt = (N_i + N_j - N_j_2) #Numero de agujeros negros totales en el cluster\n",
    "    print(N_j_2,\"\\t\\t\\t\", N_i_2)"
   ]
  },
  {
   "cell_type": "code",
   "execution_count": 21,
   "id": "2c54997b",
   "metadata": {},
   "outputs": [
    {
     "name": "stdout",
     "output_type": "stream",
     "text": [
      "M =\t 1000000.0 solMass\n",
      "R =\t 0.8 pc\n",
      "v_rel =\t 2.376211020168181e-12 pc / s\n",
      "m_i_2 =\t 0.01 solMass\n",
      "m_j_2 =\t 0.02 solMass\n",
      "\n",
      "\n"
     ]
    }
   ],
   "source": [
    "Ei_2_array = []\n",
    "Ej_2_array = []\n",
    "m_j_2 = 2.*m_j\n",
    "for i,j in zip (Ni_2_values, Nj_2_values):\n",
    "    Energy_mi2 = G*(m_i*i)**(2.)/((2*R)*(1*u.M_sun)) #According to the virial theorem, the total energy\n",
    "    Energy_mj2 = G*((m_j_2)*j)**(2.)/((2*R)*(1*u.M_sun)) #According to the virial theorem, the total energy\n",
    "    Ei_2_array.append(Energy_mi2.to(u.parsec**2.*u.s**(-2.)))\n",
    "    Ej_2_array.append(Energy_mj2.to(u.parsec**2.*u.s**(-2.)))\n",
    "    \n",
    "print(\"M =\\t\", M)\n",
    "print(\"R =\\t\", R)\n",
    "print(\"v_rel =\\t\", v_rel.to(u.parsec* u.s**(-1)))\n",
    "print(\"m_i_2 =\\t\", m_i)\n",
    "print(\"m_j_2 =\\t\", m_j_2)\n",
    "#print(\"E =\\t\", Energy.to(u.parsec**2.*u.s**(-2.)))\n",
    "#print(\"Energy to m_i = \\t\", Energy_mi.to(u.parsec**2.*u.s**(-2.)))\n",
    "#print(\"Energy to m_j_2 = \\t\", Energy_mj2.to(u.parsec**2.*u.s**(-2.)))\n",
    "print(\"\\n\")\n",
    "#print(Ei_2_array,\"\\n\",Ej_2_array)"
   ]
  },
  {
   "cell_type": "code",
   "execution_count": 22,
   "id": "dab75b53",
   "metadata": {},
   "outputs": [
    {
     "name": "stdout",
     "output_type": "stream",
     "text": [
      "M_i \t\t\t M_j\n",
      "195312.0 solMass \t\t 0.0 solMass \t \n",
      "1559252.0 solMass \t\t 196.0 solMass \t \n",
      "5170698.0 solMass \t\t 10204.0 solMass \t \n",
      "11494164.0 solMass \t\t 138878.0 solMass \t \n",
      "19133430.0 solMass \t\t 747258.0 solMass \t \n",
      "24297372.0 solMass \t\t 1669290.0 solMass \t \n",
      "22605736.0 solMass \t\t 1232728.0 solMass \t \n",
      "11609402.0 solMass \t\t 136080.0 solMass \t \n"
     ]
    }
   ],
   "source": [
    "print(\"M_i \\t\\t\\t M_j\")# \\t\\t\\t  vel_rel_i \\t\\t\\t  vel_rel_j\")\n",
    "Mi_array = []\n",
    "Mj_array = []\n",
    "for i,j in zip(Ni_2_values, Nj_2_values):\n",
    "    Mi = i*u.M_sun\n",
    "    Mj = j*2*u.M_sun\n",
    "    Mi_array.append(Mi)\n",
    "    Mj_array.append(Mj)\n",
    "    print(Mi,\"\\t\\t\",Mj,\"\\t \")#, v_ri.to(u.km/u.s),\" \\t \",v_rj.to(u.km/u.s))"
   ]
  },
  {
   "cell_type": "code",
   "execution_count": 23,
   "id": "8822a1c9",
   "metadata": {},
   "outputs": [
    {
     "name": "stdout",
     "output_type": "stream",
     "text": [
      "4.963594304558011e-31 pc(32/7) / yr(18/7)\n"
     ]
    }
   ],
   "source": [
    "sigma_2 = 2*math.pi*(85*math.pi/(6*math.sqrt(2)))**(2./7.) * (G**(2.) * (m_i+m_j_2)**(10./7.) * m_i**(2./7.) * m_j_2**(2./7.))/(c**(10./7.))\n",
    "sigma_2 = sigma.to(u.parsec**(32./7)/u.yr**(18./7.))#.to(u.parsec**2)\n",
    "#print(m_i, m_j_2)\n",
    "print(sigma_2)"
   ]
  },
  {
   "cell_type": "code",
   "execution_count": 24,
   "id": "17dec4ea",
   "metadata": {},
   "outputs": [],
   "source": [
    "def f_i2(E, Ni_2): ## eq. 19 shapiro\n",
    "    return (24. * (2.)**(1./2.) * Ni_2 * R**2. * E**(7./2.))/(7*(math.pi**(3.))*(G**5.)*(M**5.))\n",
    "\n",
    "def f_j2(E, Nj_2):\n",
    "    return (24. * (2.)**(1./2.) * Nj_2 * R**2. * E**(7./2.))/(7*(math.pi**(3.))*(G**5.)*(M**5.))\n",
    "\n",
    "def rho_i2(r, M_i):## eq. 20\n",
    "    return ((3*M_i)/(4*(math.pi)*(R**(3.))))*((1 + r**(2.)/R**(2.))**(-5./2.))\n",
    "\n",
    "def rho_j2(r, M_j):## eq. 20\n",
    "    return ((3*M_j)/(4*(math.pi)*(R**(3.))))*((1 + r**(2.)/R**(2.))**(-5./2.))\n",
    "\n",
    "#def integrant(E):\n",
    "#    return E**(7./2.)*((2*(a - E))**(3./2.))"
   ]
  },
  {
   "cell_type": "code",
   "execution_count": 25,
   "id": "e73580af",
   "metadata": {},
   "outputs": [
    {
     "name": "stdout",
     "output_type": "stream",
     "text": [
      "N_i \t\t f_i2 \t\t\t\t\t\t N_j \t\t f_j2\n",
      "195312 \t 4.936018344957509e-59 s3 / m6  \t\t  0 \t 0.0 s3 / m6\n",
      "1559252 \t 8.144713751568196e-52 s3 / m6  \t\t  98 \t 2.538422581040475e-83 s3 / m6\n",
      "5170698 \t 1.1910739656879121e-47 s3 / m6  \t\t  5102 \t 1.3698687267481804e-69 s3 / m6\n",
      "11494164 \t 7.101734997656384e-45 s3 / m6  \t\t  69439 \t 1.6128091548800765e-60 s3 / m6\n",
      "19133430 \t 4.186855785167441e-43 s3 / m6  \t\t  373629 \t 1.1331305204971562e-54 s3 / m6\n",
      "24297372 \t 2.8315208935063837e-42 s3 / m6  \t\t  834645 \t 7.026995660683887e-52 s3 / m6\n",
      "22605736 \t 1.5896245396741333e-42 s3 / m6  \t\t  616364 \t 6.215176070858545e-53 s3 / m6\n",
      "11609402 \t 7.691732034232211e-45 s3 / m6  \t\t  68040 \t 1.370470704661881e-60 s3 / m6\n",
      "\n",
      "\n",
      "M_i \t\t\t rho_i2 \t\t\t\t M_j \t\t\t  rho_j2\n",
      "195312.0 solMass \t 87606.61503846092 solMass / pc3 \t 0.0 solMass \t 0.0 solMass / pc3\n",
      "1559252.0 solMass \t 624791.9030494882 solMass / pc3 \t 196.0 solMass \t 78.53715306935612 solMass / pc3\n",
      "5170698.0 solMass \t 1735135.4686220516 solMass / pc3 \t 10204.0 solMass \t 3424.164846181195 solMass / pc3\n",
      "11494164.0 solMass \t 3067918.276160307 solMass / pc3 \t 138878.0 solMass \t 37068.059439259014 solMass / pc3\n",
      "19133430.0 solMass \t 3912093.0849847533 solMass / pc3 \t 747258.0 solMass \t 152787.18214661654 solMass / pc3\n",
      "24297372.0 solMass \t 3712364.9836249063 solMass / pc3 \t 1669290.0 solMass \t 255048.72475571517 solMass / pc3\n",
      "22605736.0 solMass \t 2544567.098326484 solMass / pc3 \t 1232728.0 solMass \t 138759.43300345584 solMass / pc3\n",
      "11609402.0 solMass \t 956921.4515466557 solMass / pc3 \t 136080.0 solMass \t 11216.587307982696 solMass / pc3\n"
     ]
    }
   ],
   "source": [
    "print(\"N_i \\t\\t f_i2 \\t\\t\\t\\t\\t\\t N_j \\t\\t f_j2\")\n",
    "for h,i,j,k,l in zip (r, Ni_2_values, Nj_2_values, Ei_2_array, Ej_2_array):\n",
    "    h = h*u.parsec\n",
    "    print(i,\"\\t\",f_i2(k, i).to(u.s**3./(u.m**6.)),\" \\t\\t \",j,\"\\t\",f_j2(l, j).to(u.s**3./(u.m**6.)))\n",
    "print(\"\\n\")\n",
    "print(\"M_i \\t\\t\\t rho_i2 \\t\\t\\t\\t M_j \\t\\t\\t  rho_j2\")\n",
    "for h,k,l in zip (r, Mi_array, Mj_array):\n",
    "    h = h*u.parsec\n",
    "    print(k,\"\\t\",rho_i2(h,k),\"\\t\",l,\"\\t\",rho_j2(h,l))"
   ]
  },
  {
   "cell_type": "code",
   "execution_count": 26,
   "id": "b12e3248",
   "metadata": {},
   "outputs": [],
   "source": [
    "def n_i_2(r, M_i):\n",
    "    return (rho_i2(r, M_i)/m_i)\n",
    "\n",
    "def n_j_2(r, M_j):\n",
    "    return (rho_j2(r, M_j)/m_j_2)"
   ]
  },
  {
   "cell_type": "code",
   "execution_count": 27,
   "id": "f4b8d90b",
   "metadata": {},
   "outputs": [
    {
     "name": "stdout",
     "output_type": "stream",
     "text": [
      "5.164606142190774 km / s \t nan km / s\n",
      "5.106676165368744 km / s \t 5.106676165368746 km / s\n",
      "5.01689291933113 km / s \t 5.016892919331132 km / s\n",
      "4.903351757064738 km / s \t 4.903351757064738 km / s\n",
      "4.774391682885477 km / s \t 4.774391682885477 km / s\n",
      "4.637303780234957 km / s \t 4.637303780234956 km / s\n",
      "4.4977564568985615 km / s \t 4.497756456898562 km / s\n",
      "4.3597647348832 km / s \t 4.359764734883201 km / s\n"
     ]
    },
    {
     "name": "stderr",
     "output_type": "stream",
     "text": [
      "/home/thaddaios/.local/lib/python3.8/site-packages/astropy/units/quantity.py:486: RuntimeWarning: divide by zero encountered in true_divide\n",
      "  result = super().__array_ufunc__(function, method, *arrays, **kwargs)\n",
      "/home/thaddaios/.local/lib/python3.8/site-packages/astropy/units/quantity.py:486: RuntimeWarning: invalid value encountered in multiply\n",
      "  result = super().__array_ufunc__(function, method, *arrays, **kwargs)\n"
     ]
    }
   ],
   "source": [
    "alfa_2 = ((4*24*(2**(1/2))*(R**(2.)))/(math.pi*(G**(5.))*(M**(5.))*(2**(17./2.))))\n",
    "\n",
    "def vel_i2(r, N_i_2, M_i):\n",
    "    return (alfa_2**(1./2.))*(N_i_2**(1./2.))*((phi(r)**(3))/(n_i_2(r, M_i)**(1./2.)))\n",
    "\n",
    "def vel_j2(r, N_j_2, M_j):\n",
    "    return (alfa_2**(1./2.))*(N_j_2**(1./2.))*((phi(r)**(3))/(n_j_2(r, M_j)**(1./2.)))\n",
    "\n",
    "\n",
    "for h,i,j,k,l in zip(r, Ni_2_values, Nj_2_values, Mi_array, Mj_array):\n",
    "    h = h*u.parsec\n",
    "    print(vel_i2(h,i,k).to(u.km/u.s), \"\\t\",vel_j2(h,j,l).to(u.km/u.s))\n",
    "\n",
    "#print(\"\\n\")\n",
    "#for h in r:\n",
    "    #h = h*u.parsec\n",
    "    #print(\"r = \",\"%.2f\"%h.value)\n",
    "    #print(\"vel_rel = \")\n",
    "    #for i,j,k,l in zip(Ni_2_values, Nj_2_values, Mi_array, Mj_array):\n",
    "    #    print(vel_i2(h,i,k).to(u.km/u.s), \"\\t\", vel_j2(h,j,l).to(u.km/u.s))"
   ]
  },
  {
   "cell_type": "code",
   "execution_count": 28,
   "id": "e77539cf",
   "metadata": {},
   "outputs": [],
   "source": [
    "#CONSTANTS SECOND GENERATION\n",
    "betha_2 = (3./(4*math.pi*(R**(3.))))\n",
    "etha_2 = (G*M/R)\n",
    "#zetha2 = alfa**(-1./2.) * betha**(3./2.) * etha**(-3.) * alfa**(3./14.) * etha**(9./7.) * betha**(-3./14.)\n",
    "#print(zetha)"
   ]
  },
  {
   "cell_type": "code",
   "execution_count": 29,
   "id": "8ea22a09",
   "metadata": {},
   "outputs": [
    {
     "name": "stdout",
     "output_type": "stream",
     "text": [
      "Black holes Masses:\t 0.01 solMass 0.02 solMass \n",
      "\n",
      "radius \t merger_rate \t\t\t Number_Mergers at Universe's time \t time to the first Merger\n",
      "\n",
      "0.10 \t nan 1 / yr \t\t nan \t\t nan Gyr\n",
      "0.20 \t 3.1482657138608815e-14 1 / yr \t\t 0.0004340477829724969 \t\t 31763.519692677026 Gyr\n",
      "0.30 \t 7.74218450441545e-12 1 / yr \t\t 0.10674060974937268 \t\t 129.16251213461646 Gyr\n",
      "0.40 \t 2.816393578565641e-10 1 / yr \t\t 3.8829295233001164 \t\t 3.550640108011073 Gyr\n",
      "0.50 \t 2.7193764741299444e-09 1 / yr \t\t 37.49173154181312 \t\t 0.36773135662282536 Gyr\n",
      "0.60 \t 7.734009232106512e-09 1 / yr \t\t 106.62789820773666 \t\t 0.129299044000188 Gyr\n",
      "0.70 \t 5.071635370291485e-09 1 / yr \t\t 69.92205514382424 \t\t 0.19717505833676022 Gyr\n",
      "0.80 \t 2.653494395694931e-10 1 / yr \t\t 3.6583422882971575 \t\t 3.7686154590053595 Gyr\n"
     ]
    }
   ],
   "source": [
    "def GAMMA_2(r1,r0): #Equation (11)\n",
    "    a=(r1**(2.)/((R.value)**(2.)))\n",
    "    b=(r0**(2.)/(R**(2.)))\n",
    "    return (r1**(2.))*((1.+(a))**(-9./4.))*(1./((1. + a)**(1./4.)) + 1./((1. + b)**(1./4.)))**(3./7.) - abs((1./((1. + a)**(1./4.)) - 1./((1. + b)**(1./4.))))**(3./7.)\n",
    "\n",
    "\n",
    "\n",
    "colm1_2gnd = []\n",
    "colm2_2gnd = []\n",
    "colm3_2gnd = []\n",
    "colm4_2gnd = []\n",
    "print(\"Black holes Masses:\\t\", m_i, m_j_2, \"\\n\")\n",
    "print(\"radius \\t merger_rate \\t\\t\\t Number_Mergers at Universe's time \\t time to the first Merger\\n\")\n",
    "\n",
    "for h,i,j,k in zip(r, Ni_2_values, Nj_2_values, Mj_array) :\n",
    "    r0 = h*u.parsec\n",
    "    colm1_2gnd.append(\"%.2f\"%r0.value)\n",
    "    I, err = quad(GAMMA_2, h+interval, 0., args=(r0,))\n",
    "    nash_rubi = (14*math.pi/3.)*sigma_2*(i)*(n_j_2(r0, k)/vel_j2(r0, j, k))*(alfa_2**(-2./7.))*(betha_2**(9./7.))*(etha_2**(-12./7.))\n",
    "    #I = I*units\n",
    "    merger2 = (I*nash_rubi*(u.parsec**(3.))).to(u.yr**(-1))\n",
    "    colm2_2gnd.append(merger2.value)\n",
    "    colm3_2gnd.append((merger2*(cosmo.age(0).to(u.yr))).value)\n",
    "    colm4_2gnd.append(((merger2**(-1.)).to(u.Gyr)).value)\n",
    "    #print(\"%.2f\"%r0.value,\"\\t\",merger*u.parsec**(3))\n",
    "    print(\"%.2f\"%r0.value,\"\\t\",merger2,\"\\t\\t\", merger2*(cosmo.age(0).to(u.yr)),\"\\t\\t\",(merger2**(-1.)).to(u.Gyr))#/(cosmo.age(0).to(u.yr)))"
   ]
  },
  {
   "cell_type": "code",
   "execution_count": 30,
   "id": "df20ae35",
   "metadata": {},
   "outputs": [
    {
     "name": "stdout",
     "output_type": "stream",
     "text": [
      "Black holes Masses:\t 0.01 solMass 0.02 solMass\n",
      "Merger_Rate \t\t\t | Probability \t\t | Collision Number \t |\n",
      "----------------------------------------------------------------------------------\n",
      "nan 1 / yr  \t |  nan  \t\t | nan  \t | \n",
      "3.1482657138608815e-14 1 / yr  \t |  0.0000  \t\t | 3.085300399583664e-06  \t | \n",
      "7.74218450441545e-12 1 / yr  \t |  0.0000  \t\t | 0.03950062534152762  \t | \n",
      "2.816393578565641e-10 1 / yr  \t |  0.0003  \t\t | 19.556755370201955  \t | \n",
      "2.7193764741299444e-09 1 / yr  \t |  0.0027  \t\t | 1016.0379126526971  \t | \n",
      "7.734009232106512e-09 1 / yr  \t |  0.0077  \t\t | 6455.15213553154  \t | \n",
      "5.071635370291485e-09 1 / yr  \t |  0.0051  \t\t | 3125.973463374341  \t | \n",
      "2.653494395694931e-10 1 / yr  \t |  0.0003  \t\t | 18.05437586830831  \t | \n"
     ]
    }
   ],
   "source": [
    "number_col_array_2 = []\n",
    "prob2_array = []\n",
    "print(\"Black holes Masses:\\t\", m_i, m_j_2)\n",
    "print(\"Merger_Rate \\t\\t\\t | Probability \\t\\t | Collision Number \\t |\")\n",
    "print(\"----------------------------------------------------------------------------------\")\n",
    "for i,j in zip(colm2_2gnd, Nj_2_values):\n",
    "    GAMMA_value_2 = i*(1/u.yr)\n",
    "    Prob_2 = GAMMA_value_2*(1e6*u.yr) #integration dt\n",
    "    prob2_array.append(Prob_2)\n",
    "    Num_Col_2 = j*Prob_2 #numero de choques second generation\n",
    "    number_col_array_2.append(Num_Col_2)\n",
    "    print(GAMMA_value_2, \" \\t | \" , \"%.4f\" %Prob_2, \" \\t\\t |\" , Num_Col_2, \" \\t | \")"
   ]
  },
  {
   "cell_type": "code",
   "execution_count": 31,
   "id": "a91d2f75",
   "metadata": {},
   "outputs": [
    {
     "name": "stdout",
     "output_type": "stream",
     "text": [
      "Merger_Rate\n",
      "\n",
      "1st Generation \t\t|\t 2nd Generation\n",
      "-----------------------------------------------------------------\n",
      "1.0507111559651467e-15 \t|\t nan  \t|\n",
      "1.252595359335207e-13 \t|\t 3.1482657138608815e-14  \t|\n",
      "1.969357915388783e-12 \t|\t 7.74218450441545e-12  \t|\n",
      "1.1938206835234598e-11 \t|\t 2.816393578565641e-10  \t|\n",
      "3.758709440665142e-11 \t|\t 2.7193764741299444e-09  \t|\n",
      "6.428591735979147e-11 \t|\t 7.734009232106512e-09  \t|\n",
      "5.171168054959789e-11 \t|\t 5.071635370291485e-09  \t|\n",
      "1.1585791695585293e-11 \t|\t 2.653494395694931e-10  \t|\n",
      "\n",
      "\n",
      "\n",
      "\n",
      "\n",
      "Probabilities\n",
      "\n",
      "1st Generation \t|\t 2nd Generation |\t TOTAL % \t\t|\n",
      "0.0000 \t\t|\t nan \t|\t nan \t|\n",
      "0.0001 \t\t|\t 0.0000 \t|\t 0.01 \t|\n",
      "0.0020 \t\t|\t 0.0000 \t|\t 0.20 \t|\n",
      "0.0119 \t\t|\t 0.0003 \t|\t 1.22 \t|\n",
      "0.0376 \t\t|\t 0.0027 \t|\t 4.03 \t|\n",
      "0.0643 \t\t|\t 0.0077 \t|\t 7.20 \t|\n",
      "0.0517 \t\t|\t 0.0051 \t|\t 5.68 \t|\n",
      "0.0116 \t\t|\t 0.0003 \t|\t 1.19 \t|\n"
     ]
    }
   ],
   "source": [
    "print(\"Merger_Rate\\n\")\n",
    "print(\"1st Generation \\t\\t|\\t 2nd Generation\")\n",
    "print(\"-----------------------------------------------------------------\")\n",
    "for a,b in zip(colm2, colm2_2gnd):\n",
    "    print(a, \"\\t|\\t\", b, \" \\t|\")\n",
    "print(4*\"\\n\")\n",
    "print(\"Probabilities\\n\")\n",
    "print(\"1st Generation \\t|\\t 2nd Generation |\\t TOTAL % \\t\\t|\")\n",
    "for c,d in zip(prob_array, prob2_array):\n",
    "    print(\"%.4f\" %c, \"\\t\\t|\\t\", \"%.4f\" %d, \"\\t|\\t\", \"%.2f\" %(100.*(c + d)),\"\\t|\")"
   ]
  },
  {
   "cell_type": "code",
   "execution_count": 32,
   "id": "6adf255b",
   "metadata": {},
   "outputs": [],
   "source": [
    "##f = open(\"MR_T0.1.txt\", \"w\")\n",
    "#f.write(\"Mpbh = 0.1 u.Solar Mass\")\n",
    "#f.write(\"\\n\")\n",
    "#f.write(\"radius \\t merger_rate \\t Number_Mergers at Universe's time \\t time to the first Merger\")\n",
    "#f.write(\"\\n\")\n",
    "#for i in range(len(r)):\n",
    "#    print(colm1[i],\"\\t \",colm2[i],\"\\t \",colm3[i],\"\\t \",colm4[i], file=f)\n",
    "#f.close()"
   ]
  },
  {
   "cell_type": "code",
   "execution_count": 33,
   "id": "0eae4250",
   "metadata": {},
   "outputs": [],
   "source": [
    "#read_file = pd.read_csv (r\"MR_T0.1.txt\")\n",
    "#read_file.to_csv (r\"MR_T0.1.csv\", index=None)"
   ]
  },
  {
   "cell_type": "code",
   "execution_count": null,
   "id": "1c841bae",
   "metadata": {},
   "outputs": [],
   "source": []
  },
  {
   "cell_type": "code",
   "execution_count": null,
   "id": "2462c4d2",
   "metadata": {},
   "outputs": [],
   "source": []
  }
 ],
 "metadata": {
  "kernelspec": {
   "display_name": "Python 3 (ipykernel)",
   "language": "python",
   "name": "python3"
  },
  "language_info": {
   "codemirror_mode": {
    "name": "ipython",
    "version": 3
   },
   "file_extension": ".py",
   "mimetype": "text/x-python",
   "name": "python",
   "nbconvert_exporter": "python",
   "pygments_lexer": "ipython3",
   "version": "3.8.10"
  }
 },
 "nbformat": 4,
 "nbformat_minor": 5
}
